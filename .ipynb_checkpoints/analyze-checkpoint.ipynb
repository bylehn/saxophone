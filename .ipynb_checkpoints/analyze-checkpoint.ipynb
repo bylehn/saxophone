{
 "cells": [
  {
   "cell_type": "code",
   "execution_count": 1,
   "metadata": {},
   "outputs": [],
   "source": [
    "import os\n",
    "import numpy as np\n",
    "import matplotlib.pyplot as plt"
   ]
  },
  {
   "cell_type": "code",
   "execution_count": 3,
   "metadata": {},
   "outputs": [
    {
     "ename": "KeyError",
     "evalue": "'perturbation is not a file in the archive'",
     "output_type": "error",
     "traceback": [
      "\u001b[0;31m---------------------------------------------------------------------------\u001b[0m",
      "\u001b[0;31mKeyError\u001b[0m                                  Traceback (most recent call last)",
      "\u001b[0;32m/tmp/ipykernel_5525/846951721.py\u001b[0m in \u001b[0;36m<module>\u001b[0;34m\u001b[0m\n\u001b[1;32m     31\u001b[0m \u001b[0;31m# Replace 'your/root/directory/path' with the path to the directory you want to start from\u001b[0m\u001b[0;34m\u001b[0m\u001b[0;34m\u001b[0m\u001b[0m\n\u001b[1;32m     32\u001b[0m \u001b[0mroot_path\u001b[0m \u001b[0;34m=\u001b[0m \u001b[0;34m'./'\u001b[0m\u001b[0;34m\u001b[0m\u001b[0;34m\u001b[0m\u001b[0m\n\u001b[0;32m---> 33\u001b[0;31m \u001b[0minfo1_list\u001b[0m\u001b[0;34m,\u001b[0m \u001b[0minfo2_list\u001b[0m \u001b[0;34m=\u001b[0m \u001b[0mfind_and_extract_npz\u001b[0m\u001b[0;34m(\u001b[0m\u001b[0mroot_path\u001b[0m\u001b[0;34m)\u001b[0m\u001b[0;34m\u001b[0m\u001b[0;34m\u001b[0m\u001b[0m\n\u001b[0m\u001b[1;32m     34\u001b[0m \u001b[0;34m\u001b[0m\u001b[0m\n\u001b[1;32m     35\u001b[0m \u001b[0;31m# Concatenate the lists so each of the first entries becomes different columns\u001b[0m\u001b[0;34m\u001b[0m\u001b[0;34m\u001b[0m\u001b[0m\n",
      "\u001b[0;32m/tmp/ipykernel_5525/846951721.py\u001b[0m in \u001b[0;36mfind_and_extract_npz\u001b[0;34m(root_path)\u001b[0m\n\u001b[1;32m     18\u001b[0m             \u001b[0;32mif\u001b[0m \u001b[0mfile\u001b[0m\u001b[0;34m.\u001b[0m\u001b[0mendswith\u001b[0m\u001b[0;34m(\u001b[0m\u001b[0;34m'.npz'\u001b[0m\u001b[0;34m)\u001b[0m\u001b[0;34m:\u001b[0m\u001b[0;34m\u001b[0m\u001b[0;34m\u001b[0m\u001b[0m\n\u001b[1;32m     19\u001b[0m                 \u001b[0mnpz_path\u001b[0m \u001b[0;34m=\u001b[0m \u001b[0mos\u001b[0m\u001b[0;34m.\u001b[0m\u001b[0mpath\u001b[0m\u001b[0;34m.\u001b[0m\u001b[0mjoin\u001b[0m\u001b[0;34m(\u001b[0m\u001b[0mroot\u001b[0m\u001b[0;34m,\u001b[0m \u001b[0mfile\u001b[0m\u001b[0;34m)\u001b[0m\u001b[0;34m\u001b[0m\u001b[0;34m\u001b[0m\u001b[0m\n\u001b[0;32m---> 20\u001b[0;31m                 \u001b[0minfo1\u001b[0m\u001b[0;34m,\u001b[0m \u001b[0minfo2\u001b[0m \u001b[0;34m=\u001b[0m \u001b[0mextract_data_from_npz\u001b[0m\u001b[0;34m(\u001b[0m\u001b[0mnpz_path\u001b[0m\u001b[0;34m)\u001b[0m\u001b[0;34m\u001b[0m\u001b[0;34m\u001b[0m\u001b[0m\n\u001b[0m\u001b[1;32m     21\u001b[0m \u001b[0;34m\u001b[0m\u001b[0m\n\u001b[1;32m     22\u001b[0m                 \u001b[0;31m# Append the extracted information to the lists\u001b[0m\u001b[0;34m\u001b[0m\u001b[0;34m\u001b[0m\u001b[0m\n",
      "\u001b[0;32m/tmp/ipykernel_5525/846951721.py\u001b[0m in \u001b[0;36mextract_data_from_npz\u001b[0;34m(npz_path)\u001b[0m\n\u001b[1;32m      4\u001b[0m     \u001b[0;32mwith\u001b[0m \u001b[0mnp\u001b[0m\u001b[0;34m.\u001b[0m\u001b[0mload\u001b[0m\u001b[0;34m(\u001b[0m\u001b[0mnpz_path\u001b[0m\u001b[0;34m)\u001b[0m \u001b[0;32mas\u001b[0m \u001b[0mdata\u001b[0m\u001b[0;34m:\u001b[0m\u001b[0;34m\u001b[0m\u001b[0;34m\u001b[0m\u001b[0m\n\u001b[1;32m      5\u001b[0m         \u001b[0minfo1\u001b[0m \u001b[0;34m=\u001b[0m \u001b[0mdata\u001b[0m\u001b[0;34m[\u001b[0m\u001b[0;34m'poisson'\u001b[0m\u001b[0;34m]\u001b[0m\u001b[0;34m\u001b[0m\u001b[0;34m\u001b[0m\u001b[0m\n\u001b[0;32m----> 6\u001b[0;31m         \u001b[0minfo2\u001b[0m \u001b[0;34m=\u001b[0m \u001b[0mdata\u001b[0m\u001b[0;34m[\u001b[0m\u001b[0;34m'perturbation'\u001b[0m\u001b[0;34m]\u001b[0m\u001b[0;34m\u001b[0m\u001b[0;34m\u001b[0m\u001b[0m\n\u001b[0m\u001b[1;32m      7\u001b[0m \u001b[0;34m\u001b[0m\u001b[0m\n\u001b[1;32m      8\u001b[0m     \u001b[0;32mreturn\u001b[0m \u001b[0minfo1\u001b[0m\u001b[0;34m,\u001b[0m \u001b[0minfo2\u001b[0m\u001b[0;34m\u001b[0m\u001b[0;34m\u001b[0m\u001b[0m\n",
      "\u001b[0;32m~/.local/lib/python3.10/site-packages/numpy/lib/npyio.py\u001b[0m in \u001b[0;36m__getitem__\u001b[0;34m(self, key)\u001b[0m\n\u001b[1;32m    261\u001b[0m                 \u001b[0;32mreturn\u001b[0m \u001b[0mself\u001b[0m\u001b[0;34m.\u001b[0m\u001b[0mzip\u001b[0m\u001b[0;34m.\u001b[0m\u001b[0mread\u001b[0m\u001b[0;34m(\u001b[0m\u001b[0mkey\u001b[0m\u001b[0;34m)\u001b[0m\u001b[0;34m\u001b[0m\u001b[0;34m\u001b[0m\u001b[0m\n\u001b[1;32m    262\u001b[0m         \u001b[0;32melse\u001b[0m\u001b[0;34m:\u001b[0m\u001b[0;34m\u001b[0m\u001b[0;34m\u001b[0m\u001b[0m\n\u001b[0;32m--> 263\u001b[0;31m             \u001b[0;32mraise\u001b[0m \u001b[0mKeyError\u001b[0m\u001b[0;34m(\u001b[0m\u001b[0;34mf\"{key} is not a file in the archive\"\u001b[0m\u001b[0;34m)\u001b[0m\u001b[0;34m\u001b[0m\u001b[0;34m\u001b[0m\u001b[0m\n\u001b[0m\u001b[1;32m    264\u001b[0m \u001b[0;34m\u001b[0m\u001b[0m\n\u001b[1;32m    265\u001b[0m     \u001b[0;32mdef\u001b[0m \u001b[0m__contains__\u001b[0m\u001b[0;34m(\u001b[0m\u001b[0mself\u001b[0m\u001b[0;34m,\u001b[0m \u001b[0mkey\u001b[0m\u001b[0;34m)\u001b[0m\u001b[0;34m:\u001b[0m\u001b[0;34m\u001b[0m\u001b[0;34m\u001b[0m\u001b[0m\n",
      "\u001b[0;31mKeyError\u001b[0m: 'perturbation is not a file in the archive'"
     ]
    }
   ],
   "source": [
    "\n",
    "def extract_data_from_npz(npz_path):\n",
    "    # This function opens an npz file and extracts two pieces of information.\n",
    "    # You need to replace 'key1' and 'key2' with the actual keys you're interested in.\n",
    "    with np.load(npz_path) as data:\n",
    "        info1 = data['poisson']\n",
    "        info2 = data['perturbation']\n",
    "\n",
    "    return info1, info2\n",
    "\n",
    "def find_and_extract_npz(root_path):\n",
    "    # Initialize lists to store the extracted information\n",
    "    info1_list = []\n",
    "    info2_list = []\n",
    "\n",
    "    \n",
    "    for root, dirs, files in os.walk(root_path):\n",
    "        for file in files:\n",
    "            if file.endswith('.npz'):\n",
    "                npz_path = os.path.join(root, file)\n",
    "                info1, info2 = extract_data_from_npz(npz_path)\n",
    "                \n",
    "                # Append the extracted information to the lists\n",
    "                info1_list.append(info1)\n",
    "                info2_list.append(info2)\n",
    "\n",
    "                \n",
    "    # At this point, info1_list and info2_list contain all the extracted information\n",
    "    # You can return them, save them, or process them further as needed\n",
    "    return info1_list, info2_list, info3_list\n",
    "\n",
    "# Replace 'your/root/directory/path' with the path to the directory you want to start from\n",
    "root_path = './'\n",
    "info1_list, info2_list = find_and_extract_npz(root_path)\n",
    "\n",
    "# Concatenate the lists so each of the first entries becomes different columns\n",
    "for info1, info2, info3 in zip(info1_list, info2_list):\n",
    "    print(f\"{info1}, {info2}\")\n",
    "\n"
   ]
  },
  {
   "cell_type": "code",
   "execution_count": 29,
   "metadata": {},
   "outputs": [
    {
     "name": "stdout",
     "output_type": "stream",
     "text": [
      "[[ 1.00000000e-01 -6.65191303e-02  0.00000000e+00]\n",
      " [ 1.00000000e-01 -7.84611002e-02  1.00000000e+00]\n",
      " [ 1.00000000e-01 -1.00000000e+01  1.00000000e+00]\n",
      " [ 1.00000000e-01 -3.45048404e-02  1.00000000e+00]\n",
      " [ 1.00000000e-01 -9.71722215e-03  1.00000000e+00]\n",
      " [ 2.00000000e-01 -2.67233779e-02  1.00000000e+00]\n",
      " [ 2.00000000e-01 -7.27115339e-02  1.00000000e+00]\n",
      " [ 2.00000000e-01 -1.00000000e+01  1.00000000e+00]\n",
      " [ 2.00000000e-01 -6.67299788e-02  0.00000000e+00]\n",
      " [ 2.00000000e-01 -9.17349317e-02  0.00000000e+00]\n",
      " [ 5.00000000e-01 -8.27829134e-02  0.00000000e+00]\n",
      " [ 5.00000000e-01 -1.25763471e-01  0.00000000e+00]\n",
      " [ 5.00000000e-01 -1.07346136e-01  0.00000000e+00]\n",
      " [ 5.00000000e-01 -7.66160337e-02  0.00000000e+00]\n",
      " [ 5.00000000e-01 -1.00048431e-01  0.00000000e+00]\n",
      " [ 8.00000000e-01 -9.04396266e-02  0.00000000e+00]\n",
      " [ 8.00000000e-01 -1.33674665e-01  0.00000000e+00]\n",
      " [ 8.00000000e-01 -1.19186668e-01  0.00000000e+00]\n",
      " [ 8.00000000e-01 -8.28981410e-02  0.00000000e+00]\n",
      " [ 8.00000000e-01 -1.16000018e-01  0.00000000e+00]\n",
      " [ 1.00000000e+00 -9.43831180e-02  0.00000000e+00]\n",
      " [ 1.00000000e+00 -1.46609241e-01  0.00000000e+00]\n",
      " [ 1.00000000e+00 -1.25080585e-01  0.00000000e+00]\n",
      " [ 1.00000000e+00 -8.71502233e-02  0.00000000e+00]\n",
      " [ 1.00000000e+00 -1.22671031e-01  0.00000000e+00]\n",
      " [ 1.50000000e+00 -1.05604835e-01  0.00000000e+00]\n",
      " [ 1.50000000e+00 -1.75405914e-01  0.00000000e+00]\n",
      " [ 1.50000000e+00 -1.33290770e-01  0.00000000e+00]\n",
      " [ 1.50000000e+00 -9.85493227e-02  0.00000000e+00]\n",
      " [ 1.50000000e+00 -1.28110976e-01  1.00000000e+00]\n",
      " [ 1.80000000e+00 -1.10849471e-01  0.00000000e+00]\n",
      " [ 1.80000000e+00 -1.91660885e-01  0.00000000e+00]\n",
      " [ 1.80000000e+00 -1.35392340e-01  0.00000000e+00]\n",
      " [ 1.80000000e+00 -1.10880217e-01  0.00000000e+00]\n",
      " [ 1.80000000e+00 -1.57676230e-01  0.00000000e+00]\n",
      " [ 2.00000000e+00 -1.07310376e-01  0.00000000e+00]\n",
      " [ 2.00000000e+00 -1.99497104e-01  0.00000000e+00]\n",
      " [ 2.00000000e+00 -1.43894920e-01  0.00000000e+00]\n",
      " [ 2.00000000e+00 -1.12193937e-01  0.00000000e+00]\n",
      " [ 2.00000000e+00 -8.75613400e-02  1.00000000e+00]\n",
      " [ 2.30000000e+00 -1.06159724e-01  0.00000000e+00]\n",
      " [ 2.30000000e+00 -2.04887846e-01  1.00000000e+00]\n",
      " [ 2.30000000e+00 -1.49308663e-01  0.00000000e+00]\n",
      " [ 2.30000000e+00 -5.52144464e-02  1.00000000e+00]\n",
      " [ 2.30000000e+00 -6.81650401e-02  1.00000000e+00]\n",
      " [ 2.50000000e+00 -9.90413486e-02  1.00000000e+00]\n",
      " [ 2.50000000e+00 -2.15511848e-01  0.00000000e+00]\n",
      " [ 2.50000000e+00 -1.58257866e-01  0.00000000e+00]\n",
      " [ 2.50000000e+00 -9.91707194e-02  0.00000000e+00]\n",
      " [ 2.50000000e+00 -5.53796540e-02  1.00000000e+00]]\n"
     ]
    }
   ],
   "source": [
    "perturbation_list = [0.1, 0.2, 0.5, 0.8, 1.0, 1.5, 1.8, 2.0, 2.3, 2.5]\n",
    "\n",
    "results = []\n",
    "for perturbation in perturbation_list:\n",
    "    for i in range(5):\n",
    "        file = np.load(str(perturbation)+'/'+str(i)+'.npz')\n",
    "        if file['poisson'] >-99 :\n",
    "            results.append([perturbation, file['poisson'], file['exit_flag']])\n",
    "        \n",
    "    \n",
    "results = np.array(results)\n",
    "print(results)"
   ]
  },
  {
   "cell_type": "code",
   "execution_count": 40,
   "metadata": {},
   "outputs": [
    {
     "data": {
      "image/png": "[encoded data removed]",
      "text/plain": [
       "<Figure size 432x288 with 1 Axes>"
      ]
     },
     "metadata": {
      "needs_background": "light"
     },
     "output_type": "display_data"
    }
   ],
   "source": [
    "plt.scatter(results[:,0],results[:,1], c=results[:,2], marker='.')\n",
    "plt.ylim(-0.25,0)\n",
    "plt.xlabel('pertubation')\n",
    "plt.ylabel('poisson')\n",
    "plt.gca().set_aspect(10, adjustable='box')\n",
    "\n",
    "plt.savefig('results.jpg')\n",
    "plt.show()"
   ]
  },
  {
   "cell_type": "code",
   "execution_count": 41,
   "metadata": {},
   "outputs": [
    {
     "data": {
      "image/png": "[encoded data removed]",
      "text/plain": [
       "<Figure size 432x288 with 1 Axes>"
      ]
     },
     "metadata": {
      "needs_background": "light"
     },
     "output_type": "display_data"
    }
   ],
   "source": [
    "plt.scatter(results[:,0], results[:,2], cmap = 'jet', marker='.')\n",
    "plt.ylim(-0.5 , 3.5)\n",
    "plt.xlabel('pertubation')\n",
    "plt.ylabel('exit flag')\n",
    "plt.gca().set_aspect(0.7, adjustable='box')\n",
    "\n",
    "plt.savefig('exit flags.jpg')\n",
    "plt.show()"
   ]
  },
  {
   "cell_type": "code",
   "execution_count": 5,
   "metadata": {},
   "outputs": [
    {
     "ename": "NameError",
     "evalue": "name 'info1_list' is not defined",
     "output_type": "error",
     "traceback": [
      "\u001b[0;31m---------------------------------------------------------------------------\u001b[0m",
      "\u001b[0;31mNameError\u001b[0m                                 Traceback (most recent call last)",
      "\u001b[0;32m/tmp/ipykernel_5525/490060762.py\u001b[0m in \u001b[0;36m<module>\u001b[0;34m\u001b[0m\n\u001b[1;32m      3\u001b[0m \u001b[0;34m\u001b[0m\u001b[0m\n\u001b[1;32m      4\u001b[0m \u001b[0;31m# Plotting the second and third columns (info2_list and info3_list)\u001b[0m\u001b[0;34m\u001b[0m\u001b[0;34m\u001b[0m\u001b[0m\n\u001b[0;32m----> 5\u001b[0;31m \u001b[0max\u001b[0m\u001b[0;34m.\u001b[0m\u001b[0mscatter\u001b[0m\u001b[0;34m(\u001b[0m\u001b[0minfo1_list\u001b[0m\u001b[0;34m,\u001b[0m \u001b[0minfo2_list\u001b[0m\u001b[0;34m)\u001b[0m\u001b[0;34m\u001b[0m\u001b[0;34m\u001b[0m\u001b[0m\n\u001b[0m\u001b[1;32m      6\u001b[0m \u001b[0;34m\u001b[0m\u001b[0m\n\u001b[1;32m      7\u001b[0m \u001b[0;31m# Adding some plot decorations\u001b[0m\u001b[0;34m\u001b[0m\u001b[0;34m\u001b[0m\u001b[0m\n",
      "\u001b[0;31mNameError\u001b[0m: name 'info1_list' is not defined"
     ]
    },
    {
     "data": {
      "image/png": "[encoded data removed]",
      "text/plain": [
       "<Figure size 432x288 with 1 Axes>"
      ]
     },
     "metadata": {
      "needs_background": "light"
     },
     "output_type": "display_data"
    }
   ],
   "source": [
    "# Prepare the figure and axes\n",
    "fig, ax = plt.subplots()\n",
    "\n",
    "# Plotting the second and third columns (info2_list and info3_list)\n",
    "ax.scatter(info1_list, info2_list)\n",
    "\n",
    "# Adding some plot decorations\n",
    "ax.set_xlabel('Index')\n",
    "ax.set_ylabel('Value')\n",
    "ax.set_title('Line Plot of Info2 and Info3')\n",
    "ax.legend()\n",
    "\n",
    "# Show the plot\n",
    "plt.show()"
   ]
  },
  {
   "cell_type": "code",
   "execution_count": null,
   "metadata": {},
   "outputs": [],
   "source": []
  }
 ],
 "metadata": {
  "kernelspec": {
   "display_name": "Python 3 (ipykernel)",
   "language": "python",
   "name": "python3"
  },
  "language_info": {
   "codemirror_mode": {
    "name": "ipython",
    "version": 3
   },
   "file_extension": ".py",
   "mimetype": "text/x-python",
   "name": "python",
   "nbconvert_exporter": "python",
   "pygments_lexer": "ipython3",
   "version": "3.10.12"
  }
 },
 "nbformat": 4,
 "nbformat_minor": 4
}
