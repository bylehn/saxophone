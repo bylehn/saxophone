{
 "cells": [
  {
   "cell_type": "code",
   "execution_count": 1,
   "metadata": {},
   "outputs": [],
   "source": [
    "import os\n",
    "import numpy as np\n",
    "import matplotlib.pyplot as plt"
   ]
  },
  {
   "cell_type": "code",
   "execution_count": 2,
   "metadata": {},
   "outputs": [
    {
     "ename": "NameError",
     "evalue": "name 'info3_list' is not defined",
     "output_type": "error",
     "traceback": [
      "\u001b[0;31m---------------------------------------------------------------------------\u001b[0m",
      "\u001b[0;31mNameError\u001b[0m                                 Traceback (most recent call last)",
      "Cell \u001b[0;32mIn[2], line 33\u001b[0m\n\u001b[1;32m     31\u001b[0m \u001b[38;5;66;03m# Replace 'your/root/directory/path' with the path to the directory you want to start from\u001b[39;00m\n\u001b[1;32m     32\u001b[0m root_path \u001b[38;5;241m=\u001b[39m \u001b[38;5;124m'\u001b[39m\u001b[38;5;124m./\u001b[39m\u001b[38;5;124m'\u001b[39m\n\u001b[0;32m---> 33\u001b[0m info1_list, info2_list \u001b[38;5;241m=\u001b[39m \u001b[43mfind_and_extract_npz\u001b[49m\u001b[43m(\u001b[49m\u001b[43mroot_path\u001b[49m\u001b[43m)\u001b[49m\n\u001b[1;32m     35\u001b[0m \u001b[38;5;66;03m# Concatenate the lists so each of the first entries becomes different columns\u001b[39;00m\n\u001b[1;32m     36\u001b[0m \u001b[38;5;28;01mfor\u001b[39;00m info1, info2, info3 \u001b[38;5;129;01min\u001b[39;00m \u001b[38;5;28mzip\u001b[39m(info1_list, info2_list):\n",
      "Cell \u001b[0;32mIn[2], line 29\u001b[0m, in \u001b[0;36mfind_and_extract_npz\u001b[0;34m(root_path)\u001b[0m\n\u001b[1;32m     24\u001b[0m             info2_list\u001b[38;5;241m.\u001b[39mappend(info2)\n\u001b[1;32m     27\u001b[0m \u001b[38;5;66;03m# At this point, info1_list and info2_list contain all the extracted information\u001b[39;00m\n\u001b[1;32m     28\u001b[0m \u001b[38;5;66;03m# You can return them, save them, or process them further as needed\u001b[39;00m\n\u001b[0;32m---> 29\u001b[0m \u001b[38;5;28;01mreturn\u001b[39;00m info1_list, info2_list, \u001b[43minfo3_list\u001b[49m\n",
      "\u001b[0;31mNameError\u001b[0m: name 'info3_list' is not defined"
     ]
    }
   ],
   "source": [
    "\n",
    "def extract_data_from_npz(npz_path):\n",
    "    # This function opens an npz file and extracts two pieces of information.\n",
    "    # You need to replace 'key1' and 'key2' with the actual keys you're interested in.\n",
    "    with np.load(npz_path) as data:\n",
    "        info1 = data['poisson']\n",
    "        info2 = data['perturbation']\n",
    "\n",
    "    return info1, info2\n",
    "\n",
    "def find_and_extract_npz(root_path):\n",
    "    # Initialize lists to store the extracted information\n",
    "    info1_list = []\n",
    "    info2_list = []\n",
    "\n",
    "    \n",
    "    for root, dirs, files in os.walk(root_path):\n",
    "        for file in files:\n",
    "            if file.endswith('.npz'):\n",
    "                npz_path = os.path.join(root, file)\n",
    "                info1, info2 = extract_data_from_npz(npz_path)\n",
    "                \n",
    "                # Append the extracted information to the lists\n",
    "                info1_list.append(info1)\n",
    "                info2_list.append(info2)\n",
    "\n",
    "                \n",
    "    # At this point, info1_list and info2_list contain all the extracted information\n",
    "    # You can return them, save them, or process them further as needed\n",
    "    return info1_list, info2_list, info3_list\n",
    "\n",
    "# Replace 'your/root/directory/path' with the path to the directory you want to start from\n",
    "root_path = './'\n",
    "info1_list, info2_list = find_and_extract_npz(root_path)\n",
    "\n",
    "# Concatenate the lists so each of the first entries becomes different columns\n",
    "for info1, info2, info3 in zip(info1_list, info2_list):\n",
    "    print(f\"{info1}, {info2}\")\n",
    "\n"
   ]
  },
  {
   "cell_type": "code",
   "execution_count": 3,
   "metadata": {},
   "outputs": [
    {
     "name": "stdout",
     "output_type": "stream",
     "text": [
      "[[ 0.1        -0.63911138  1.        ]\n",
      " [ 0.1        -0.35130052  1.        ]\n",
      " [ 0.1        -0.67850062  0.        ]\n",
      " [ 0.1        -0.27256581  1.        ]\n",
      " [ 0.1        -0.2693521   1.        ]\n",
      " [ 0.2        -0.36551315  1.        ]\n",
      " [ 0.2        -0.80646424  0.        ]\n",
      " [ 0.2        -0.54095484  1.        ]\n",
      " [ 0.2        -0.69506267  1.        ]\n",
      " [ 0.2        -0.28000711  1.        ]\n",
      " [ 0.5        -0.49137466  1.        ]\n",
      " [ 0.5        -0.73400322  1.        ]\n",
      " [ 0.5        -0.62802216  1.        ]\n",
      " [ 0.5        -0.45160677  1.        ]\n",
      " [ 0.5        -0.53047661  1.        ]\n",
      " [ 0.8        -0.4525641   1.        ]\n",
      " [ 0.8        -0.67686952  1.        ]\n",
      " [ 0.8        -0.40743821  1.        ]\n",
      " [ 0.8        -0.25320163  1.        ]\n",
      " [ 0.8        -0.53004704  0.        ]\n",
      " [ 1.         -0.44018259  1.        ]\n",
      " [ 1.         -0.77552726  1.        ]\n",
      " [ 1.         -0.40633831  1.        ]\n",
      " [ 1.         -0.42636935  1.        ]\n",
      " [ 1.         -0.51565826  0.        ]\n",
      " [ 1.5        -0.39839176  1.        ]\n",
      " [ 1.5        -0.52760877  1.        ]\n",
      " [ 1.5        -0.40507201  1.        ]\n",
      " [ 1.5        -0.42992158  1.        ]\n",
      " [ 1.5        -0.52261107  0.        ]\n",
      " [ 1.8        -0.52646388  1.        ]\n",
      " [ 1.8        -0.54665913  1.        ]\n",
      " [ 1.8        -0.57735035  1.        ]\n",
      " [ 1.8        -0.35150071  1.        ]\n",
      " [ 1.8        -0.66738224  0.        ]\n",
      " [ 2.         -0.43563934  1.        ]\n",
      " [ 2.         -0.5380611   1.        ]\n",
      " [ 2.         -0.60051073  1.        ]\n",
      " [ 2.         -0.33087133  1.        ]\n",
      " [ 2.         -0.57357787  1.        ]\n",
      " [ 2.3        -0.51056922  1.        ]\n",
      " [ 2.3        -0.58498153  1.        ]\n",
      " [ 2.3        -0.52996103  1.        ]\n",
      " [ 2.3        -0.45755347  1.        ]\n",
      " [ 2.3        -0.41007295  1.        ]\n",
      " [ 2.5        -0.43073484  1.        ]\n",
      " [ 2.5        -0.50387605  1.        ]\n",
      " [ 2.5        -0.57223046  1.        ]\n",
      " [ 2.5        -0.29893302  1.        ]\n",
      " [ 2.5        -0.44628924  1.        ]]\n"
     ]
    }
   ],
   "source": [
    "perturbation_list = [0.1, 0.2, 0.5, 0.8, 1.0, 1.5, 1.8, 2.0, 2.3, 2.5]\n",
    "\n",
    "results = []\n",
    "for perturbation in perturbation_list:\n",
    "    for i in range(5):\n",
    "        file = np.load(str(perturbation)+'/'+str(i)+'.npz')\n",
    "        if file['poisson'] >-99 :\n",
    "            results.append([perturbation, file['poisson'], file['exit_flag']])\n",
    "        \n",
    "    \n",
    "results = np.array(results)\n",
    "print(results)"
   ]
  },
  {
   "cell_type": "code",
   "execution_count": 6,
   "metadata": {},
   "outputs": [
    {
     "data": {
      "image/png": "[encoded data removed]",
      "text/plain": [
       "<Figure size 640x480 with 1 Axes>"
      ]
     },
     "metadata": {},
     "output_type": "display_data"
    }
   ],
   "source": [
    "plt.scatter(results[:,0],results[:,1], c=results[:,2], marker='.')\n",
    "#plt.ylim(-0.25,0)\n",
    "plt.xlabel('pertubation')\n",
    "plt.ylabel('poisson')\n",
    "#plt.gca().set_aspect(10, adjustable='box')\n",
    "\n",
    "plt.savefig('results.jpg')\n",
    "plt.show()"
   ]
  },
  {
   "cell_type": "code",
   "execution_count": 7,
   "metadata": {},
   "outputs": [
    {
     "name": "stderr",
     "output_type": "stream",
     "text": [
      "/home/bylehn/ipykernel_1934437/4294557544.py:1: UserWarning: No data for colormapping provided via 'c'. Parameters 'cmap' will be ignored\n",
      "  plt.scatter(results[:,0], results[:,2], cmap = 'jet', marker='.')\n"
     ]
    },
    {
     "data": {
      "image/png": "[encoded data removed]",
      "text/plain": [
       "<Figure size 640x480 with 1 Axes>"
      ]
     },
     "metadata": {},
     "output_type": "display_data"
    }
   ],
   "source": [
    "plt.scatter(results[:,0], results[:,2], cmap = 'jet', marker='.')\n",
    "plt.ylim(-0.5 , 3.5)\n",
    "plt.xlabel('pertubation')\n",
    "plt.ylabel('exit flag')\n",
    "plt.gca().set_aspect(0.7, adjustable='box')\n",
    "\n",
    "plt.savefig('exit flags.jpg')\n",
    "plt.show()"
   ]
  },
  {
   "cell_type": "code",
   "execution_count": null,
   "metadata": {},
   "outputs": [],
   "source": []
  }
 ],
 "metadata": {
  "kernelspec": {
   "display_name": "Python 3 (ipykernel)",
   "language": "python",
   "name": "python3"
  },
  "language_info": {
   "codemirror_mode": {
    "name": "ipython",
    "version": 3
   },
   "file_extension": ".py",
   "mimetype": "text/x-python",
   "name": "python",
   "nbconvert_exporter": "python",
   "pygments_lexer": "ipython3",
   "version": "3.10.13"
  }
 },
 "nbformat": 4,
 "nbformat_minor": 4
}
