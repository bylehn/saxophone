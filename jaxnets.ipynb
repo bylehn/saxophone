{
  "cells": [
    {
      "cell_type": "raw",
      "metadata": {},
      "source": [
        "---\n",
        "title: Results from auxetic-acoustic runs\n",
        "format: html\n",
        "execute:\n",
        "  echo: false\n",
        "filters:\n",
        "  - include-code-files\n",
        "---"
      ],
      "id": "7a87f54e"
    },
    {
      "cell_type": "markdown",
      "metadata": {},
      "source": [
        "### Sweeping poisson ratios\n"
      ],
      "id": "fd78b865"
    },
    {
      "cell_type": "code",
      "metadata": {},
      "source": [
        "import numpy as np\n",
        "import matplotlib.pyplot as plt\n",
        "import os\n",
        "import jaxnets.simulation as simulation\n",
        "import jaxnets.utils as utils"
      ],
      "id": "44461ae5",
      "execution_count": null,
      "outputs": []
    },
    {
      "cell_type": "code",
      "metadata": {},
      "source": [
        "def extract_data(path):\n",
        "    folder_list = [folder for folder in os.listdir(path) if os.path.isdir(os.path.join(path, folder))]\n",
        "    results = []\n",
        "    for folder_name in folder_list:\n",
        "        full_folder_path = os.path.join(path, folder_name)\n",
        "        file_list = os.listdir(full_folder_path)\n",
        "        for file_name in file_list:\n",
        "            if file_name.endswith('.npz'):\n",
        "                with np.load(os.path.join(full_folder_path, file_name), allow_pickle=True) as file:\n",
        "                    file_data = {key: file[key] if file[key].size > 1 else file[key].item() for key in file.files}\n",
        "                    file_data['folder_name'] = folder_name  # Attach folder name to the results\n",
        "                    file_data['file_name'] = file_name\n",
        "                    results.append(file_data)\n",
        "    return results"
      ],
      "id": "1d45d83d",
      "execution_count": null,
      "outputs": []
    },
    {
      "cell_type": "code",
      "metadata": {},
      "source": [
        "def plot_results(results, x_key, y_key, color_key=None, x_limits=(-1, 1), cmap='jet', vmin=0, vmax=1):\n",
        "    if not results:\n",
        "        print(\"No data to plot.\")\n",
        "        return\n",
        "\n",
        "    try:\n",
        "        # Extracting data using dynamic keys\n",
        "        x_data = [data[x_key] for data in results if x_key in data]\n",
        "        y_data = [data[y_key] for data in results if y_key in data]\n",
        "        color_data = [data[color_key] for data in results if color_key in data]\n",
        "\n",
        "        # Check if data lengths match\n",
        "        if len(x_data) != len(y_data) or len(y_data) != len(color_data):\n",
        "            raise ValueError(\"Data lengths do not match.\")\n",
        "\n",
        "        # Plotting the data\n",
        "        plt.scatter(x_data, y_data, c=color_data, marker='o', cmap=cmap, vmin=vmin, vmax=vmax)\n",
        "        plt.xlim(x_limits)  # Setting x-axis limits\n",
        "        plt.xlabel(x_key)  # X-axis label\n",
        "        plt.ylabel(y_key)  # Y-axis label\n",
        "        colorbar = plt.colorbar()  # Colorbar\n",
        "        colorbar.set_label(color_key)  # Colorbar label\n",
        "        plt.title(f'{y_key} vs {x_key}')  # Plot title\n",
        "        plt.show()\n",
        "    except KeyError as e:\n",
        "        print(f\"Error: Missing key {str(e)} - Check the keys in your datasets.\")\n",
        "    except ValueError as e:\n",
        "        print(f\"Error: {str(e)}\")\n",
        "    except Exception as e:\n",
        "        print(f\"Unexpected error: {str(e)} - Check data types and array shapes.\")"
      ],
      "id": "01802e90",
      "execution_count": null,
      "outputs": []
    },
    {
      "cell_type": "code",
      "metadata": {},
      "source": [
        "def rerun(results, run_nr):\n",
        "    R_key = 'R_temp'\n",
        "    R_temp = [data[R_key] for data in results if R_key in data]\n",
        "    k_key = 'k_temp'\n",
        "    k_temp = [data[k_key] for data in results if k_key in data]\n",
        "\n",
        "    perturbation = 2.0\n",
        "    delta_perturbation = 0.1\n",
        "    steps = 50\n",
        "    write_every = 1\n",
        "    size = 10\n",
        "    system = utils.System(size, 26+run_nr, 2.0, 0.2, 1e-1)\n",
        "    system.initialize()\n",
        "    system.auxetic_parameters(perturbation, delta_perturbation, steps, write_every)\n",
        "    displacement = system.displacement\n",
        "    shift = system.shift\n",
        "\n",
        "    poisson, log, R_init, R_final = simulation.simulate_auxetic_NOMM(R_temp[0], k_temp[0], system, shift, displacement)\n",
        "\n",
        "    return poisson, log"
      ],
      "id": "b6dcb517",
      "execution_count": null,
      "outputs": []
    },
    {
      "cell_type": "code",
      "metadata": {},
      "source": [
        "# Set the folder_path to the 'runs/sweep_poisson' subdirectory from the current working directory\n",
        "folder_path = os.path.join(os.getcwd(), 'runs', 'sweep_poisson')\n",
        "results = extract_data(folder_path)"
      ],
      "id": "bb9a3a14",
      "execution_count": null,
      "outputs": []
    },
    {
      "cell_type": "code",
      "metadata": {},
      "source": [
        "#| label: fig-poissonratios\n",
        "#| fig-cap: Poisson ratio achieved vs target. Color bar represents bandgap difference.\n",
        "plot_results(results, 'poisson_target', 'poisson', 'bandgap_distance')"
      ],
      "id": "fig-poissonratios",
      "execution_count": null,
      "outputs": []
    },
    {
      "cell_type": "markdown",
      "metadata": {},
      "source": [
        "::: {.notes}\n",
        "As we can see from @fig-poissonratios, beyond a poisson ratio target of $\\pm 0.3$, we are not able to achieve it, and the curve flattens out. Interestingly, the color suggests that achieving a larger bandgap at negative poisson ratios is harder than at positive ratios. The next steps are to see if we can achieve better poisson ratios by decreasing the sphere size. \n",
        ":::\n",
        "\n",
        "### Decreasing sphere radius\n",
        "\n",
        "::: {.notes}\n",
        "To decrease the sphere radius, I modified this part of the code:\n",
        "\n",
        "\n",
        "```{.python include=\"jaxnets/simulation.py\" start-line=271 end-line=277 filename=\"jaxnets/simulation.py\" code-line-numbers=\"true\"}\n",
        "```\n",
        "In line 275 I change the sigma.\n",
        ":::\n"
      ],
      "id": "de86056f"
    },
    {
      "cell_type": "code",
      "metadata": {},
      "source": [
        "folder_path = os.path.join(os.getcwd(), 'runs', 'decrease_sphere')\n",
        "results = extract_data(folder_path)"
      ],
      "id": "2a33e03c",
      "execution_count": null,
      "outputs": []
    },
    {
      "cell_type": "code",
      "metadata": {},
      "source": [
        "#| label: fig-sphere-poisson\n",
        "#| fig-cap: Poisson ratio achieved vs target for LJ radius of 0.2.\n",
        "x_key = 'folder_name'\n",
        "y_key = 'poisson'\n",
        "color_key = 'exit_flag'\n",
        "x_data = [data[x_key] for data in results if x_key in data]\n",
        "y_data = [data[y_key] for data in results if y_key in data]\n",
        "color_data = [data[color_key] for data in results if color_key in data]\n",
        "plt.scatter(x_data, y_data, c=color_data, marker='o')\n",
        "plt.xlabel('Radius of LJ sphere')  # X-axis label\n",
        "plt.ylabel(y_key)  # Y-axis label\n",
        "colorbar = plt.colorbar()  # Colorbar\n",
        "colorbar.set_label(color_key)  # Colorbar label\n",
        "plt.show()"
      ],
      "id": "fig-sphere-poisson",
      "execution_count": null,
      "outputs": []
    },
    {
      "cell_type": "markdown",
      "metadata": {},
      "source": [
        "::: {.notes}\n",
        "::: {.callout-note collapse=\"true\"}\n",
        "## These are comments from an older run\n",
        "*When I first ran these, I ran only for $\\sigma = 0.2$ and tried to use different target poisson ratios, but the run I used doesn't use target poisson, it just tries to minimize poisson ratio.*\n",
        "\n",
        "This did not work as expected. Each run is identical to each other, because poisson target is not an input to the `generate_auxetic()` function, as it just tries to minimize the poisson ratio. What is interesting tho is that all of the 4 runs are identical. Should they be? Yes, because the random seed is fixed as 26+run, \n",
        "\n",
        "```{.python include=\"jaxnets/simulation.py\" start-line=889 end-line=900 filename=\"jaxnets/simulation.py\" code-line-numbers=\"true\"}\n",
        "```\n",
        "so since each run is 0-9 they have a different random seed, but all the runs in different poisson ratio folders will be identical for the same number 0-9, so it makes sense. However, it is still useful in the sense that we're still not getting very negative poisson ratios, max is around $-0.4$\n",
        ":::\n",
        "\n",
        "Also as seen in @fig-sphere-poisson, for the points labeled sigma_0.1, there is a shift towards more negative poisson ratios but still not very significant. Another challenge is that the variance for different runs is very large. Also for $\\sigma = 0.1$, not all the runs completed since it ran out of memory. How can the code be made less memory-intensive? Also, none of the runs are converging, they all have exit-flag 1, which is that gradients are exceeded. Is that because the sphere radius is too small? \n",
        ":::\n"
      ],
      "id": "632bf18c"
    },
    {
      "cell_type": "code",
      "metadata": {},
      "source": [
        "poisson, log = rerun(results, 6)"
      ],
      "id": "95cc2955",
      "execution_count": null,
      "outputs": []
    }
  ],
  "metadata": {
    "kernelspec": {
      "name": "python3",
      "language": "python",
      "display_name": "Python 3"
    }
  },
  "nbformat": 4,
  "nbformat_minor": 5
}