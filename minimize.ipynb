{
 "cells": [
  {
   "cell_type": "code",
   "execution_count": 1,
   "metadata": {},
   "outputs": [
    {
     "name": "stderr",
     "output_type": "stream",
     "text": [
      "No GPU/TPU found, falling back to CPU. (Set TF_CPP_MIN_LOG_LEVEL=0 and rerun for more info.)\n"
     ]
    }
   ],
   "source": [
    "import numpy as onp\n",
    "\n",
    "import jax.numpy as np\n",
    "from jax.config import config\n",
    "config.update('jax_enable_x64', True)\n",
    "\n",
    "from jax import random\n",
    "from jax import jit\n",
    "\n",
    "from jax_md import space, smap, energy, minimize, quantity, simulate\n",
    "\n",
    "import plotly.graph_objs as go\n",
    "\n",
    "import matplotlib\n",
    "import matplotlib.pyplot as plt\n",
    "import seaborn as sns\n",
    "  \n",
    "sns.set_style(style='white')\n",
    "\n",
    "def format_plot(x, y):  \n",
    "  plt.grid(True)\n",
    "  plt.xlabel(x, fontsize=20)\n",
    "  plt.ylabel(y, fontsize=20)\n",
    "  \n",
    "def finalize_plot(shape=(1, 1)):\n",
    "  plt.gcf().set_size_inches(\n",
    "    shape[0] * 1.5 * plt.gcf().get_size_inches()[1], \n",
    "    shape[1] * 1.5 * plt.gcf().get_size_inches()[1])\n",
    "  plt.tight_layout()\n",
    "\n",
    "import matplotlib.pyplot as plt\n",
    "import numpy as np\n",
    "\n",
    "def plot_configuration(node_positions, bond_array, box_size):\n",
    "    # Create an empty plot\n",
    "    fig, ax = plt.subplots()\n",
    "\n",
    "    # Plot the node positions\n",
    "    for i, position in enumerate(node_positions):\n",
    "        ax.scatter(position[0], position[1], s=50, c='red', label='Node')\n",
    "\n",
    "    # Plot the bonds\n",
    "    for bond in bond_array:\n",
    "        start_node = node_positions[bond[0]]\n",
    "        end_node = node_positions[bond[1]]\n",
    "        ax.plot([start_node[0], end_node[0]], [start_node[1], end_node[1]], 'b-', linewidth=2, label='Bond')\n",
    "\n",
    "\n",
    "    # Customize the plot\n",
    "    ax.set_xlim(0, box_size)\n",
    "    ax.set_ylim(0, box_size)\n",
    "\n",
    "    # Show the plot\n",
    "    plt.show()\n"
   ]
  },
  {
   "cell_type": "code",
   "execution_count": 2,
   "metadata": {},
   "outputs": [],
   "source": [
    "N = 10\n",
    "dimension = 2\n",
    "box_size = 2.0\n",
    "displacement, shift = space.periodic(box_size)\n",
    "\n",
    "key = random.PRNGKey(3)\n",
    "key, split = random.split(key)\n",
    "\n",
    "# Generate an array of random node positions\n",
    "R = random.uniform(key, (N, dimension), minval=0.0, maxval=box_size, dtype=np.float32)\n",
    "\n",
    "# Calculate the distance between all pairs of nodes\n",
    "distances = np.linalg.norm(R[:, None] - R[None, :], axis=2)\n",
    "\n",
    "# Determine a threshold distance for bonding nodes\n",
    "threshold_distance = 1.1\n",
    "\n",
    "# Create bonds between nodes that are closer than the threshold distance\n",
    "bond_array = np.array([[i, i + 1] for i in range(N - 1) if distances[i, i + 1] < threshold_distance])"
   ]
  },
  {
   "cell_type": "code",
   "execution_count": 3,
   "metadata": {},
   "outputs": [
    {
     "data": {
      "image/png": "[encoded data removed]",
      "text/plain": [
       "<Figure size 640x480 with 1 Axes>"
      ]
     },
     "metadata": {},
     "output_type": "display_data"
    }
   ],
   "source": [
    "plot_configuration(R, bond_array, box_size)"
   ]
  },
  {
   "cell_type": "code",
   "execution_count": 4,
   "metadata": {},
   "outputs": [],
   "source": [
    "k = 1.0\n",
    "d0 = 0.3\n",
    "\n",
    "# Create the energy function using the simple_spring_bond potential\n",
    "energy_fn = energy.simple_spring_bond(displacement, bond_array, length=d0, epsilon=k)"
   ]
  },
  {
   "cell_type": "code",
   "execution_count": 5,
   "metadata": {},
   "outputs": [],
   "source": [
    "force_fn = quantity.force(energy_fn)"
   ]
  },
  {
   "cell_type": "code",
   "execution_count": 6,
   "metadata": {},
   "outputs": [],
   "source": [
    "init_fn, apply_fn = minimize.fire_descent(energy_fn, shift)\n",
    "opt_state = init_fn(R)"
   ]
  },
  {
   "cell_type": "code",
   "execution_count": 7,
   "metadata": {},
   "outputs": [
    {
     "name": "stdout",
     "output_type": "stream",
     "text": [
      "Minimizing.\n",
      "Step\tEnergy\tMax Force\n",
      "-----------------------------------\n",
      "0.00\t0.28\t0.64\n",
      "10.00\t0.01\t0.13\n",
      "20.00\t0.00\t0.04\n",
      "30.00\t0.00\t0.01\n",
      "40.00\t0.00\t0.00\n"
     ]
    }
   ],
   "source": [
    "minimize_steps = 50\n",
    "print_every = 10\n",
    "trajectory = []\n",
    "\n",
    "print('Minimizing.')\n",
    "print('Step\\tEnergy\\tMax Force')\n",
    "print('-----------------------------------')\n",
    "for step in range(minimize_steps):\n",
    "    opt_state = apply_fn(opt_state)\n",
    "    trajectory += [opt_state.position]\n",
    "\n",
    "    if step % print_every == 0:\n",
    "        R = opt_state.position\n",
    "        print('{:.2f}\\t{:.2f}\\t{:.2f}'.format(step, energy_fn(R), np.max(force_fn(R))))\n",
    "\n",
    "trajectory = np.stack(trajectory)"
   ]
  },
  {
   "cell_type": "code",
   "execution_count": 8,
   "metadata": {},
   "outputs": [
    {
     "data": {
      "text/plain": [
       "array([[[1.1065074 , 0.8350671 ],\n",
       "        [1.3302244 , 1.1468183 ],\n",
       "        [1.9010353 , 0.880046  ],\n",
       "        [0.21499014, 1.1590588 ],\n",
       "        [1.893431  , 1.4200065 ],\n",
       "        [0.28886104, 0.24535513],\n",
       "        [0.6282916 , 1.6592205 ],\n",
       "        [1.7423576 , 1.8327274 ],\n",
       "        [0.82156724, 1.5188172 ],\n",
       "        [1.4512169 , 0.59271026]],\n",
       "\n",
       "       [[1.1072395 , 0.8360901 ],\n",
       "        [1.3339899 , 1.1436923 ],\n",
       "        [1.8965377 , 0.8821491 ],\n",
       "        [0.21499014, 1.1590588 ],\n",
       "        [1.893431  , 1.4200065 ],\n",
       "        [0.28886104, 0.24535513],\n",
       "        [0.6282916 , 1.6592205 ],\n",
       "        [1.7327776 , 1.8294615 ],\n",
       "        [0.8311473 , 1.5220832 ],\n",
       "        [1.4512169 , 0.59271026]],\n",
       "\n",
       "       [[1.1084611 , 0.8377742 ],\n",
       "        [1.3401704 , 1.1385558 ],\n",
       "        [1.8891355 , 0.8856014 ],\n",
       "        [0.21499014, 1.1590588 ],\n",
       "        [1.893431  , 1.4200065 ],\n",
       "        [0.28886104, 0.24535513],\n",
       "        [0.6282916 , 1.6592205 ],\n",
       "        [1.7170236 , 1.8240907 ],\n",
       "        [0.84690124, 1.5274539 ],\n",
       "        [1.4512169 , 0.59271026]],\n",
       "\n",
       "       [[1.1101774 , 0.8400906 ],\n",
       "        [1.348623  , 1.1315165 ],\n",
       "        [1.8789666 , 0.8903244 ],\n",
       "        [0.21499014, 1.1590588 ],\n",
       "        [1.893431  , 1.4200065 ],\n",
       "        [0.28886104, 0.24535513],\n",
       "        [0.6282916 , 1.6592205 ],\n",
       "        [1.6954104 , 1.8167225 ],\n",
       "        [0.8685144 , 1.5348221 ],\n",
       "        [1.4512169 , 0.59271026]],\n",
       "\n",
       "       [[1.1123996 , 0.84300333],\n",
       "        [1.3591486 , 1.1227177 ],\n",
       "        [1.8662188 , 0.89621043],\n",
       "        [0.21499014, 1.1590588 ],\n",
       "        [1.893431  , 1.4200065 ],\n",
       "        [0.28886104, 0.24535513],\n",
       "        [0.6282916 , 1.6592205 ],\n",
       "        [1.6683697 , 1.8075039 ],\n",
       "        [0.89555514, 1.5440407 ],\n",
       "        [1.4512169 , 0.59271026]],\n",
       "\n",
       "       [[1.1151494 , 0.8464748 ],\n",
       "        [1.3714923 , 1.1123316 ],\n",
       "        [1.8511254 , 0.9031251 ],\n",
       "        [0.21499014, 1.1590588 ],\n",
       "        [1.893431  , 1.4200065 ],\n",
       "        [0.28886104, 0.24535513],\n",
       "        [0.6282916 , 1.6592205 ],\n",
       "        [1.636442  , 1.7966193 ],\n",
       "        [0.92748284, 1.5549253 ],\n",
       "        [1.4512169 , 0.59271026]],\n",
       "\n",
       "       [[1.1188228 , 0.8508978 ],\n",
       "        [1.3868059 , 1.0992992 ],\n",
       "        [1.8321383 , 0.91173464],\n",
       "        [0.21499014, 1.1590588 ],\n",
       "        [1.893431  , 1.4200065 ],\n",
       "        [0.28886104, 0.24535513],\n",
       "        [0.6282916 , 1.6592205 ],\n",
       "        [1.5964344 , 1.7829802 ],\n",
       "        [0.9674904 , 1.5685644 ],\n",
       "        [1.4512169 , 0.59271026]],\n",
       "\n",
       "       [[1.1237348 , 0.8564592 ],\n",
       "        [1.4051841 , 1.0833216 ],\n",
       "        [1.808848  , 0.9221508 ],\n",
       "        [0.21499014, 1.1590588 ],\n",
       "        [1.893431  , 1.4200065 ],\n",
       "        [0.28886104, 0.24535513],\n",
       "        [0.6282916 , 1.6592205 ],\n",
       "        [1.5476463 , 1.7663476 ],\n",
       "        [1.0162784 , 1.585197  ],\n",
       "        [1.4512169 , 0.59271026]],\n",
       "\n",
       "       [[1.1304271 , 0.86344314],\n",
       "        [1.42635   , 1.0641065 ],\n",
       "        [1.7809899 , 0.934382  ],\n",
       "        [0.21499014, 1.1590588 ],\n",
       "        [1.893431  , 1.4200065 ],\n",
       "        [0.28886104, 0.24535513],\n",
       "        [0.6282916 , 1.6592205 ],\n",
       "        [1.4898417 , 1.7466413 ],\n",
       "        [1.074083  , 1.6049033 ],\n",
       "        [1.4512169 , 0.59271026]],\n",
       "\n",
       "       [[1.1401824 , 0.8724857 ],\n",
       "        [1.4490092 , 1.0411813 ],\n",
       "        [1.7485754 , 0.9482646 ],\n",
       "        [0.21499014, 1.1590588 ],\n",
       "        [1.893431  , 1.4200065 ],\n",
       "        [0.28886104, 0.24535513],\n",
       "        [0.6282916 , 1.6592205 ],\n",
       "        [1.4238546 , 1.7241454 ],\n",
       "        [1.14007   , 1.6273992 ],\n",
       "        [1.4512169 , 0.59271026]],\n",
       "\n",
       "       [[1.158639  , 0.88625824],\n",
       "        [1.4652731 , 1.0128347 ],\n",
       "        [1.7138549 , 0.9628387 ],\n",
       "        [0.21499014, 1.1590588 ],\n",
       "        [1.893431  , 1.4200065 ],\n",
       "        [0.28886104, 0.24535513],\n",
       "        [0.6282916 , 1.6592205 ],\n",
       "        [1.3583093 , 1.7018001 ],\n",
       "        [1.2056153 , 1.6497445 ],\n",
       "        [1.4512169 , 0.59271026]],\n",
       "\n",
       "       [[1.1587336 , 0.8862973 ],\n",
       "        [1.4650316 , 1.0128251 ],\n",
       "        [1.7140018 , 0.96280915],\n",
       "        [0.21499014, 1.1590588 ],\n",
       "        [1.893431  , 1.4200065 ],\n",
       "        [0.28886104, 0.24535513],\n",
       "        [0.6282916 , 1.6592205 ],\n",
       "        [1.3587327 , 1.7019445 ],\n",
       "        [1.2051919 , 1.6496001 ],\n",
       "        [1.4512169 , 0.59271026]],\n",
       "\n",
       "       [[1.1590154 , 0.8864137 ],\n",
       "        [1.4643116 , 1.0127968 ],\n",
       "        [1.71444   , 0.9627211 ],\n",
       "        [0.21499014, 1.1590588 ],\n",
       "        [1.893431  , 1.4200065 ],\n",
       "        [0.28886104, 0.24535513],\n",
       "        [0.6282916 , 1.6592205 ],\n",
       "        [1.3599975 , 1.7023757 ],\n",
       "        [1.203927  , 1.649169  ],\n",
       "        [1.4512169 , 0.59271026]],\n",
       "\n",
       "       [[1.1594783 , 0.886605  ],\n",
       "        [1.4631267 , 1.0127503 ],\n",
       "        [1.715162  , 0.96257627],\n",
       "        [0.21499014, 1.1590588 ],\n",
       "        [1.893431  , 1.4200065 ],\n",
       "        [0.28886104, 0.24535513],\n",
       "        [0.6282916 , 1.6592205 ],\n",
       "        [1.3620876 , 1.7030882 ],\n",
       "        [1.201837  , 1.6484565 ],\n",
       "        [1.4512169 , 0.59271026]],\n",
       "\n",
       "       [[1.1601117 , 0.8868673 ],\n",
       "        [1.4614998 , 1.0126868 ],\n",
       "        [1.7161556 , 0.9623775 ],\n",
       "        [0.21499014, 1.1590588 ],\n",
       "        [1.893431  , 1.4200065 ],\n",
       "        [0.28886104, 0.24535513],\n",
       "        [0.6282916 , 1.6592205 ],\n",
       "        [1.3649765 , 1.7040731 ],\n",
       "        [1.198948  , 1.6474715 ],\n",
       "        [1.4512169 , 0.59271026]],\n",
       "\n",
       "       [[1.1609005 , 0.8871947 ],\n",
       "        [1.4594632 , 1.0126082 ],\n",
       "        [1.7174034 , 0.9621287 ],\n",
       "        [0.21499014, 1.1590588 ],\n",
       "        [1.893431  , 1.4200065 ],\n",
       "        [0.28886104, 0.24535513],\n",
       "        [0.6282916 , 1.6592205 ],\n",
       "        [1.3686279 , 1.7053179 ],\n",
       "        [1.1952966 , 1.6462268 ],\n",
       "        [1.4512169 , 0.59271026]],\n",
       "\n",
       "       [[1.1618253 , 0.8875796 ],\n",
       "        [1.4570585 , 1.012517  ],\n",
       "        [1.7188833 , 0.96183497],\n",
       "        [0.21499014, 1.1590588 ],\n",
       "        [1.893431  , 1.4200065 ],\n",
       "        [0.28886104, 0.24535513],\n",
       "        [0.6282916 , 1.6592205 ],\n",
       "        [1.3729962 , 1.7068071 ],\n",
       "        [1.1909283 , 1.6447375 ],\n",
       "        [1.4512169 , 0.59271026]],\n",
       "\n",
       "       [[1.1629722 , 0.8880586 ],\n",
       "        [1.4540474 , 1.012406  ],\n",
       "        [1.7207475 , 0.9614669 ],\n",
       "        [0.21499014, 1.1590588 ],\n",
       "        [1.893431  , 1.4200065 ],\n",
       "        [0.28886104, 0.24535513],\n",
       "        [0.6282916 , 1.6592205 ],\n",
       "        [1.3785645 , 1.7087054 ],\n",
       "        [1.1853601 , 1.6428392 ],\n",
       "        [1.4512169 , 0.59271026]],\n",
       "\n",
       "       [[1.1643487 , 0.88863575],\n",
       "        [1.4503819 , 1.012278  ],\n",
       "        [1.7230365 , 0.9610178 ],\n",
       "        [0.21499014, 1.1590588 ],\n",
       "        [1.893431  , 1.4200065 ],\n",
       "        [0.28886104, 0.24535513],\n",
       "        [0.6282916 , 1.6592205 ],\n",
       "        [1.3855156 , 1.7110752 ],\n",
       "        [1.178409  , 1.6404694 ],\n",
       "        [1.4512169 , 0.59271026]],\n",
       "\n",
       "       [[1.1659364 , 0.88930434],\n",
       "        [1.4460609 , 1.0121418 ],\n",
       "        [1.7257699 , 0.96048534],\n",
       "        [0.21499014, 1.1590588 ],\n",
       "        [1.893431  , 1.4200065 ],\n",
       "        [0.28886104, 0.24535513],\n",
       "        [0.6282916 , 1.6592205 ],\n",
       "        [1.3940142 , 1.7139724 ],\n",
       "        [1.1699103 , 1.6375722 ],\n",
       "        [1.4512169 , 0.59271026]],\n",
       "\n",
       "       [[1.1676682 , 0.89003634],\n",
       "        [1.4411725 , 1.0120202 ],\n",
       "        [1.7289264 , 0.9598749 ],\n",
       "        [0.21499014, 1.1590588 ],\n",
       "        [1.893431  , 1.4200065 ],\n",
       "        [0.28886104, 0.24535513],\n",
       "        [0.6282916 , 1.6592205 ],\n",
       "        [1.4041837 , 1.7174394 ],\n",
       "        [1.1597408 , 1.6341052 ],\n",
       "        [1.4512169 , 0.59271026]],\n",
       "\n",
       "       [[1.1693677 , 0.89075416],\n",
       "        [1.4360034 , 1.0119693 ],\n",
       "        [1.732396  , 0.959208  ],\n",
       "        [0.21499014, 1.1590588 ],\n",
       "        [1.893431  , 1.4200065 ],\n",
       "        [0.28886104, 0.24535513],\n",
       "        [0.6282916 , 1.6592205 ],\n",
       "        [1.4160573 , 1.7214873 ],\n",
       "        [1.1478672 , 1.6300573 ],\n",
       "        [1.4512169 , 0.59271026]],\n",
       "\n",
       "       [[1.1704417 , 0.89118797],\n",
       "        [1.4315768 , 1.0121813 ],\n",
       "        [1.7357485 , 0.9585622 ],\n",
       "        [0.21499014, 1.1590588 ],\n",
       "        [1.893431  , 1.4200065 ],\n",
       "        [0.28886104, 0.24535513],\n",
       "        [0.6282916 , 1.6592205 ],\n",
       "        [1.4293708 , 1.726026  ],\n",
       "        [1.1345538 , 1.6255186 ],\n",
       "        [1.4512169 , 0.59271026]],\n",
       "\n",
       "       [[1.170414  , 0.8911751 ],\n",
       "        [1.4316267 , 1.0121903 ],\n",
       "        [1.7357266 , 0.95856607],\n",
       "        [0.21499014, 1.1590588 ],\n",
       "        [1.893431  , 1.4200065 ],\n",
       "        [0.28886104, 0.24535513],\n",
       "        [0.6282916 , 1.6592205 ],\n",
       "        [1.4293435 , 1.7260168 ],\n",
       "        [1.1345811 , 1.6255279 ],\n",
       "        [1.4512169 , 0.59271026]],\n",
       "\n",
       "       [[1.1703309 , 0.8911366 ],\n",
       "        [1.4317753 , 1.0122173 ],\n",
       "        [1.7356611 , 0.95857763],\n",
       "        [0.21499014, 1.1590588 ],\n",
       "        [1.893431  , 1.4200065 ],\n",
       "        [0.28886104, 0.24535513],\n",
       "        [0.6282916 , 1.6592205 ],\n",
       "        [1.4292618 , 1.7259889 ],\n",
       "        [1.1346627 , 1.6255558 ],\n",
       "        [1.4512169 , 0.59271026]],\n",
       "\n",
       "       [[1.1701936 , 0.891073  ],\n",
       "        [1.4320207 , 1.0122619 ],\n",
       "        [1.7355531 , 0.9585967 ],\n",
       "        [0.21499014, 1.1590588 ],\n",
       "        [1.893431  , 1.4200065 ],\n",
       "        [0.28886104, 0.24535513],\n",
       "        [0.6282916 , 1.6592205 ],\n",
       "        [1.4291265 , 1.7259427 ],\n",
       "        [1.134798  , 1.6256019 ],\n",
       "        [1.4512169 , 0.59271026]],\n",
       "\n",
       "       [[1.1700038 , 0.89098513],\n",
       "        [1.4323591 , 1.0123235 ],\n",
       "        [1.7354045 , 0.95862293],\n",
       "        [0.21499014, 1.1590588 ],\n",
       "        [1.893431  , 1.4200065 ],\n",
       "        [0.28886104, 0.24535513],\n",
       "        [0.6282916 , 1.6592205 ],\n",
       "        [1.4289389 , 1.7258787 ],\n",
       "        [1.1349857 , 1.6256659 ],\n",
       "        [1.4512169 , 0.59271026]],\n",
       "\n",
       "       [[1.169764  , 0.89087415],\n",
       "        [1.4327856 , 1.0124015 ],\n",
       "        [1.7352177 , 0.95865595],\n",
       "        [0.21499014, 1.1590588 ],\n",
       "        [1.893431  , 1.4200065 ],\n",
       "        [0.28886104, 0.24535513],\n",
       "        [0.6282916 , 1.6592205 ],\n",
       "        [1.4287007 , 1.7257975 ],\n",
       "        [1.1352239 , 1.6257471 ],\n",
       "        [1.4512169 , 0.59271026]],\n",
       "\n",
       "       [[1.1694776 , 0.8907416 ],\n",
       "        [1.4332939 , 1.0124948 ],\n",
       "        [1.7349958 , 0.95869523],\n",
       "        [0.21499014, 1.1590588 ],\n",
       "        [1.893431  , 1.4200065 ],\n",
       "        [0.28886104, 0.24535513],\n",
       "        [0.6282916 , 1.6592205 ],\n",
       "        [1.4284139 , 1.7256998 ],\n",
       "        [1.1355107 , 1.6258448 ],\n",
       "        [1.4512169 , 0.59271026]],\n",
       "\n",
       "       [[1.1691128 , 0.8905729 ],\n",
       "        [1.4339385 , 1.0126139 ],\n",
       "        [1.734716  , 0.9587448 ],\n",
       "        [0.21499014, 1.1590588 ],\n",
       "        [1.893431  , 1.4200065 ],\n",
       "        [0.28886104, 0.24535513],\n",
       "        [0.6282916 , 1.6592205 ],\n",
       "        [1.4280453 , 1.7255741 ],\n",
       "        [1.1358793 , 1.6259705 ],\n",
       "        [1.4512169 , 0.59271026]],\n",
       "\n",
       "       [[1.1686584 , 0.8903629 ],\n",
       "        [1.4347368 , 1.0127628 ],\n",
       "        [1.7343721 , 0.9588059 ],\n",
       "        [0.21499014, 1.1590588 ],\n",
       "        [1.893431  , 1.4200065 ],\n",
       "        [0.28886104, 0.24535513],\n",
       "        [0.6282916 , 1.6592205 ],\n",
       "        [1.42758   , 1.7254155 ],\n",
       "        [1.1363446 , 1.6261292 ],\n",
       "        [1.4512169 , 0.59271026]],\n",
       "\n",
       "       [[1.1681042 , 0.89010704],\n",
       "        [1.4357023 , 1.0129454 ],\n",
       "        [1.7339609 , 0.9588791 ],\n",
       "        [0.21499014, 1.1590588 ],\n",
       "        [1.893431  , 1.4200065 ],\n",
       "        [0.28886104, 0.24535513],\n",
       "        [0.6282916 , 1.6592205 ],\n",
       "        [1.427002  , 1.7252184 ],\n",
       "        [1.1369226 , 1.6263262 ],\n",
       "        [1.4512169 , 0.59271026]],\n",
       "\n",
       "       [[1.167444  , 0.8898025 ],\n",
       "        [1.4368377 , 1.0131651 ],\n",
       "        [1.7334857 , 0.95896393],\n",
       "        [0.21499014, 1.1590588 ],\n",
       "        [1.893431  , 1.4200065 ],\n",
       "        [0.28886104, 0.24535513],\n",
       "        [0.6282916 , 1.6592205 ],\n",
       "        [1.4262947 , 1.7249773 ],\n",
       "        [1.1376299 , 1.6265674 ],\n",
       "        [1.4512169 , 0.59271026]],\n",
       "\n",
       "       [[1.1666797 , 0.8894504 ],\n",
       "        [1.4381233 , 1.013424  ],\n",
       "        [1.7329643 , 0.9590572 ],\n",
       "        [0.21499014, 1.1590588 ],\n",
       "        [1.893431  , 1.4200065 ],\n",
       "        [0.28886104, 0.24535513],\n",
       "        [0.6282916 , 1.6592205 ],\n",
       "        [1.4254404 , 1.724686  ],\n",
       "        [1.1384841 , 1.6268586 ],\n",
       "        [1.4512169 , 0.59271026]],\n",
       "\n",
       "       [[1.165836  , 0.8890619 ],\n",
       "        [1.4394752 , 1.0137217 ],\n",
       "        [1.7324562 , 0.95914805],\n",
       "        [0.21499014, 1.1590588 ],\n",
       "        [1.893431  , 1.4200065 ],\n",
       "        [0.28886104, 0.24535513],\n",
       "        [0.6282916 , 1.6592205 ],\n",
       "        [1.4244169 , 1.7243371 ],\n",
       "        [1.1395077 , 1.6272075 ],\n",
       "        [1.4512169 , 0.59271026]],\n",
       "\n",
       "       [[1.1658372 , 0.8890625 ],\n",
       "        [1.43947   , 1.0137218 ],\n",
       "        [1.73246   , 0.95914733],\n",
       "        [0.21499014, 1.1590588 ],\n",
       "        [1.893431  , 1.4200065 ],\n",
       "        [0.28886104, 0.24535513],\n",
       "        [0.6282916 , 1.6592205 ],\n",
       "        [1.424415  , 1.7243365 ],\n",
       "        [1.1395096 , 1.6272081 ],\n",
       "        [1.4512169 , 0.59271026]],\n",
       "\n",
       "       [[1.1658409 , 0.8890642 ],\n",
       "        [1.4394549 , 1.0137223 ],\n",
       "        [1.7324715 , 0.9591452 ],\n",
       "        [0.21499014, 1.1590588 ],\n",
       "        [1.893431  , 1.4200065 ],\n",
       "        [0.28886104, 0.24535513],\n",
       "        [0.6282916 , 1.6592205 ],\n",
       "        [1.4244094 , 1.7243346 ],\n",
       "        [1.1395152 , 1.62721   ],\n",
       "        [1.4512169 , 0.59271026]],\n",
       "\n",
       "       [[1.165847  , 0.889067  ],\n",
       "        [1.43943   , 1.013723  ],\n",
       "        [1.7324903 , 0.9591417 ],\n",
       "        [0.21499014, 1.1590588 ],\n",
       "        [1.893431  , 1.4200065 ],\n",
       "        [0.28886104, 0.24535513],\n",
       "        [0.6282916 , 1.6592205 ],\n",
       "        [1.4244001 , 1.7243314 ],\n",
       "        [1.1395245 , 1.6272132 ],\n",
       "        [1.4512169 , 0.59271026]],\n",
       "\n",
       "       [[1.1658553 , 0.8890708 ],\n",
       "        [1.4393955 , 1.0137241 ],\n",
       "        [1.7325164 , 0.9591368 ],\n",
       "        [0.21499014, 1.1590588 ],\n",
       "        [1.893431  , 1.4200065 ],\n",
       "        [0.28886104, 0.24535513],\n",
       "        [0.6282916 , 1.6592205 ],\n",
       "        [1.4243872 , 1.724327  ],\n",
       "        [1.1395373 , 1.6272177 ],\n",
       "        [1.4512169 , 0.59271026]],\n",
       "\n",
       "       [[1.1658658 , 0.8890756 ],\n",
       "        [1.439352  , 1.0137255 ],\n",
       "        [1.7325495 , 0.95913064],\n",
       "        [0.21499014, 1.1590588 ],\n",
       "        [1.893431  , 1.4200065 ],\n",
       "        [0.28886104, 0.24535513],\n",
       "        [0.6282916 , 1.6592205 ],\n",
       "        [1.4243709 , 1.7243214 ],\n",
       "        [1.1395537 , 1.6272233 ],\n",
       "        [1.4512169 , 0.59271026]],\n",
       "\n",
       "       [[1.165878  , 0.8890812 ],\n",
       "        [1.4393    , 1.0137273 ],\n",
       "        [1.7325894 , 0.95912325],\n",
       "        [0.21499014, 1.1590588 ],\n",
       "        [1.893431  , 1.4200065 ],\n",
       "        [0.28886104, 0.24535513],\n",
       "        [0.6282916 , 1.6592205 ],\n",
       "        [1.4243512 , 1.7243147 ],\n",
       "        [1.1395733 , 1.6272299 ],\n",
       "        [1.4512169 , 0.59271026]],\n",
       "\n",
       "       [[1.1658934 , 0.88908815],\n",
       "        [1.4392335 , 1.0137298 ],\n",
       "        [1.7326404 , 0.9591138 ],\n",
       "        [0.21499014, 1.1590588 ],\n",
       "        [1.893431  , 1.4200065 ],\n",
       "        [0.28886104, 0.24535513],\n",
       "        [0.6282916 , 1.6592205 ],\n",
       "        [1.4243258 , 1.7243061 ],\n",
       "        [1.1395987 , 1.6272385 ],\n",
       "        [1.4512169 , 0.59271026]],\n",
       "\n",
       "       [[1.165912  , 0.8890966 ],\n",
       "        [1.4391508 , 1.0137333 ],\n",
       "        [1.7327045 , 0.9591018 ],\n",
       "        [0.21499014, 1.1590588 ],\n",
       "        [1.893431  , 1.4200065 ],\n",
       "        [0.28886104, 0.24535513],\n",
       "        [0.6282916 , 1.6592205 ],\n",
       "        [1.4242938 , 1.7242951 ],\n",
       "        [1.1396308 , 1.6272495 ],\n",
       "        [1.4512169 , 0.59271026]],\n",
       "\n",
       "       [[1.1659338 , 0.8891066 ],\n",
       "        [1.4390496 , 1.0137382 ],\n",
       "        [1.7327839 , 0.959087  ],\n",
       "        [0.21499014, 1.1590588 ],\n",
       "        [1.893431  , 1.4200065 ],\n",
       "        [0.28886104, 0.24535513],\n",
       "        [0.6282916 , 1.6592205 ],\n",
       "        [1.424254  , 1.7242815 ],\n",
       "        [1.1396706 , 1.6272631 ],\n",
       "        [1.4512169 , 0.59271026]],\n",
       "\n",
       "       [[1.1659583 , 0.8891177 ],\n",
       "        [1.4389287 , 1.013745  ],\n",
       "        [1.7328804 , 0.9590691 ],\n",
       "        [0.21499014, 1.1590588 ],\n",
       "        [1.893431  , 1.4200065 ],\n",
       "        [0.28886104, 0.24535513],\n",
       "        [0.6282916 , 1.6592205 ],\n",
       "        [1.4242052 , 1.7242649 ],\n",
       "        [1.1397194 , 1.6272798 ],\n",
       "        [1.4512169 , 0.59271026]],\n",
       "\n",
       "       [[1.1659838 , 0.8891294 ],\n",
       "        [1.4387884 , 1.0137546 ],\n",
       "        [1.7329952 , 0.95904773],\n",
       "        [0.21499014, 1.1590588 ],\n",
       "        [1.893431  , 1.4200065 ],\n",
       "        [0.28886104, 0.24535513],\n",
       "        [0.6282916 , 1.6592205 ],\n",
       "        [1.4241465 , 1.7242448 ],\n",
       "        [1.139778  , 1.6272998 ],\n",
       "        [1.4512169 , 0.59271026]],\n",
       "\n",
       "       [[1.1660074 , 0.8891402 ],\n",
       "        [1.4386319 , 1.0137686 ],\n",
       "        [1.733128  , 0.959023  ],\n",
       "        [0.21499014, 1.1590588 ],\n",
       "        [1.893431  , 1.4200065 ],\n",
       "        [0.28886104, 0.24535513],\n",
       "        [0.6282916 , 1.6592205 ],\n",
       "        [1.4240776 , 1.7242213 ],\n",
       "        [1.1398469 , 1.6273233 ],\n",
       "        [1.4512169 , 0.59271026]],\n",
       "\n",
       "       [[1.1660237 , 0.8891476 ],\n",
       "        [1.4384682 , 1.0137886 ],\n",
       "        [1.7332753 , 0.9589956 ],\n",
       "        [0.21499014, 1.1590588 ],\n",
       "        [1.893431  , 1.4200065 ],\n",
       "        [0.28886104, 0.24535513],\n",
       "        [0.6282916 , 1.6592205 ],\n",
       "        [1.4239997 , 1.7241948 ],\n",
       "        [1.1399249 , 1.6273499 ],\n",
       "        [1.4512169 , 0.59271026]],\n",
       "\n",
       "       [[1.1660259 , 0.88914853],\n",
       "        [1.4383137 , 1.013816  ],\n",
       "        [1.7334278 , 0.9589672 ],\n",
       "        [0.21499014, 1.1590588 ],\n",
       "        [1.893431  , 1.4200065 ],\n",
       "        [0.28886104, 0.24535513],\n",
       "        [0.6282916 , 1.6592205 ],\n",
       "        [1.4239173 , 1.7241666 ],\n",
       "        [1.1400073 , 1.627378  ],\n",
       "        [1.4512169 , 0.59271026]],\n",
       "\n",
       "       [[1.1660248 , 0.88914806],\n",
       "        [1.4383152 , 1.0138165 ],\n",
       "        [1.7334274 , 0.95896727],\n",
       "        [0.21499014, 1.1590588 ],\n",
       "        [1.893431  , 1.4200065 ],\n",
       "        [0.28886104, 0.24535513],\n",
       "        [0.6282916 , 1.6592205 ],\n",
       "        [1.4239174 , 1.7241666 ],\n",
       "        [1.1400071 , 1.627378  ],\n",
       "        [1.4512169 , 0.59271026]]], dtype=float32)"
      ]
     },
     "execution_count": 8,
     "metadata": {},
     "output_type": "execute_result"
    }
   ],
   "source": [
    "trajectory"
   ]
  },
  {
   "cell_type": "code",
   "execution_count": 9,
   "metadata": {},
   "outputs": [
    {
     "data": {
      "image/png": "[encoded data removed]",
      "text/plain": [
       "<Figure size 640x480 with 1 Axes>"
      ]
     },
     "metadata": {},
     "output_type": "display_data"
    }
   ],
   "source": [
    "plot_configuration(R, bond_array, box_size)"
   ]
  },
  {
   "cell_type": "code",
   "execution_count": 14,
   "metadata": {},
   "outputs": [
    {
     "data": {
      "text/plain": [
       "array([[0, 1],\n",
       "       [1, 2],\n",
       "       [7, 8]])"
      ]
     },
     "execution_count": 14,
     "metadata": {},
     "output_type": "execute_result"
    }
   ],
   "source": [
    "bond_array"
   ]
  },
  {
   "cell_type": "code",
   "execution_count": 26,
   "metadata": {},
   "outputs": [
    {
     "data": {
      "application/vnd.plotly.v1+json": {
       "config": {
        "plotlyServerURL": "https://plot.ly"
       },
       "data": [
        {
         "mode": "markers",
         "type": "scatter",
         "x": [
          [
           1.106507420539856,
           0.835067093372345
          ],
          [
           1.1072394847869873,
           0.836090087890625
          ],
          [
           1.1084611415863037,
           0.8377742171287537
          ],
          [
           1.1101773977279663,
           0.8400905728340149
          ],
          [
           1.1123995780944824,
           0.8430033326148987
          ],
          [
           1.1151493787765503,
           0.846474826335907
          ],
          [
           1.1188228130340576,
           0.8508977890014648
          ],
          [
           1.1237348318099976,
           0.8564592003822327
          ],
          [
           1.1304271221160889,
           0.86344313621521
          ],
          [
           1.140182375907898,
           0.8724856972694397
          ],
          [
           1.1586389541625977,
           0.8862582445144653
          ],
          [
           1.158733606338501,
           0.8862972855567932
          ],
          [
           1.159015417098999,
           0.8864136934280396
          ],
          [
           1.1594783067703247,
           0.8866050243377686
          ],
          [
           1.160111665725708,
           0.8868672847747803
          ],
          [
           1.1609004735946655,
           0.8871946930885315
          ],
          [
           1.1618252992630005,
           0.887579619884491
          ],
          [
           1.1629722118377686,
           0.888058602809906
          ],
          [
           1.1643487215042114,
           0.8886357545852661
          ],
          [
           1.1659363508224487,
           0.8893043398857117
          ],
          [
           1.1676682233810425,
           0.8900363445281982
          ],
          [
           1.1693676710128784,
           0.8907541632652283
          ],
          [
           1.170441746711731,
           0.8911879658699036
          ],
          [
           1.1704139709472656,
           0.8911750912666321
          ],
          [
           1.1703308820724487,
           0.8911365866661072
          ],
          [
           1.1701935529708862,
           0.8910729885101318
          ],
          [
           1.1700037717819214,
           0.8909851312637329
          ],
          [
           1.1697640419006348,
           0.8908741474151611
          ],
          [
           1.1694775819778442,
           0.8907415866851807
          ],
          [
           1.1691128015518188,
           0.8905729055404663
          ],
          [
           1.1686583757400513,
           0.8903629183769226
          ],
          [
           1.1681041717529297,
           0.8901070356369019
          ],
          [
           1.1674439907073975,
           0.8898025155067444
          ],
          [
           1.1666797399520874,
           0.8894503712654114
          ],
          [
           1.165835976600647,
           0.8890619277954102
          ],
          [
           1.1658371686935425,
           0.8890625238418579
          ],
          [
           1.1658408641815186,
           0.8890641927719116
          ],
          [
           1.1658469438552856,
           0.8890669941902161
          ],
          [
           1.1658552885055542,
           0.8890708088874817
          ],
          [
           1.1658657789230347,
           0.8890755772590637
          ],
          [
           1.1658780574798584,
           0.8890811800956726
          ],
          [
           1.1658934354782104,
           0.8890881538391113
          ],
          [
           1.1659120321273804,
           0.8890966176986694
          ],
          [
           1.1659338474273682,
           0.8891065716743469
          ],
          [
           1.165958285331726,
           0.8891177177429199
          ],
          [
           1.16598379611969,
           0.8891294002532959
          ],
          [
           1.166007399559021,
           0.8891401886940002
          ],
          [
           1.1660237312316895,
           0.8891475796699524
          ],
          [
           1.1660258769989014,
           0.8891485333442688
          ],
          [
           1.1660248041152954,
           0.8891480565071106
          ]
         ],
         "y": [
          [
           1.3302243947982788,
           1.1468182802200317
          ],
          [
           1.3339898586273193,
           1.1436922550201416
          ],
          [
           1.3401703834533691,
           1.1385557651519775
          ],
          [
           1.3486230373382568,
           1.131516456604004
          ],
          [
           1.359148621559143,
           1.1227177381515503
          ],
          [
           1.3714922666549683,
           1.1123316287994385
          ],
          [
           1.3868058919906616,
           1.0992991924285889
          ],
          [
           1.4051841497421265,
           1.0833215713500977
          ],
          [
           1.4263499975204468,
           1.0641064643859863
          ],
          [
           1.4490091800689697,
           1.0411813259124756
          ],
          [
           1.465273141860962,
           1.0128346681594849
          ],
          [
           1.465031623840332,
           1.0128251314163208
          ],
          [
           1.4643115997314453,
           1.0127967596054077
          ],
          [
           1.4631266593933105,
           1.012750267982483
          ],
          [
           1.461499810218811,
           1.012686848640442
          ],
          [
           1.4594632387161255,
           1.0126081705093384
          ],
          [
           1.4570585489273071,
           1.012516975402832
          ],
          [
           1.454047441482544,
           1.0124059915542603
          ],
          [
           1.450381875038147,
           1.0122779607772827
          ],
          [
           1.4460608959197998,
           1.0121418237686157
          ],
          [
           1.441172480583191,
           1.012020230293274
          ],
          [
           1.4360034465789795,
           1.0119693279266357
          ],
          [
           1.4315768480300903,
           1.012181282043457
          ],
          [
           1.4316266775131226,
           1.012190341949463
          ],
          [
           1.4317753314971924,
           1.0122172832489014
          ],
          [
           1.432020664215088,
           1.0122618675231934
          ],
          [
           1.4323590993881226,
           1.0123234987258911
          ],
          [
           1.4327856302261353,
           1.0124014616012573
          ],
          [
           1.4332939386367798,
           1.0124948024749756
          ],
          [
           1.4339385032653809,
           1.0126138925552368
          ],
          [
           1.4347368478775024,
           1.0127627849578857
          ],
          [
           1.4357023239135742,
           1.0129454135894775
          ],
          [
           1.4368376731872559,
           1.0131651163101196
          ],
          [
           1.438123345375061,
           1.013424038887024
          ],
          [
           1.439475178718567,
           1.0137217044830322
          ],
          [
           1.4394700527191162,
           1.0137218236923218
          ],
          [
           1.4394549131393433,
           1.01372230052948
          ],
          [
           1.4394299983978271,
           1.0137230157852173
          ],
          [
           1.439395546913147,
           1.0137240886688232
          ],
          [
           1.439352035522461,
           1.0137255191802979
          ],
          [
           1.4392999410629272,
           1.0137273073196411
          ],
          [
           1.4392335414886475,
           1.0137298107147217
          ],
          [
           1.4391508102416992,
           1.0137332677841187
          ],
          [
           1.4390496015548706,
           1.0137381553649902
          ],
          [
           1.4389287233352661,
           1.0137449502944946
          ],
          [
           1.4387884140014648,
           1.0137546062469482
          ],
          [
           1.4386318922042847,
           1.0137685537338257
          ],
          [
           1.4384682178497314,
           1.0137885808944702
          ],
          [
           1.4383137226104736,
           1.013815999031067
          ],
          [
           1.4383151531219482,
           1.013816475868225
          ]
         ]
        },
        {
         "line": {
          "color": "gray",
          "width": 0.5
         },
         "mode": "lines",
         "type": "scatter",
         "x": [
          1.106507420539856,
          1.3302243947982788,
          null,
          1.3302243947982788,
          1.9010353088378906,
          null,
          1.742357611656189,
          0.8215672373771667,
          null
         ],
         "y": [
          0.835067093372345,
          1.1468182802200317,
          null,
          1.1468182802200317,
          0.880046010017395,
          null,
          1.8327274322509766,
          1.5188171863555908,
          null
         ]
        }
       ],
       "layout": {
        "height": 600,
        "margin": {
         "b": 50,
         "l": 50,
         "r": 50,
         "t": 50
        },
        "plot_bgcolor": "rgba(255, 255, 255, 1)",
        "sliders": [
         {
          "active": 0,
          "currentvalue": {
           "prefix": "Frame: "
          },
          "pad": {
           "t": 50
          },
          "steps": [
           {
            "args": [
             {
              "x": [
               [
                1.106507420539856,
                1.3302243947982788,
                1.9010353088378906,
                0.21499013900756836,
                1.8934309482574463,
                0.2888610363006592,
                0.6282916069030762,
                1.742357611656189,
                0.8215672373771667,
                1.4512169361114502
               ],
               [
                1.106507420539856,
                1.3302243947982788,
                null,
                1.3302243947982788,
                1.9010353088378906,
                null,
                1.742357611656189,
                0.8215672373771667,
                null
               ]
              ],
              "y": [
               [
                0.835067093372345,
                1.1468182802200317,
                0.880046010017395,
                1.1590588092803955,
                1.420006513595581,
                0.24535512924194336,
                1.6592204570770264,
                1.8327274322509766,
                1.5188171863555908,
                0.5927102565765381
               ],
               [
                0.835067093372345,
                1.1468182802200317,
                null,
                1.1468182802200317,
                0.880046010017395,
                null,
                1.8327274322509766,
                1.5188171863555908,
                null
               ]
              ]
             }
            ],
            "label": "0",
            "method": "update"
           },
           {
            "args": [
             {
              "x": [
               [
                1.1072394847869873,
                1.3339898586273193,
                1.8965376615524292,
                0.21499013900756836,
                1.8934309482574463,
                0.2888610363006592,
                0.6282916069030762,
                1.7327775955200195,
                0.831147313117981,
                1.4512169361114502
               ],
               [
                1.1072394847869873,
                1.3339898586273193,
                null,
                1.3339898586273193,
                1.8965376615524292,
                null,
                1.7327775955200195,
                0.831147313117981,
                null
               ]
              ],
              "y": [
               [
                0.836090087890625,
                1.1436922550201416,
                0.8821491003036499,
                1.1590588092803955,
                1.420006513595581,
                0.24535512924194336,
                1.6592204570770264,
                1.8294614553451538,
                1.5220831632614136,
                0.5927102565765381
               ],
               [
                0.836090087890625,
                1.1436922550201416,
                null,
                1.1436922550201416,
                0.8821491003036499,
                null,
                1.8294614553451538,
                1.5220831632614136,
                null
               ]
              ]
             }
            ],
            "label": "1",
            "method": "update"
           },
           {
            "args": [
             {
              "x": [
               [
                1.1084611415863037,
                1.3401703834533691,
                1.889135479927063,
                0.21499013900756836,
                1.8934309482574463,
                0.2888610363006592,
                0.6282916069030762,
                1.7170236110687256,
                0.8469012379646301,
                1.4512169361114502
               ],
               [
                1.1084611415863037,
                1.3401703834533691,
                null,
                1.3401703834533691,
                1.889135479927063,
                null,
                1.7170236110687256,
                0.8469012379646301,
                null
               ]
              ],
              "y": [
               [
                0.8377742171287537,
                1.1385557651519775,
                0.8856014013290405,
                1.1590588092803955,
                1.420006513595581,
                0.24535512924194336,
                1.6592204570770264,
                1.8240907192230225,
                1.527453899383545,
                0.5927102565765381
               ],
               [
                0.8377742171287537,
                1.1385557651519775,
                null,
                1.1385557651519775,
                0.8856014013290405,
                null,
                1.8240907192230225,
                1.527453899383545,
                null
               ]
              ]
             }
            ],
            "label": "2",
            "method": "update"
           },
           {
            "args": [
             {
              "x": [
               [
                1.1101773977279663,
                1.3486230373382568,
                1.8789665699005127,
                0.21499013900756836,
                1.8934309482574463,
                0.2888610363006592,
                0.6282916069030762,
                1.6954103708267212,
                0.8685144186019897,
                1.4512169361114502
               ],
               [
                1.1101773977279663,
                1.3486230373382568,
                null,
                1.3486230373382568,
                1.8789665699005127,
                null,
                1.6954103708267212,
                0.8685144186019897,
                null
               ]
              ],
              "y": [
               [
                0.8400905728340149,
                1.131516456604004,
                0.8903244137763977,
                1.1590588092803955,
                1.420006513595581,
                0.24535512924194336,
                1.6592204570770264,
                1.8167225122451782,
                1.5348221063613892,
                0.5927102565765381
               ],
               [
                0.8400905728340149,
                1.131516456604004,
                null,
                1.131516456604004,
                0.8903244137763977,
                null,
                1.8167225122451782,
                1.5348221063613892,
                null
               ]
              ]
             }
            ],
            "label": "3",
            "method": "update"
           },
           {
            "args": [
             {
              "x": [
               [
                1.1123995780944824,
                1.359148621559143,
                1.8662188053131104,
                0.21499013900756836,
                1.8934309482574463,
                0.2888610363006592,
                0.6282916069030762,
                1.6683696508407593,
                0.8955551385879517,
                1.4512169361114502
               ],
               [
                1.1123995780944824,
                1.359148621559143,
                null,
                1.359148621559143,
                1.8662188053131104,
                null,
                1.6683696508407593,
                0.8955551385879517,
                null
               ]
              ],
              "y": [
               [
                0.8430033326148987,
                1.1227177381515503,
                0.8962104320526123,
                1.1590588092803955,
                1.420006513595581,
                0.24535512924194336,
                1.6592204570770264,
                1.8075039386749268,
                1.5440406799316406,
                0.5927102565765381
               ],
               [
                0.8430033326148987,
                1.1227177381515503,
                null,
                1.1227177381515503,
                0.8962104320526123,
                null,
                1.8075039386749268,
                1.5440406799316406,
                null
               ]
              ]
             }
            ],
            "label": "4",
            "method": "update"
           },
           {
            "args": [
             {
              "x": [
               [
                1.1151493787765503,
                1.3714922666549683,
                1.8511253595352173,
                0.21499013900756836,
                1.8934309482574463,
                0.2888610363006592,
                0.6282916069030762,
                1.636441946029663,
                0.9274828433990479,
                1.4512169361114502
               ],
               [
                1.1151493787765503,
                1.3714922666549683,
                null,
                1.3714922666549683,
                1.8511253595352173,
                null,
                1.636441946029663,
                0.9274828433990479,
                null
               ]
              ],
              "y": [
               [
                0.846474826335907,
                1.1123316287994385,
                0.9031251072883606,
                1.1590588092803955,
                1.420006513595581,
                0.24535512924194336,
                1.6592204570770264,
                1.7966192960739136,
                1.5549253225326538,
                0.5927102565765381
               ],
               [
                0.846474826335907,
                1.1123316287994385,
                null,
                1.1123316287994385,
                0.9031251072883606,
                null,
                1.7966192960739136,
                1.5549253225326538,
                null
               ]
              ]
             }
            ],
            "label": "5",
            "method": "update"
           },
           {
            "args": [
             {
              "x": [
               [
                1.1188228130340576,
                1.3868058919906616,
                1.8321382999420166,
                0.21499013900756836,
                1.8934309482574463,
                0.2888610363006592,
                0.6282916069030762,
                1.5964343547821045,
                0.9674903750419617,
                1.4512169361114502
               ],
               [
                1.1188228130340576,
                1.3868058919906616,
                null,
                1.3868058919906616,
                1.8321382999420166,
                null,
                1.5964343547821045,
                0.9674903750419617,
                null
               ]
              ],
              "y": [
               [
                0.8508977890014648,
                1.0992991924285889,
                0.9117346405982971,
                1.1590588092803955,
                1.420006513595581,
                0.24535512924194336,
                1.6592204570770264,
                1.78298020362854,
                1.5685644149780273,
                0.5927102565765381
               ],
               [
                0.8508977890014648,
                1.0992991924285889,
                null,
                1.0992991924285889,
                0.9117346405982971,
                null,
                1.78298020362854,
                1.5685644149780273,
                null
               ]
              ]
             }
            ],
            "label": "6",
            "method": "update"
           },
           {
            "args": [
             {
              "x": [
               [
                1.1237348318099976,
                1.4051841497421265,
                1.8088480234146118,
                0.21499013900756836,
                1.8934309482574463,
                0.2888610363006592,
                0.6282916069030762,
                1.5476462841033936,
                1.0162783861160278,
                1.4512169361114502
               ],
               [
                1.1237348318099976,
                1.4051841497421265,
                null,
                1.4051841497421265,
                1.8088480234146118,
                null,
                1.5476462841033936,
                1.0162783861160278,
                null
               ]
              ],
              "y": [
               [
                0.8564592003822327,
                1.0833215713500977,
                0.9221507906913757,
                1.1590588092803955,
                1.420006513595581,
                0.24535512924194336,
                1.6592204570770264,
                1.7663476467132568,
                1.5851969718933105,
                0.5927102565765381
               ],
               [
                0.8564592003822327,
                1.0833215713500977,
                null,
                1.0833215713500977,
                0.9221507906913757,
                null,
                1.7663476467132568,
                1.5851969718933105,
                null
               ]
              ]
             }
            ],
            "label": "7",
            "method": "update"
           },
           {
            "args": [
             {
              "x": [
               [
                1.1304271221160889,
                1.4263499975204468,
                1.7809898853302002,
                0.21499013900756836,
                1.8934309482574463,
                0.2888610363006592,
                0.6282916069030762,
                1.4898416996002197,
                1.0740829706192017,
                1.4512169361114502
               ],
               [
                1.1304271221160889,
                1.4263499975204468,
                null,
                1.4263499975204468,
                1.7809898853302002,
                null,
                1.4898416996002197,
                1.0740829706192017,
                null
               ]
              ],
              "y": [
               [
                0.86344313621521,
                1.0641064643859863,
                0.9343820214271545,
                1.1590588092803955,
                1.420006513595581,
                0.24535512924194336,
                1.6592204570770264,
                1.7466412782669067,
                1.6049033403396606,
                0.5927102565765381
               ],
               [
                0.86344313621521,
                1.0641064643859863,
                null,
                1.0641064643859863,
                0.9343820214271545,
                null,
                1.7466412782669067,
                1.6049033403396606,
                null
               ]
              ]
             }
            ],
            "label": "8",
            "method": "update"
           },
           {
            "args": [
             {
              "x": [
               [
                1.140182375907898,
                1.4490091800689697,
                1.7485754489898682,
                0.21499013900756836,
                1.8934309482574463,
                0.2888610363006592,
                0.6282916069030762,
                1.4238545894622803,
                1.1400699615478516,
                1.4512169361114502
               ],
               [
                1.140182375907898,
                1.4490091800689697,
                null,
                1.4490091800689697,
                1.7485754489898682,
                null,
                1.4238545894622803,
                1.1400699615478516,
                null
               ]
              ],
              "y": [
               [
                0.8724856972694397,
                1.0411813259124756,
                0.9482645988464355,
                1.1590588092803955,
                1.420006513595581,
                0.24535512924194336,
                1.6592204570770264,
                1.7241454124450684,
                1.627399206161499,
                0.5927102565765381
               ],
               [
                0.8724856972694397,
                1.0411813259124756,
                null,
                1.0411813259124756,
                0.9482645988464355,
                null,
                1.7241454124450684,
                1.627399206161499,
                null
               ]
              ]
             }
            ],
            "label": "9",
            "method": "update"
           },
           {
            "args": [
             {
              "x": [
               [
                1.1586389541625977,
                1.465273141860962,
                1.7138549089431763,
                0.21499013900756836,
                1.8934309482574463,
                0.2888610363006592,
                0.6282916069030762,
                1.358309268951416,
                1.2056152820587158,
                1.4512169361114502
               ],
               [
                1.1586389541625977,
                1.465273141860962,
                null,
                1.465273141860962,
                1.7138549089431763,
                null,
                1.358309268951416,
                1.2056152820587158,
                null
               ]
              ],
              "y": [
               [
                0.8862582445144653,
                1.0128346681594849,
                0.9628387093544006,
                1.1590588092803955,
                1.420006513595581,
                0.24535512924194336,
                1.6592204570770264,
                1.7018001079559326,
                1.6497445106506348,
                0.5927102565765381
               ],
               [
                0.8862582445144653,
                1.0128346681594849,
                null,
                1.0128346681594849,
                0.9628387093544006,
                null,
                1.7018001079559326,
                1.6497445106506348,
                null
               ]
              ]
             }
            ],
            "label": "10",
            "method": "update"
           },
           {
            "args": [
             {
              "x": [
               [
                1.158733606338501,
                1.465031623840332,
                1.7140017747879028,
                0.21499013900756836,
                1.8934309482574463,
                0.2888610363006592,
                0.6282916069030762,
                1.3587327003479004,
                1.2051918506622314,
                1.4512169361114502
               ],
               [
                1.158733606338501,
                1.465031623840332,
                null,
                1.465031623840332,
                1.7140017747879028,
                null,
                1.3587327003479004,
                1.2051918506622314,
                null
               ]
              ],
              "y": [
               [
                0.8862972855567932,
                1.0128251314163208,
                0.962809145450592,
                1.1590588092803955,
                1.420006513595581,
                0.24535512924194336,
                1.6592204570770264,
                1.7019444704055786,
                1.6496001482009888,
                0.5927102565765381
               ],
               [
                0.8862972855567932,
                1.0128251314163208,
                null,
                1.0128251314163208,
                0.962809145450592,
                null,
                1.7019444704055786,
                1.6496001482009888,
                null
               ]
              ]
             }
            ],
            "label": "11",
            "method": "update"
           },
           {
            "args": [
             {
              "x": [
               [
                1.159015417098999,
                1.4643115997314453,
                1.7144399881362915,
                0.21499013900756836,
                1.8934309482574463,
                0.2888610363006592,
                0.6282916069030762,
                1.3599975109100342,
                1.2039270401000977,
                1.4512169361114502
               ],
               [
                1.159015417098999,
                1.4643115997314453,
                null,
                1.4643115997314453,
                1.7144399881362915,
                null,
                1.3599975109100342,
                1.2039270401000977,
                null
               ]
              ],
              "y": [
               [
                0.8864136934280396,
                1.0127967596054077,
                0.9627211093902588,
                1.1590588092803955,
                1.420006513595581,
                0.24535512924194336,
                1.6592204570770264,
                1.7023756504058838,
                1.6491689682006836,
                0.5927102565765381
               ],
               [
                0.8864136934280396,
                1.0127967596054077,
                null,
                1.0127967596054077,
                0.9627211093902588,
                null,
                1.7023756504058838,
                1.6491689682006836,
                null
               ]
              ]
             }
            ],
            "label": "12",
            "method": "update"
           },
           {
            "args": [
             {
              "x": [
               [
                1.1594783067703247,
                1.4631266593933105,
                1.7151620388031006,
                0.21499013900756836,
                1.8934309482574463,
                0.2888610363006592,
                0.6282916069030762,
                1.362087607383728,
                1.2018369436264038,
                1.4512169361114502
               ],
               [
                1.1594783067703247,
                1.4631266593933105,
                null,
                1.4631266593933105,
                1.7151620388031006,
                null,
                1.362087607383728,
                1.2018369436264038,
                null
               ]
              ],
              "y": [
               [
                0.8866050243377686,
                1.012750267982483,
                0.9625762701034546,
                1.1590588092803955,
                1.420006513595581,
                0.24535512924194336,
                1.6592204570770264,
                1.7030881643295288,
                1.6484564542770386,
                0.5927102565765381
               ],
               [
                0.8866050243377686,
                1.012750267982483,
                null,
                1.012750267982483,
                0.9625762701034546,
                null,
                1.7030881643295288,
                1.6484564542770386,
                null
               ]
              ]
             }
            ],
            "label": "13",
            "method": "update"
           },
           {
            "args": [
             {
              "x": [
               [
                1.160111665725708,
                1.461499810218811,
                1.7161556482315063,
                0.21499013900756836,
                1.8934309482574463,
                0.2888610363006592,
                0.6282916069030762,
                1.3649765253067017,
                1.1989480257034302,
                1.4512169361114502
               ],
               [
                1.160111665725708,
                1.461499810218811,
                null,
                1.461499810218811,
                1.7161556482315063,
                null,
                1.3649765253067017,
                1.1989480257034302,
                null
               ]
              ],
              "y": [
               [
                0.8868672847747803,
                1.012686848640442,
                0.9623774886131287,
                1.1590588092803955,
                1.420006513595581,
                0.24535512924194336,
                1.6592204570770264,
                1.7040730714797974,
                1.64747154712677,
                0.5927102565765381
               ],
               [
                0.8868672847747803,
                1.012686848640442,
                null,
                1.012686848640442,
                0.9623774886131287,
                null,
                1.7040730714797974,
                1.64747154712677,
                null
               ]
              ]
             }
            ],
            "label": "14",
            "method": "update"
           },
           {
            "args": [
             {
              "x": [
               [
                1.1609004735946655,
                1.4594632387161255,
                1.7174034118652344,
                0.21499013900756836,
                1.8934309482574463,
                0.2888610363006592,
                0.6282916069030762,
                1.368627905845642,
                1.1952966451644897,
                1.4512169361114502
               ],
               [
                1.1609004735946655,
                1.4594632387161255,
                null,
                1.4594632387161255,
                1.7174034118652344,
                null,
                1.368627905845642,
                1.1952966451644897,
                null
               ]
              ],
              "y": [
               [
                0.8871946930885315,
                1.0126081705093384,
                0.9621286988258362,
                1.1590588092803955,
                1.420006513595581,
                0.24535512924194336,
                1.6592204570770264,
                1.7053178548812866,
                1.6462267637252808,
                0.5927102565765381
               ],
               [
                0.8871946930885315,
                1.0126081705093384,
                null,
                1.0126081705093384,
                0.9621286988258362,
                null,
                1.7053178548812866,
                1.6462267637252808,
                null
               ]
              ]
             }
            ],
            "label": "15",
            "method": "update"
           },
           {
            "args": [
             {
              "x": [
               [
                1.1618252992630005,
                1.4570585489273071,
                1.7188832759857178,
                0.21499013900756836,
                1.8934309482574463,
                0.2888610363006592,
                0.6282916069030762,
                1.372996211051941,
                1.190928339958191,
                1.4512169361114502
               ],
               [
                1.1618252992630005,
                1.4570585489273071,
                null,
                1.4570585489273071,
                1.7188832759857178,
                null,
                1.372996211051941,
                1.190928339958191,
                null
               ]
              ],
              "y": [
               [
                0.887579619884491,
                1.012516975402832,
                0.9618349671363831,
                1.1590588092803955,
                1.420006513595581,
                0.24535512924194336,
                1.6592204570770264,
                1.7068071365356445,
                1.6447374820709229,
                0.5927102565765381
               ],
               [
                0.887579619884491,
                1.012516975402832,
                null,
                1.012516975402832,
                0.9618349671363831,
                null,
                1.7068071365356445,
                1.6447374820709229,
                null
               ]
              ]
             }
            ],
            "label": "16",
            "method": "update"
           },
           {
            "args": [
             {
              "x": [
               [
                1.1629722118377686,
                1.454047441482544,
                1.720747470855713,
                0.21499013900756836,
                1.8934309482574463,
                0.2888610363006592,
                0.6282916069030762,
                1.378564476966858,
                1.185360074043274,
                1.4512169361114502
               ],
               [
                1.1629722118377686,
                1.454047441482544,
                null,
                1.454047441482544,
                1.720747470855713,
                null,
                1.378564476966858,
                1.185360074043274,
                null
               ]
              ],
              "y": [
               [
                0.888058602809906,
                1.0124059915542603,
                0.961466908454895,
                1.1590588092803955,
                1.420006513595581,
                0.24535512924194336,
                1.6592204570770264,
                1.7087054252624512,
                1.6428391933441162,
                0.5927102565765381
               ],
               [
                0.888058602809906,
                1.0124059915542603,
                null,
                1.0124059915542603,
                0.961466908454895,
                null,
                1.7087054252624512,
                1.6428391933441162,
                null
               ]
              ]
             }
            ],
            "label": "17",
            "method": "update"
           },
           {
            "args": [
             {
              "x": [
               [
                1.1643487215042114,
                1.450381875038147,
                1.723036527633667,
                0.21499013900756836,
                1.8934309482574463,
                0.2888610363006592,
                0.6282916069030762,
                1.385515570640564,
                1.1784089803695679,
                1.4512169361114502
               ],
               [
                1.1643487215042114,
                1.450381875038147,
                null,
                1.450381875038147,
                1.723036527633667,
                null,
                1.385515570640564,
                1.1784089803695679,
                null
               ]
              ],
              "y": [
               [
                0.8886357545852661,
                1.0122779607772827,
                0.9610177874565125,
                1.1590588092803955,
                1.420006513595581,
                0.24535512924194336,
                1.6592204570770264,
                1.7110751867294312,
                1.6404694318771362,
                0.5927102565765381
               ],
               [
                0.8886357545852661,
                1.0122779607772827,
                null,
                1.0122779607772827,
                0.9610177874565125,
                null,
                1.7110751867294312,
                1.6404694318771362,
                null
               ]
              ]
             }
            ],
            "label": "18",
            "method": "update"
           },
           {
            "args": [
             {
              "x": [
               [
                1.1659363508224487,
                1.4460608959197998,
                1.7257698774337769,
                0.21499013900756836,
                1.8934309482574463,
                0.2888610363006592,
                0.6282916069030762,
                1.3940142393112183,
                1.1699103116989136,
                1.4512169361114502
               ],
               [
                1.1659363508224487,
                1.4460608959197998,
                null,
                1.4460608959197998,
                1.7257698774337769,
                null,
                1.3940142393112183,
                1.1699103116989136,
                null
               ]
              ],
              "y": [
               [
                0.8893043398857117,
                1.0121418237686157,
                0.9604853391647339,
                1.1590588092803955,
                1.420006513595581,
                0.24535512924194336,
                1.6592204570770264,
                1.7139724493026733,
                1.637572169303894,
                0.5927102565765381
               ],
               [
                0.8893043398857117,
                1.0121418237686157,
                null,
                1.0121418237686157,
                0.9604853391647339,
                null,
                1.7139724493026733,
                1.637572169303894,
                null
               ]
              ]
             }
            ],
            "label": "19",
            "method": "update"
           },
           {
            "args": [
             {
              "x": [
               [
                1.1676682233810425,
                1.441172480583191,
                1.728926420211792,
                0.21499013900756836,
                1.8934309482574463,
                0.2888610363006592,
                0.6282916069030762,
                1.4041837453842163,
                1.1597408056259155,
                1.4512169361114502
               ],
               [
                1.1676682233810425,
                1.441172480583191,
                null,
                1.441172480583191,
                1.728926420211792,
                null,
                1.4041837453842163,
                1.1597408056259155,
                null
               ]
              ],
              "y": [
               [
                0.8900363445281982,
                1.012020230293274,
                0.9598749279975891,
                1.1590588092803955,
                1.420006513595581,
                0.24535512924194336,
                1.6592204570770264,
                1.7174394130706787,
                1.6341052055358887,
                0.5927102565765381
               ],
               [
                0.8900363445281982,
                1.012020230293274,
                null,
                1.012020230293274,
                0.9598749279975891,
                null,
                1.7174394130706787,
                1.6341052055358887,
                null
               ]
              ]
             }
            ],
            "label": "20",
            "method": "update"
           },
           {
            "args": [
             {
              "x": [
               [
                1.1693676710128784,
                1.4360034465789795,
                1.7323960065841675,
                0.21499013900756836,
                1.8934309482574463,
                0.2888610363006592,
                0.6282916069030762,
                1.4160573482513428,
                1.147867202758789,
                1.4512169361114502
               ],
               [
                1.1693676710128784,
                1.4360034465789795,
                null,
                1.4360034465789795,
                1.7323960065841675,
                null,
                1.4160573482513428,
                1.147867202758789,
                null
               ]
              ],
              "y": [
               [
                0.8907541632652283,
                1.0119693279266357,
                0.9592080116271973,
                1.1590588092803955,
                1.420006513595581,
                0.24535512924194336,
                1.6592204570770264,
                1.721487283706665,
                1.6300573348999023,
                0.5927102565765381
               ],
               [
                0.8907541632652283,
                1.0119693279266357,
                null,
                1.0119693279266357,
                0.9592080116271973,
                null,
                1.721487283706665,
                1.6300573348999023,
                null
               ]
              ]
             }
            ],
            "label": "21",
            "method": "update"
           },
           {
            "args": [
             {
              "x": [
               [
                1.170441746711731,
                1.4315768480300903,
                1.735748529434204,
                0.21499013900756836,
                1.8934309482574463,
                0.2888610363006592,
                0.6282916069030762,
                1.4293707609176636,
                1.1345537900924683,
                1.4512169361114502
               ],
               [
                1.170441746711731,
                1.4315768480300903,
                null,
                1.4315768480300903,
                1.735748529434204,
                null,
                1.4293707609176636,
                1.1345537900924683,
                null
               ]
              ],
              "y": [
               [
                0.8911879658699036,
                1.012181282043457,
                0.9585621953010559,
                1.1590588092803955,
                1.420006513595581,
                0.24535512924194336,
                1.6592204570770264,
                1.7260260581970215,
                1.625518560409546,
                0.5927102565765381
               ],
               [
                0.8911879658699036,
                1.012181282043457,
                null,
                1.012181282043457,
                0.9585621953010559,
                null,
                1.7260260581970215,
                1.625518560409546,
                null
               ]
              ]
             }
            ],
            "label": "22",
            "method": "update"
           },
           {
            "args": [
             {
              "x": [
               [
                1.1704139709472656,
                1.4316266775131226,
                1.7357265949249268,
                0.21499013900756836,
                1.8934309482574463,
                0.2888610363006592,
                0.6282916069030762,
                1.4293434619903564,
                1.1345810890197754,
                1.4512169361114502
               ],
               [
                1.1704139709472656,
                1.4316266775131226,
                null,
                1.4316266775131226,
                1.7357265949249268,
                null,
                1.4293434619903564,
                1.1345810890197754,
                null
               ]
              ],
              "y": [
               [
                0.8911750912666321,
                1.012190341949463,
                0.9585660696029663,
                1.1590588092803955,
                1.420006513595581,
                0.24535512924194336,
                1.6592204570770264,
                1.7260167598724365,
                1.6255278587341309,
                0.5927102565765381
               ],
               [
                0.8911750912666321,
                1.012190341949463,
                null,
                1.012190341949463,
                0.9585660696029663,
                null,
                1.7260167598724365,
                1.6255278587341309,
                null
               ]
              ]
             }
            ],
            "label": "23",
            "method": "update"
           },
           {
            "args": [
             {
              "x": [
               [
                1.1703308820724487,
                1.4317753314971924,
                1.7356611490249634,
                0.21499013900756836,
                1.8934309482574463,
                0.2888610363006592,
                0.6282916069030762,
                1.4292618036270142,
                1.1346627473831177,
                1.4512169361114502
               ],
               [
                1.1703308820724487,
                1.4317753314971924,
                null,
                1.4317753314971924,
                1.7356611490249634,
                null,
                1.4292618036270142,
                1.1346627473831177,
                null
               ]
              ],
              "y": [
               [
                0.8911365866661072,
                1.0122172832489014,
                0.9585776329040527,
                1.1590588092803955,
                1.420006513595581,
                0.24535512924194336,
                1.6592204570770264,
                1.7259888648986816,
                1.6255557537078857,
                0.5927102565765381
               ],
               [
                0.8911365866661072,
                1.0122172832489014,
                null,
                1.0122172832489014,
                0.9585776329040527,
                null,
                1.7259888648986816,
                1.6255557537078857,
                null
               ]
              ]
             }
            ],
            "label": "24",
            "method": "update"
           },
           {
            "args": [
             {
              "x": [
               [
                1.1701935529708862,
                1.432020664215088,
                1.7355531454086304,
                0.21499013900756836,
                1.8934309482574463,
                0.2888610363006592,
                0.6282916069030762,
                1.429126501083374,
                1.1347980499267578,
                1.4512169361114502
               ],
               [
                1.1701935529708862,
                1.432020664215088,
                null,
                1.432020664215088,
                1.7355531454086304,
                null,
                1.429126501083374,
                1.1347980499267578,
                null
               ]
              ],
              "y": [
               [
                0.8910729885101318,
                1.0122618675231934,
                0.9585967063903809,
                1.1590588092803955,
                1.420006513595581,
                0.24535512924194336,
                1.6592204570770264,
                1.7259427309036255,
                1.625601887702942,
                0.5927102565765381
               ],
               [
                0.8910729885101318,
                1.0122618675231934,
                null,
                1.0122618675231934,
                0.9585967063903809,
                null,
                1.7259427309036255,
                1.625601887702942,
                null
               ]
              ]
             }
            ],
            "label": "25",
            "method": "update"
           },
           {
            "args": [
             {
              "x": [
               [
                1.1700037717819214,
                1.4323590993881226,
                1.7354044914245605,
                0.21499013900756836,
                1.8934309482574463,
                0.2888610363006592,
                0.6282916069030762,
                1.428938865661621,
                1.1349856853485107,
                1.4512169361114502
               ],
               [
                1.1700037717819214,
                1.4323590993881226,
                null,
                1.4323590993881226,
                1.7354044914245605,
                null,
                1.428938865661621,
                1.1349856853485107,
                null
               ]
              ],
              "y": [
               [
                0.8909851312637329,
                1.0123234987258911,
                0.958622932434082,
                1.1590588092803955,
                1.420006513595581,
                0.24535512924194336,
                1.6592204570770264,
                1.7258787155151367,
                1.6256659030914307,
                0.5927102565765381
               ],
               [
                0.8909851312637329,
                1.0123234987258911,
                null,
                1.0123234987258911,
                0.958622932434082,
                null,
                1.7258787155151367,
                1.6256659030914307,
                null
               ]
              ]
             }
            ],
            "label": "26",
            "method": "update"
           },
           {
            "args": [
             {
              "x": [
               [
                1.1697640419006348,
                1.4327856302261353,
                1.7352176904678345,
                0.21499013900756836,
                1.8934309482574463,
                0.2888610363006592,
                0.6282916069030762,
                1.4287006855010986,
                1.1352238655090332,
                1.4512169361114502
               ],
               [
                1.1697640419006348,
                1.4327856302261353,
                null,
                1.4327856302261353,
                1.7352176904678345,
                null,
                1.4287006855010986,
                1.1352238655090332,
                null
               ]
              ],
              "y": [
               [
                0.8908741474151611,
                1.0124014616012573,
                0.9586559534072876,
                1.1590588092803955,
                1.420006513595581,
                0.24535512924194336,
                1.6592204570770264,
                1.7257975339889526,
                1.6257470846176147,
                0.5927102565765381
               ],
               [
                0.8908741474151611,
                1.0124014616012573,
                null,
                1.0124014616012573,
                0.9586559534072876,
                null,
                1.7257975339889526,
                1.6257470846176147,
                null
               ]
              ]
             }
            ],
            "label": "27",
            "method": "update"
           },
           {
            "args": [
             {
              "x": [
               [
                1.1694775819778442,
                1.4332939386367798,
                1.7349958419799805,
                0.21499013900756836,
                1.8934309482574463,
                0.2888610363006592,
                0.6282916069030762,
                1.4284138679504395,
                1.1355106830596924,
                1.4512169361114502
               ],
               [
                1.1694775819778442,
                1.4332939386367798,
                null,
                1.4332939386367798,
                1.7349958419799805,
                null,
                1.4284138679504395,
                1.1355106830596924,
                null
               ]
              ],
              "y": [
               [
                0.8907415866851807,
                1.0124948024749756,
                0.9586952328681946,
                1.1590588092803955,
                1.420006513595581,
                0.24535512924194336,
                1.6592204570770264,
                1.725699782371521,
                1.6258448362350464,
                0.5927102565765381
               ],
               [
                0.8907415866851807,
                1.0124948024749756,
                null,
                1.0124948024749756,
                0.9586952328681946,
                null,
                1.725699782371521,
                1.6258448362350464,
                null
               ]
              ]
             }
            ],
            "label": "28",
            "method": "update"
           },
           {
            "args": [
             {
              "x": [
               [
                1.1691128015518188,
                1.4339385032653809,
                1.7347160577774048,
                0.21499013900756836,
                1.8934309482574463,
                0.2888610363006592,
                0.6282916069030762,
                1.4280452728271484,
                1.1358792781829834,
                1.4512169361114502
               ],
               [
                1.1691128015518188,
                1.4339385032653809,
                null,
                1.4339385032653809,
                1.7347160577774048,
                null,
                1.4280452728271484,
                1.1358792781829834,
                null
               ]
              ],
              "y": [
               [
                0.8905729055404663,
                1.0126138925552368,
                0.9587448239326477,
                1.1590588092803955,
                1.420006513595581,
                0.24535512924194336,
                1.6592204570770264,
                1.7255741357803345,
                1.625970482826233,
                0.5927102565765381
               ],
               [
                0.8905729055404663,
                1.0126138925552368,
                null,
                1.0126138925552368,
                0.9587448239326477,
                null,
                1.7255741357803345,
                1.625970482826233,
                null
               ]
              ]
             }
            ],
            "label": "29",
            "method": "update"
           },
           {
            "args": [
             {
              "x": [
               [
                1.1686583757400513,
                1.4347368478775024,
                1.7343721389770508,
                0.21499013900756836,
                1.8934309482574463,
                0.2888610363006592,
                0.6282916069030762,
                1.4275799989700317,
                1.1363445520401,
                1.4512169361114502
               ],
               [
                1.1686583757400513,
                1.4347368478775024,
                null,
                1.4347368478775024,
                1.7343721389770508,
                null,
                1.4275799989700317,
                1.1363445520401,
                null
               ]
              ],
              "y": [
               [
                0.8903629183769226,
                1.0127627849578857,
                0.9588059186935425,
                1.1590588092803955,
                1.420006513595581,
                0.24535512924194336,
                1.6592204570770264,
                1.7254154682159424,
                1.626129150390625,
                0.5927102565765381
               ],
               [
                0.8903629183769226,
                1.0127627849578857,
                null,
                1.0127627849578857,
                0.9588059186935425,
                null,
                1.7254154682159424,
                1.626129150390625,
                null
               ]
              ]
             }
            ],
            "label": "30",
            "method": "update"
           },
           {
            "args": [
             {
              "x": [
               [
                1.1681041717529297,
                1.4357023239135742,
                1.7339608669281006,
                0.21499013900756836,
                1.8934309482574463,
                0.2888610363006592,
                0.6282916069030762,
                1.427001953125,
                1.1369225978851318,
                1.4512169361114502
               ],
               [
                1.1681041717529297,
                1.4357023239135742,
                null,
                1.4357023239135742,
                1.7339608669281006,
                null,
                1.427001953125,
                1.1369225978851318,
                null
               ]
              ],
              "y": [
               [
                0.8901070356369019,
                1.0129454135894775,
                0.9588791131973267,
                1.1590588092803955,
                1.420006513595581,
                0.24535512924194336,
                1.6592204570770264,
                1.725218415260315,
                1.6263262033462524,
                0.5927102565765381
               ],
               [
                0.8901070356369019,
                1.0129454135894775,
                null,
                1.0129454135894775,
                0.9588791131973267,
                null,
                1.725218415260315,
                1.6263262033462524,
                null
               ]
              ]
             }
            ],
            "label": "31",
            "method": "update"
           },
           {
            "args": [
             {
              "x": [
               [
                1.1674439907073975,
                1.4368376731872559,
                1.7334856986999512,
                0.21499013900756836,
                1.8934309482574463,
                0.2888610363006592,
                0.6282916069030762,
                1.4262946844100952,
                1.1376298666000366,
                1.4512169361114502
               ],
               [
                1.1674439907073975,
                1.4368376731872559,
                null,
                1.4368376731872559,
                1.7334856986999512,
                null,
                1.4262946844100952,
                1.1376298666000366,
                null
               ]
              ],
              "y": [
               [
                0.8898025155067444,
                1.0131651163101196,
                0.958963930606842,
                1.1590588092803955,
                1.420006513595581,
                0.24535512924194336,
                1.6592204570770264,
                1.7249772548675537,
                1.6265673637390137,
                0.5927102565765381
               ],
               [
                0.8898025155067444,
                1.0131651163101196,
                null,
                1.0131651163101196,
                0.958963930606842,
                null,
                1.7249772548675537,
                1.6265673637390137,
                null
               ]
              ]
             }
            ],
            "label": "32",
            "method": "update"
           },
           {
            "args": [
             {
              "x": [
               [
                1.1666797399520874,
                1.438123345375061,
                1.732964277267456,
                0.21499013900756836,
                1.8934309482574463,
                0.2888610363006592,
                0.6282916069030762,
                1.4254404306411743,
                1.1384841203689575,
                1.4512169361114502
               ],
               [
                1.1666797399520874,
                1.438123345375061,
                null,
                1.438123345375061,
                1.732964277267456,
                null,
                1.4254404306411743,
                1.1384841203689575,
                null
               ]
              ],
              "y": [
               [
                0.8894503712654114,
                1.013424038887024,
                0.9590572118759155,
                1.1590588092803955,
                1.420006513595581,
                0.24535512924194336,
                1.6592204570770264,
                1.7246860265731812,
                1.6268585920333862,
                0.5927102565765381
               ],
               [
                0.8894503712654114,
                1.013424038887024,
                null,
                1.013424038887024,
                0.9590572118759155,
                null,
                1.7246860265731812,
                1.6268585920333862,
                null
               ]
              ]
             }
            ],
            "label": "33",
            "method": "update"
           },
           {
            "args": [
             {
              "x": [
               [
                1.165835976600647,
                1.439475178718567,
                1.7324562072753906,
                0.21499013900756836,
                1.8934309482574463,
                0.2888610363006592,
                0.6282916069030762,
                1.4244168996810913,
                1.1395076513290405,
                1.4512169361114502
               ],
               [
                1.165835976600647,
                1.439475178718567,
                null,
                1.439475178718567,
                1.7324562072753906,
                null,
                1.4244168996810913,
                1.1395076513290405,
                null
               ]
              ],
              "y": [
               [
                0.8890619277954102,
                1.0137217044830322,
                0.9591480493545532,
                1.1590588092803955,
                1.420006513595581,
                0.24535512924194336,
                1.6592204570770264,
                1.724337100982666,
                1.6272075176239014,
                0.5927102565765381
               ],
               [
                0.8890619277954102,
                1.0137217044830322,
                null,
                1.0137217044830322,
                0.9591480493545532,
                null,
                1.724337100982666,
                1.6272075176239014,
                null
               ]
              ]
             }
            ],
            "label": "34",
            "method": "update"
           },
           {
            "args": [
             {
              "x": [
               [
                1.1658371686935425,
                1.4394700527191162,
                1.7324600219726562,
                0.21499013900756836,
                1.8934309482574463,
                0.2888610363006592,
                0.6282916069030762,
                1.4244149923324585,
                1.1395095586776733,
                1.4512169361114502
               ],
               [
                1.1658371686935425,
                1.4394700527191162,
                null,
                1.4394700527191162,
                1.7324600219726562,
                null,
                1.4244149923324585,
                1.1395095586776733,
                null
               ]
              ],
              "y": [
               [
                0.8890625238418579,
                1.0137218236923218,
                0.9591473340988159,
                1.1590588092803955,
                1.420006513595581,
                0.24535512924194336,
                1.6592204570770264,
                1.7243365049362183,
                1.6272081136703491,
                0.5927102565765381
               ],
               [
                0.8890625238418579,
                1.0137218236923218,
                null,
                1.0137218236923218,
                0.9591473340988159,
                null,
                1.7243365049362183,
                1.6272081136703491,
                null
               ]
              ]
             }
            ],
            "label": "35",
            "method": "update"
           },
           {
            "args": [
             {
              "x": [
               [
                1.1658408641815186,
                1.4394549131393433,
                1.7324714660644531,
                0.21499013900756836,
                1.8934309482574463,
                0.2888610363006592,
                0.6282916069030762,
                1.4244093894958496,
                1.1395151615142822,
                1.4512169361114502
               ],
               [
                1.1658408641815186,
                1.4394549131393433,
                null,
                1.4394549131393433,
                1.7324714660644531,
                null,
                1.4244093894958496,
                1.1395151615142822,
                null
               ]
              ],
              "y": [
               [
                0.8890641927719116,
                1.01372230052948,
                0.959145188331604,
                1.1590588092803955,
                1.420006513595581,
                0.24535512924194336,
                1.6592204570770264,
                1.7243345975875854,
                1.627210021018982,
                0.5927102565765381
               ],
               [
                0.8890641927719116,
                1.01372230052948,
                null,
                1.01372230052948,
                0.959145188331604,
                null,
                1.7243345975875854,
                1.627210021018982,
                null
               ]
              ]
             }
            ],
            "label": "36",
            "method": "update"
           },
           {
            "args": [
             {
              "x": [
               [
                1.1658469438552856,
                1.4394299983978271,
                1.7324903011322021,
                0.21499013900756836,
                1.8934309482574463,
                0.2888610363006592,
                0.6282916069030762,
                1.4244000911712646,
                1.1395244598388672,
                1.4512169361114502
               ],
               [
                1.1658469438552856,
                1.4394299983978271,
                null,
                1.4394299983978271,
                1.7324903011322021,
                null,
                1.4244000911712646,
                1.1395244598388672,
                null
               ]
              ],
              "y": [
               [
                0.8890669941902161,
                1.0137230157852173,
                0.9591416716575623,
                1.1590588092803955,
                1.420006513595581,
                0.24535512924194336,
                1.6592204570770264,
                1.7243313789367676,
                1.6272132396697998,
                0.5927102565765381
               ],
               [
                0.8890669941902161,
                1.0137230157852173,
                null,
                1.0137230157852173,
                0.9591416716575623,
                null,
                1.7243313789367676,
                1.6272132396697998,
                null
               ]
              ]
             }
            ],
            "label": "37",
            "method": "update"
           },
           {
            "args": [
             {
              "x": [
               [
                1.1658552885055542,
                1.439395546913147,
                1.7325164079666138,
                0.21499013900756836,
                1.8934309482574463,
                0.2888610363006592,
                0.6282916069030762,
                1.4243872165679932,
                1.1395373344421387,
                1.4512169361114502
               ],
               [
                1.1658552885055542,
                1.439395546913147,
                null,
                1.439395546913147,
                1.7325164079666138,
                null,
                1.4243872165679932,
                1.1395373344421387,
                null
               ]
              ],
              "y": [
               [
                0.8890708088874817,
                1.0137240886688232,
                0.9591367840766907,
                1.1590588092803955,
                1.420006513595581,
                0.24535512924194336,
                1.6592204570770264,
                1.7243269681930542,
                1.6272176504135132,
                0.5927102565765381
               ],
               [
                0.8890708088874817,
                1.0137240886688232,
                null,
                1.0137240886688232,
                0.9591367840766907,
                null,
                1.7243269681930542,
                1.6272176504135132,
                null
               ]
              ]
             }
            ],
            "label": "38",
            "method": "update"
           },
           {
            "args": [
             {
              "x": [
               [
                1.1658657789230347,
                1.439352035522461,
                1.7325495481491089,
                0.21499013900756836,
                1.8934309482574463,
                0.2888610363006592,
                0.6282916069030762,
                1.4243708848953247,
                1.1395536661148071,
                1.4512169361114502
               ],
               [
                1.1658657789230347,
                1.439352035522461,
                null,
                1.439352035522461,
                1.7325495481491089,
                null,
                1.4243708848953247,
                1.1395536661148071,
                null
               ]
              ],
              "y": [
               [
                0.8890755772590637,
                1.0137255191802979,
                0.9591306447982788,
                1.1590588092803955,
                1.420006513595581,
                0.24535512924194336,
                1.6592204570770264,
                1.7243213653564453,
                1.627223253250122,
                0.5927102565765381
               ],
               [
                0.8890755772590637,
                1.0137255191802979,
                null,
                1.0137255191802979,
                0.9591306447982788,
                null,
                1.7243213653564453,
                1.627223253250122,
                null
               ]
              ]
             }
            ],
            "label": "39",
            "method": "update"
           },
           {
            "args": [
             {
              "x": [
               [
                1.1658780574798584,
                1.4392999410629272,
                1.7325893640518188,
                0.21499013900756836,
                1.8934309482574463,
                0.2888610363006592,
                0.6282916069030762,
                1.4243512153625488,
                1.139573335647583,
                1.4512169361114502
               ],
               [
                1.1658780574798584,
                1.4392999410629272,
                null,
                1.4392999410629272,
                1.7325893640518188,
                null,
                1.4243512153625488,
                1.139573335647583,
                null
               ]
              ],
              "y": [
               [
                0.8890811800956726,
                1.0137273073196411,
                0.9591232538223267,
                1.1590588092803955,
                1.420006513595581,
                0.24535512924194336,
                1.6592204570770264,
                1.7243146896362305,
                1.627229928970337,
                0.5927102565765381
               ],
               [
                0.8890811800956726,
                1.0137273073196411,
                null,
                1.0137273073196411,
                0.9591232538223267,
                null,
                1.7243146896362305,
                1.627229928970337,
                null
               ]
              ]
             }
            ],
            "label": "40",
            "method": "update"
           },
           {
            "args": [
             {
              "x": [
               [
                1.1658934354782104,
                1.4392335414886475,
                1.7326403856277466,
                0.21499013900756836,
                1.8934309482574463,
                0.2888610363006592,
                0.6282916069030762,
                1.4243258237838745,
                1.1395987272262573,
                1.4512169361114502
               ],
               [
                1.1658934354782104,
                1.4392335414886475,
                null,
                1.4392335414886475,
                1.7326403856277466,
                null,
                1.4243258237838745,
                1.1395987272262573,
                null
               ]
              ],
              "y": [
               [
                0.8890881538391113,
                1.0137298107147217,
                0.9591137766838074,
                1.1590588092803955,
                1.420006513595581,
                0.24535512924194336,
                1.6592204570770264,
                1.7243061065673828,
                1.6272385120391846,
                0.5927102565765381
               ],
               [
                0.8890881538391113,
                1.0137298107147217,
                null,
                1.0137298107147217,
                0.9591137766838074,
                null,
                1.7243061065673828,
                1.6272385120391846,
                null
               ]
              ]
             }
            ],
            "label": "41",
            "method": "update"
           },
           {
            "args": [
             {
              "x": [
               [
                1.1659120321273804,
                1.4391508102416992,
                1.732704520225525,
                0.21499013900756836,
                1.8934309482574463,
                0.2888610363006592,
                0.6282916069030762,
                1.4242937564849854,
                1.1396307945251465,
                1.4512169361114502
               ],
               [
                1.1659120321273804,
                1.4391508102416992,
                null,
                1.4391508102416992,
                1.732704520225525,
                null,
                1.4242937564849854,
                1.1396307945251465,
                null
               ]
              ],
              "y": [
               [
                0.8890966176986694,
                1.0137332677841187,
                0.9591017961502075,
                1.1590588092803955,
                1.420006513595581,
                0.24535512924194336,
                1.6592204570770264,
                1.7242951393127441,
                1.6272494792938232,
                0.5927102565765381
               ],
               [
                0.8890966176986694,
                1.0137332677841187,
                null,
                1.0137332677841187,
                0.9591017961502075,
                null,
                1.7242951393127441,
                1.6272494792938232,
                null
               ]
              ]
             }
            ],
            "label": "42",
            "method": "update"
           },
           {
            "args": [
             {
              "x": [
               [
                1.1659338474273682,
                1.4390496015548706,
                1.7327839136123657,
                0.21499013900756836,
                1.8934309482574463,
                0.2888610363006592,
                0.6282916069030762,
                1.4242539405822754,
                1.1396706104278564,
                1.4512169361114502
               ],
               [
                1.1659338474273682,
                1.4390496015548706,
                null,
                1.4390496015548706,
                1.7327839136123657,
                null,
                1.4242539405822754,
                1.1396706104278564,
                null
               ]
              ],
              "y": [
               [
                0.8891065716743469,
                1.0137381553649902,
                0.9590870141983032,
                1.1590588092803955,
                1.420006513595581,
                0.24535512924194336,
                1.6592204570770264,
                1.7242815494537354,
                1.627263069152832,
                0.5927102565765381
               ],
               [
                0.8891065716743469,
                1.0137381553649902,
                null,
                1.0137381553649902,
                0.9590870141983032,
                null,
                1.7242815494537354,
                1.627263069152832,
                null
               ]
              ]
             }
            ],
            "label": "43",
            "method": "update"
           },
           {
            "args": [
             {
              "x": [
               [
                1.165958285331726,
                1.4389287233352661,
                1.7328803539276123,
                0.21499013900756836,
                1.8934309482574463,
                0.2888610363006592,
                0.6282916069030762,
                1.4242051839828491,
                1.1397193670272827,
                1.4512169361114502
               ],
               [
                1.165958285331726,
                1.4389287233352661,
                null,
                1.4389287233352661,
                1.7328803539276123,
                null,
                1.4242051839828491,
                1.1397193670272827,
                null
               ]
              ],
              "y": [
               [
                0.8891177177429199,
                1.0137449502944946,
                0.9590690732002258,
                1.1590588092803955,
                1.420006513595581,
                0.24535512924194336,
                1.6592204570770264,
                1.7242648601531982,
                1.6272797584533691,
                0.5927102565765381
               ],
               [
                0.8891177177429199,
                1.0137449502944946,
                null,
                1.0137449502944946,
                0.9590690732002258,
                null,
                1.7242648601531982,
                1.6272797584533691,
                null
               ]
              ]
             }
            ],
            "label": "44",
            "method": "update"
           },
           {
            "args": [
             {
              "x": [
               [
                1.16598379611969,
                1.4387884140014648,
                1.7329951524734497,
                0.21499013900756836,
                1.8934309482574463,
                0.2888610363006592,
                0.6282916069030762,
                1.4241465330123901,
                1.1397780179977417,
                1.4512169361114502
               ],
               [
                1.16598379611969,
                1.4387884140014648,
                null,
                1.4387884140014648,
                1.7329951524734497,
                null,
                1.4241465330123901,
                1.1397780179977417,
                null
               ]
              ],
              "y": [
               [
                0.8891294002532959,
                1.0137546062469482,
                0.9590477347373962,
                1.1590588092803955,
                1.420006513595581,
                0.24535512924194336,
                1.6592204570770264,
                1.7242448329925537,
                1.6272997856140137,
                0.5927102565765381
               ],
               [
                0.8891294002532959,
                1.0137546062469482,
                null,
                1.0137546062469482,
                0.9590477347373962,
                null,
                1.7242448329925537,
                1.6272997856140137,
                null
               ]
              ]
             }
            ],
            "label": "45",
            "method": "update"
           },
           {
            "args": [
             {
              "x": [
               [
                1.166007399559021,
                1.4386318922042847,
                1.7331279516220093,
                0.21499013900756836,
                1.8934309482574463,
                0.2888610363006592,
                0.6282916069030762,
                1.4240776300430298,
                1.139846920967102,
                1.4512169361114502
               ],
               [
                1.166007399559021,
                1.4386318922042847,
                null,
                1.4386318922042847,
                1.7331279516220093,
                null,
                1.4240776300430298,
                1.139846920967102,
                null
               ]
              ],
              "y": [
               [
                0.8891401886940002,
                1.0137685537338257,
                0.9590229988098145,
                1.1590588092803955,
                1.420006513595581,
                0.24535512924194336,
                1.6592204570770264,
                1.7242213487625122,
                1.6273232698440552,
                0.5927102565765381
               ],
               [
                0.8891401886940002,
                1.0137685537338257,
                null,
                1.0137685537338257,
                0.9590229988098145,
                null,
                1.7242213487625122,
                1.6273232698440552,
                null
               ]
              ]
             }
            ],
            "label": "46",
            "method": "update"
           },
           {
            "args": [
             {
              "x": [
               [
                1.1660237312316895,
                1.4384682178497314,
                1.733275294303894,
                0.21499013900756836,
                1.8934309482574463,
                0.2888610363006592,
                0.6282916069030762,
                1.4239996671676636,
                1.1399248838424683,
                1.4512169361114502
               ],
               [
                1.1660237312316895,
                1.4384682178497314,
                null,
                1.4384682178497314,
                1.733275294303894,
                null,
                1.4239996671676636,
                1.1399248838424683,
                null
               ]
              ],
              "y": [
               [
                0.8891475796699524,
                1.0137885808944702,
                0.9589955806732178,
                1.1590588092803955,
                1.420006513595581,
                0.24535512924194336,
                1.6592204570770264,
                1.7241947650909424,
                1.627349853515625,
                0.5927102565765381
               ],
               [
                0.8891475796699524,
                1.0137885808944702,
                null,
                1.0137885808944702,
                0.9589955806732178,
                null,
                1.7241947650909424,
                1.627349853515625,
                null
               ]
              ]
             }
            ],
            "label": "47",
            "method": "update"
           },
           {
            "args": [
             {
              "x": [
               [
                1.1660258769989014,
                1.4383137226104736,
                1.7334277629852295,
                0.21499013900756836,
                1.8934309482574463,
                0.2888610363006592,
                0.6282916069030762,
                1.423917293548584,
                1.1400072574615479,
                1.4512169361114502
               ],
               [
                1.1660258769989014,
                1.4383137226104736,
                null,
                1.4383137226104736,
                1.7334277629852295,
                null,
                1.423917293548584,
                1.1400072574615479,
                null
               ]
              ],
              "y": [
               [
                0.8891485333442688,
                1.013815999031067,
                0.9589672088623047,
                1.1590588092803955,
                1.420006513595581,
                0.24535512924194336,
                1.6592204570770264,
                1.7241666316986084,
                1.627377986907959,
                0.5927102565765381
               ],
               [
                0.8891485333442688,
                1.013815999031067,
                null,
                1.013815999031067,
                0.9589672088623047,
                null,
                1.7241666316986084,
                1.627377986907959,
                null
               ]
              ]
             }
            ],
            "label": "48",
            "method": "update"
           },
           {
            "args": [
             {
              "x": [
               [
                1.1660248041152954,
                1.4383151531219482,
                1.7334274053573608,
                0.21499013900756836,
                1.8934309482574463,
                0.2888610363006592,
                0.6282916069030762,
                1.4239174127578735,
                1.1400071382522583,
                1.4512169361114502
               ],
               [
                1.1660248041152954,
                1.4383151531219482,
                null,
                1.4383151531219482,
                1.7334274053573608,
                null,
                1.4239174127578735,
                1.1400071382522583,
                null
               ]
              ],
              "y": [
               [
                0.8891480565071106,
                1.013816475868225,
                0.9589672684669495,
                1.1590588092803955,
                1.420006513595581,
                0.24535512924194336,
                1.6592204570770264,
                1.7241666316986084,
                1.627377986907959,
                0.5927102565765381
               ],
               [
                0.8891480565071106,
                1.013816475868225,
                null,
                1.013816475868225,
                0.9589672684669495,
                null,
                1.7241666316986084,
                1.627377986907959,
                null
               ]
              ]
             }
            ],
            "label": "49",
            "method": "update"
           }
          ]
         }
        ],
        "template": {
         "data": {
          "bar": [
           {
            "error_x": {
             "color": "#2a3f5f"
            },
            "error_y": {
             "color": "#2a3f5f"
            },
            "marker": {
             "line": {
              "color": "#E5ECF6",
              "width": 0.5
             },
             "pattern": {
              "fillmode": "overlay",
              "size": 10,
              "solidity": 0.2
             }
            },
            "type": "bar"
           }
          ],
          "barpolar": [
           {
            "marker": {
             "line": {
              "color": "#E5ECF6",
              "width": 0.5
             },
             "pattern": {
              "fillmode": "overlay",
              "size": 10,
              "solidity": 0.2
             }
            },
            "type": "barpolar"
           }
          ],
          "carpet": [
           {
            "aaxis": {
             "endlinecolor": "#2a3f5f",
             "gridcolor": "white",
             "linecolor": "white",
             "minorgridcolor": "white",
             "startlinecolor": "#2a3f5f"
            },
            "baxis": {
             "endlinecolor": "#2a3f5f",
             "gridcolor": "white",
             "linecolor": "white",
             "minorgridcolor": "white",
             "startlinecolor": "#2a3f5f"
            },
            "type": "carpet"
           }
          ],
          "choropleth": [
           {
            "colorbar": {
             "outlinewidth": 0,
             "ticks": ""
            },
            "type": "choropleth"
           }
          ],
          "contour": [
           {
            "colorbar": {
             "outlinewidth": 0,
             "ticks": ""
            },
            "colorscale": [
             [
              0,
              "#0d0887"
             ],
             [
              0.1111111111111111,
              "#46039f"
             ],
             [
              0.2222222222222222,
              "#7201a8"
             ],
             [
              0.3333333333333333,
              "#9c179e"
             ],
             [
              0.4444444444444444,
              "#bd3786"
             ],
             [
              0.5555555555555556,
              "#d8576b"
             ],
             [
              0.6666666666666666,
              "#ed7953"
             ],
             [
              0.7777777777777778,
              "#fb9f3a"
             ],
             [
              0.8888888888888888,
              "#fdca26"
             ],
             [
              1,
              "#f0f921"
             ]
            ],
            "type": "contour"
           }
          ],
          "contourcarpet": [
           {
            "colorbar": {
             "outlinewidth": 0,
             "ticks": ""
            },
            "type": "contourcarpet"
           }
          ],
          "heatmap": [
           {
            "colorbar": {
             "outlinewidth": 0,
             "ticks": ""
            },
            "colorscale": [
             [
              0,
              "#0d0887"
             ],
             [
              0.1111111111111111,
              "#46039f"
             ],
             [
              0.2222222222222222,
              "#7201a8"
             ],
             [
              0.3333333333333333,
              "#9c179e"
             ],
             [
              0.4444444444444444,
              "#bd3786"
             ],
             [
              0.5555555555555556,
              "#d8576b"
             ],
             [
              0.6666666666666666,
              "#ed7953"
             ],
             [
              0.7777777777777778,
              "#fb9f3a"
             ],
             [
              0.8888888888888888,
              "#fdca26"
             ],
             [
              1,
              "#f0f921"
             ]
            ],
            "type": "heatmap"
           }
          ],
          "heatmapgl": [
           {
            "colorbar": {
             "outlinewidth": 0,
             "ticks": ""
            },
            "colorscale": [
             [
              0,
              "#0d0887"
             ],
             [
              0.1111111111111111,
              "#46039f"
             ],
             [
              0.2222222222222222,
              "#7201a8"
             ],
             [
              0.3333333333333333,
              "#9c179e"
             ],
             [
              0.4444444444444444,
              "#bd3786"
             ],
             [
              0.5555555555555556,
              "#d8576b"
             ],
             [
              0.6666666666666666,
              "#ed7953"
             ],
             [
              0.7777777777777778,
              "#fb9f3a"
             ],
             [
              0.8888888888888888,
              "#fdca26"
             ],
             [
              1,
              "#f0f921"
             ]
            ],
            "type": "heatmapgl"
           }
          ],
          "histogram": [
           {
            "marker": {
             "pattern": {
              "fillmode": "overlay",
              "size": 10,
              "solidity": 0.2
             }
            },
            "type": "histogram"
           }
          ],
          "histogram2d": [
           {
            "colorbar": {
             "outlinewidth": 0,
             "ticks": ""
            },
            "colorscale": [
             [
              0,
              "#0d0887"
             ],
             [
              0.1111111111111111,
              "#46039f"
             ],
             [
              0.2222222222222222,
              "#7201a8"
             ],
             [
              0.3333333333333333,
              "#9c179e"
             ],
             [
              0.4444444444444444,
              "#bd3786"
             ],
             [
              0.5555555555555556,
              "#d8576b"
             ],
             [
              0.6666666666666666,
              "#ed7953"
             ],
             [
              0.7777777777777778,
              "#fb9f3a"
             ],
             [
              0.8888888888888888,
              "#fdca26"
             ],
             [
              1,
              "#f0f921"
             ]
            ],
            "type": "histogram2d"
           }
          ],
          "histogram2dcontour": [
           {
            "colorbar": {
             "outlinewidth": 0,
             "ticks": ""
            },
            "colorscale": [
             [
              0,
              "#0d0887"
             ],
             [
              0.1111111111111111,
              "#46039f"
             ],
             [
              0.2222222222222222,
              "#7201a8"
             ],
             [
              0.3333333333333333,
              "#9c179e"
             ],
             [
              0.4444444444444444,
              "#bd3786"
             ],
             [
              0.5555555555555556,
              "#d8576b"
             ],
             [
              0.6666666666666666,
              "#ed7953"
             ],
             [
              0.7777777777777778,
              "#fb9f3a"
             ],
             [
              0.8888888888888888,
              "#fdca26"
             ],
             [
              1,
              "#f0f921"
             ]
            ],
            "type": "histogram2dcontour"
           }
          ],
          "mesh3d": [
           {
            "colorbar": {
             "outlinewidth": 0,
             "ticks": ""
            },
            "type": "mesh3d"
           }
          ],
          "parcoords": [
           {
            "line": {
             "colorbar": {
              "outlinewidth": 0,
              "ticks": ""
             }
            },
            "type": "parcoords"
           }
          ],
          "pie": [
           {
            "automargin": true,
            "type": "pie"
           }
          ],
          "scatter": [
           {
            "fillpattern": {
             "fillmode": "overlay",
             "size": 10,
             "solidity": 0.2
            },
            "type": "scatter"
           }
          ],
          "scatter3d": [
           {
            "line": {
             "colorbar": {
              "outlinewidth": 0,
              "ticks": ""
             }
            },
            "marker": {
             "colorbar": {
              "outlinewidth": 0,
              "ticks": ""
             }
            },
            "type": "scatter3d"
           }
          ],
          "scattercarpet": [
           {
            "marker": {
             "colorbar": {
              "outlinewidth": 0,
              "ticks": ""
             }
            },
            "type": "scattercarpet"
           }
          ],
          "scattergeo": [
           {
            "marker": {
             "colorbar": {
              "outlinewidth": 0,
              "ticks": ""
             }
            },
            "type": "scattergeo"
           }
          ],
          "scattergl": [
           {
            "marker": {
             "colorbar": {
              "outlinewidth": 0,
              "ticks": ""
             }
            },
            "type": "scattergl"
           }
          ],
          "scattermapbox": [
           {
            "marker": {
             "colorbar": {
              "outlinewidth": 0,
              "ticks": ""
             }
            },
            "type": "scattermapbox"
           }
          ],
          "scatterpolar": [
           {
            "marker": {
             "colorbar": {
              "outlinewidth": 0,
              "ticks": ""
             }
            },
            "type": "scatterpolar"
           }
          ],
          "scatterpolargl": [
           {
            "marker": {
             "colorbar": {
              "outlinewidth": 0,
              "ticks": ""
             }
            },
            "type": "scatterpolargl"
           }
          ],
          "scatterternary": [
           {
            "marker": {
             "colorbar": {
              "outlinewidth": 0,
              "ticks": ""
             }
            },
            "type": "scatterternary"
           }
          ],
          "surface": [
           {
            "colorbar": {
             "outlinewidth": 0,
             "ticks": ""
            },
            "colorscale": [
             [
              0,
              "#0d0887"
             ],
             [
              0.1111111111111111,
              "#46039f"
             ],
             [
              0.2222222222222222,
              "#7201a8"
             ],
             [
              0.3333333333333333,
              "#9c179e"
             ],
             [
              0.4444444444444444,
              "#bd3786"
             ],
             [
              0.5555555555555556,
              "#d8576b"
             ],
             [
              0.6666666666666666,
              "#ed7953"
             ],
             [
              0.7777777777777778,
              "#fb9f3a"
             ],
             [
              0.8888888888888888,
              "#fdca26"
             ],
             [
              1,
              "#f0f921"
             ]
            ],
            "type": "surface"
           }
          ],
          "table": [
           {
            "cells": {
             "fill": {
              "color": "#EBF0F8"
             },
             "line": {
              "color": "white"
             }
            },
            "header": {
             "fill": {
              "color": "#C8D4E3"
             },
             "line": {
              "color": "white"
             }
            },
            "type": "table"
           }
          ]
         },
         "layout": {
          "annotationdefaults": {
           "arrowcolor": "#2a3f5f",
           "arrowhead": 0,
           "arrowwidth": 1
          },
          "autotypenumbers": "strict",
          "coloraxis": {
           "colorbar": {
            "outlinewidth": 0,
            "ticks": ""
           }
          },
          "colorscale": {
           "diverging": [
            [
             0,
             "#8e0152"
            ],
            [
             0.1,
             "#c51b7d"
            ],
            [
             0.2,
             "#de77ae"
            ],
            [
             0.3,
             "#f1b6da"
            ],
            [
             0.4,
             "#fde0ef"
            ],
            [
             0.5,
             "#f7f7f7"
            ],
            [
             0.6,
             "#e6f5d0"
            ],
            [
             0.7,
             "#b8e186"
            ],
            [
             0.8,
             "#7fbc41"
            ],
            [
             0.9,
             "#4d9221"
            ],
            [
             1,
             "#276419"
            ]
           ],
           "sequential": [
            [
             0,
             "#0d0887"
            ],
            [
             0.1111111111111111,
             "#46039f"
            ],
            [
             0.2222222222222222,
             "#7201a8"
            ],
            [
             0.3333333333333333,
             "#9c179e"
            ],
            [
             0.4444444444444444,
             "#bd3786"
            ],
            [
             0.5555555555555556,
             "#d8576b"
            ],
            [
             0.6666666666666666,
             "#ed7953"
            ],
            [
             0.7777777777777778,
             "#fb9f3a"
            ],
            [
             0.8888888888888888,
             "#fdca26"
            ],
            [
             1,
             "#f0f921"
            ]
           ],
           "sequentialminus": [
            [
             0,
             "#0d0887"
            ],
            [
             0.1111111111111111,
             "#46039f"
            ],
            [
             0.2222222222222222,
             "#7201a8"
            ],
            [
             0.3333333333333333,
             "#9c179e"
            ],
            [
             0.4444444444444444,
             "#bd3786"
            ],
            [
             0.5555555555555556,
             "#d8576b"
            ],
            [
             0.6666666666666666,
             "#ed7953"
            ],
            [
             0.7777777777777778,
             "#fb9f3a"
            ],
            [
             0.8888888888888888,
             "#fdca26"
            ],
            [
             1,
             "#f0f921"
            ]
           ]
          },
          "colorway": [
           "#636efa",
           "#EF553B",
           "#00cc96",
           "#ab63fa",
           "#FFA15A",
           "#19d3f3",
           "#FF6692",
           "#B6E880",
           "#FF97FF",
           "#FECB52"
          ],
          "font": {
           "color": "#2a3f5f"
          },
          "geo": {
           "bgcolor": "white",
           "lakecolor": "white",
           "landcolor": "#E5ECF6",
           "showlakes": true,
           "showland": true,
           "subunitcolor": "white"
          },
          "hoverlabel": {
           "align": "left"
          },
          "hovermode": "closest",
          "mapbox": {
           "style": "light"
          },
          "paper_bgcolor": "white",
          "plot_bgcolor": "#E5ECF6",
          "polar": {
           "angularaxis": {
            "gridcolor": "white",
            "linecolor": "white",
            "ticks": ""
           },
           "bgcolor": "#E5ECF6",
           "radialaxis": {
            "gridcolor": "white",
            "linecolor": "white",
            "ticks": ""
           }
          },
          "scene": {
           "xaxis": {
            "backgroundcolor": "#E5ECF6",
            "gridcolor": "white",
            "gridwidth": 2,
            "linecolor": "white",
            "showbackground": true,
            "ticks": "",
            "zerolinecolor": "white"
           },
           "yaxis": {
            "backgroundcolor": "#E5ECF6",
            "gridcolor": "white",
            "gridwidth": 2,
            "linecolor": "white",
            "showbackground": true,
            "ticks": "",
            "zerolinecolor": "white"
           },
           "zaxis": {
            "backgroundcolor": "#E5ECF6",
            "gridcolor": "white",
            "gridwidth": 2,
            "linecolor": "white",
            "showbackground": true,
            "ticks": "",
            "zerolinecolor": "white"
           }
          },
          "shapedefaults": {
           "line": {
            "color": "#2a3f5f"
           }
          },
          "ternary": {
           "aaxis": {
            "gridcolor": "white",
            "linecolor": "white",
            "ticks": ""
           },
           "baxis": {
            "gridcolor": "white",
            "linecolor": "white",
            "ticks": ""
           },
           "bgcolor": "#E5ECF6",
           "caxis": {
            "gridcolor": "white",
            "linecolor": "white",
            "ticks": ""
           }
          },
          "title": {
           "x": 0.05
          },
          "xaxis": {
           "automargin": true,
           "gridcolor": "white",
           "linecolor": "white",
           "ticks": "",
           "title": {
            "standoff": 15
           },
           "zerolinecolor": "white",
           "zerolinewidth": 2
          },
          "yaxis": {
           "automargin": true,
           "gridcolor": "white",
           "linecolor": "white",
           "ticks": "",
           "title": {
            "standoff": 15
           },
           "zerolinecolor": "white",
           "zerolinewidth": 2
          }
         }
        },
        "width": 600,
        "xaxis": {
         "anchor": "y",
         "domain": [
          0,
          1
         ],
         "showgrid": false,
         "title": {
          "text": "X"
         }
        },
        "yaxis": {
         "anchor": "x",
         "domain": [
          0,
          1
         ],
         "showgrid": false,
         "title": {
          "text": "Y"
         }
        }
       }
      },
      "text/html": [
       "<div>                            <div id=\"e415e702-7f50-4d82-a6e3-a1783f8b17ec\" class=\"plotly-graph-div\" style=\"height:600px; width:600px;\"></div>            <script type=\"text/javascript\">                require([\"plotly\"], function(Plotly) {                    window.PLOTLYENV=window.PLOTLYENV || {};                                    if (document.getElementById(\"e415e702-7f50-4d82-a6e3-a1783f8b17ec\")) {                    Plotly.newPlot(                        \"e415e702-7f50-4d82-a6e3-a1783f8b17ec\",                        [{\"mode\":\"markers\",\"x\":[[1.106507420539856,0.835067093372345],[1.1072394847869873,0.836090087890625],[1.1084611415863037,0.8377742171287537],[1.1101773977279663,0.8400905728340149],[1.1123995780944824,0.8430033326148987],[1.1151493787765503,0.846474826335907],[1.1188228130340576,0.8508977890014648],[1.1237348318099976,0.8564592003822327],[1.1304271221160889,0.86344313621521],[1.140182375907898,0.8724856972694397],[1.1586389541625977,0.8862582445144653],[1.158733606338501,0.8862972855567932],[1.159015417098999,0.8864136934280396],[1.1594783067703247,0.8866050243377686],[1.160111665725708,0.8868672847747803],[1.1609004735946655,0.8871946930885315],[1.1618252992630005,0.887579619884491],[1.1629722118377686,0.888058602809906],[1.1643487215042114,0.8886357545852661],[1.1659363508224487,0.8893043398857117],[1.1676682233810425,0.8900363445281982],[1.1693676710128784,0.8907541632652283],[1.170441746711731,0.8911879658699036],[1.1704139709472656,0.8911750912666321],[1.1703308820724487,0.8911365866661072],[1.1701935529708862,0.8910729885101318],[1.1700037717819214,0.8909851312637329],[1.1697640419006348,0.8908741474151611],[1.1694775819778442,0.8907415866851807],[1.1691128015518188,0.8905729055404663],[1.1686583757400513,0.8903629183769226],[1.1681041717529297,0.8901070356369019],[1.1674439907073975,0.8898025155067444],[1.1666797399520874,0.8894503712654114],[1.165835976600647,0.8890619277954102],[1.1658371686935425,0.8890625238418579],[1.1658408641815186,0.8890641927719116],[1.1658469438552856,0.8890669941902161],[1.1658552885055542,0.8890708088874817],[1.1658657789230347,0.8890755772590637],[1.1658780574798584,0.8890811800956726],[1.1658934354782104,0.8890881538391113],[1.1659120321273804,0.8890966176986694],[1.1659338474273682,0.8891065716743469],[1.165958285331726,0.8891177177429199],[1.16598379611969,0.8891294002532959],[1.166007399559021,0.8891401886940002],[1.1660237312316895,0.8891475796699524],[1.1660258769989014,0.8891485333442688],[1.1660248041152954,0.8891480565071106]],\"y\":[[1.3302243947982788,1.1468182802200317],[1.3339898586273193,1.1436922550201416],[1.3401703834533691,1.1385557651519775],[1.3486230373382568,1.131516456604004],[1.359148621559143,1.1227177381515503],[1.3714922666549683,1.1123316287994385],[1.3868058919906616,1.0992991924285889],[1.4051841497421265,1.0833215713500977],[1.4263499975204468,1.0641064643859863],[1.4490091800689697,1.0411813259124756],[1.465273141860962,1.0128346681594849],[1.465031623840332,1.0128251314163208],[1.4643115997314453,1.0127967596054077],[1.4631266593933105,1.012750267982483],[1.461499810218811,1.012686848640442],[1.4594632387161255,1.0126081705093384],[1.4570585489273071,1.012516975402832],[1.454047441482544,1.0124059915542603],[1.450381875038147,1.0122779607772827],[1.4460608959197998,1.0121418237686157],[1.441172480583191,1.012020230293274],[1.4360034465789795,1.0119693279266357],[1.4315768480300903,1.012181282043457],[1.4316266775131226,1.012190341949463],[1.4317753314971924,1.0122172832489014],[1.432020664215088,1.0122618675231934],[1.4323590993881226,1.0123234987258911],[1.4327856302261353,1.0124014616012573],[1.4332939386367798,1.0124948024749756],[1.4339385032653809,1.0126138925552368],[1.4347368478775024,1.0127627849578857],[1.4357023239135742,1.0129454135894775],[1.4368376731872559,1.0131651163101196],[1.438123345375061,1.013424038887024],[1.439475178718567,1.0137217044830322],[1.4394700527191162,1.0137218236923218],[1.4394549131393433,1.01372230052948],[1.4394299983978271,1.0137230157852173],[1.439395546913147,1.0137240886688232],[1.439352035522461,1.0137255191802979],[1.4392999410629272,1.0137273073196411],[1.4392335414886475,1.0137298107147217],[1.4391508102416992,1.0137332677841187],[1.4390496015548706,1.0137381553649902],[1.4389287233352661,1.0137449502944946],[1.4387884140014648,1.0137546062469482],[1.4386318922042847,1.0137685537338257],[1.4384682178497314,1.0137885808944702],[1.4383137226104736,1.013815999031067],[1.4383151531219482,1.013816475868225]],\"type\":\"scatter\"},{\"line\":{\"color\":\"gray\",\"width\":0.5},\"mode\":\"lines\",\"x\":[1.106507420539856,1.3302243947982788,null,1.3302243947982788,1.9010353088378906,null,1.742357611656189,0.8215672373771667,null],\"y\":[0.835067093372345,1.1468182802200317,null,1.1468182802200317,0.880046010017395,null,1.8327274322509766,1.5188171863555908,null],\"type\":\"scatter\"}],                        {\"template\":{\"data\":{\"histogram2dcontour\":[{\"type\":\"histogram2dcontour\",\"colorbar\":{\"outlinewidth\":0,\"ticks\":\"\"},\"colorscale\":[[0.0,\"#0d0887\"],[0.1111111111111111,\"#46039f\"],[0.2222222222222222,\"#7201a8\"],[0.3333333333333333,\"#9c179e\"],[0.4444444444444444,\"#bd3786\"],[0.5555555555555556,\"#d8576b\"],[0.6666666666666666,\"#ed7953\"],[0.7777777777777778,\"#fb9f3a\"],[0.8888888888888888,\"#fdca26\"],[1.0,\"#f0f921\"]]}],\"choropleth\":[{\"type\":\"choropleth\",\"colorbar\":{\"outlinewidth\":0,\"ticks\":\"\"}}],\"histogram2d\":[{\"type\":\"histogram2d\",\"colorbar\":{\"outlinewidth\":0,\"ticks\":\"\"},\"colorscale\":[[0.0,\"#0d0887\"],[0.1111111111111111,\"#46039f\"],[0.2222222222222222,\"#7201a8\"],[0.3333333333333333,\"#9c179e\"],[0.4444444444444444,\"#bd3786\"],[0.5555555555555556,\"#d8576b\"],[0.6666666666666666,\"#ed7953\"],[0.7777777777777778,\"#fb9f3a\"],[0.8888888888888888,\"#fdca26\"],[1.0,\"#f0f921\"]]}],\"heatmap\":[{\"type\":\"heatmap\",\"colorbar\":{\"outlinewidth\":0,\"ticks\":\"\"},\"colorscale\":[[0.0,\"#0d0887\"],[0.1111111111111111,\"#46039f\"],[0.2222222222222222,\"#7201a8\"],[0.3333333333333333,\"#9c179e\"],[0.4444444444444444,\"#bd3786\"],[0.5555555555555556,\"#d8576b\"],[0.6666666666666666,\"#ed7953\"],[0.7777777777777778,\"#fb9f3a\"],[0.8888888888888888,\"#fdca26\"],[1.0,\"#f0f921\"]]}],\"heatmapgl\":[{\"type\":\"heatmapgl\",\"colorbar\":{\"outlinewidth\":0,\"ticks\":\"\"},\"colorscale\":[[0.0,\"#0d0887\"],[0.1111111111111111,\"#46039f\"],[0.2222222222222222,\"#7201a8\"],[0.3333333333333333,\"#9c179e\"],[0.4444444444444444,\"#bd3786\"],[0.5555555555555556,\"#d8576b\"],[0.6666666666666666,\"#ed7953\"],[0.7777777777777778,\"#fb9f3a\"],[0.8888888888888888,\"#fdca26\"],[1.0,\"#f0f921\"]]}],\"contourcarpet\":[{\"type\":\"contourcarpet\",\"colorbar\":{\"outlinewidth\":0,\"ticks\":\"\"}}],\"contour\":[{\"type\":\"contour\",\"colorbar\":{\"outlinewidth\":0,\"ticks\":\"\"},\"colorscale\":[[0.0,\"#0d0887\"],[0.1111111111111111,\"#46039f\"],[0.2222222222222222,\"#7201a8\"],[0.3333333333333333,\"#9c179e\"],[0.4444444444444444,\"#bd3786\"],[0.5555555555555556,\"#d8576b\"],[0.6666666666666666,\"#ed7953\"],[0.7777777777777778,\"#fb9f3a\"],[0.8888888888888888,\"#fdca26\"],[1.0,\"#f0f921\"]]}],\"surface\":[{\"type\":\"surface\",\"colorbar\":{\"outlinewidth\":0,\"ticks\":\"\"},\"colorscale\":[[0.0,\"#0d0887\"],[0.1111111111111111,\"#46039f\"],[0.2222222222222222,\"#7201a8\"],[0.3333333333333333,\"#9c179e\"],[0.4444444444444444,\"#bd3786\"],[0.5555555555555556,\"#d8576b\"],[0.6666666666666666,\"#ed7953\"],[0.7777777777777778,\"#fb9f3a\"],[0.8888888888888888,\"#fdca26\"],[1.0,\"#f0f921\"]]}],\"mesh3d\":[{\"type\":\"mesh3d\",\"colorbar\":{\"outlinewidth\":0,\"ticks\":\"\"}}],\"scatter\":[{\"fillpattern\":{\"fillmode\":\"overlay\",\"size\":10,\"solidity\":0.2},\"type\":\"scatter\"}],\"parcoords\":[{\"type\":\"parcoords\",\"line\":{\"colorbar\":{\"outlinewidth\":0,\"ticks\":\"\"}}}],\"scatterpolargl\":[{\"type\":\"scatterpolargl\",\"marker\":{\"colorbar\":{\"outlinewidth\":0,\"ticks\":\"\"}}}],\"bar\":[{\"error_x\":{\"color\":\"#2a3f5f\"},\"error_y\":{\"color\":\"#2a3f5f\"},\"marker\":{\"line\":{\"color\":\"#E5ECF6\",\"width\":0.5},\"pattern\":{\"fillmode\":\"overlay\",\"size\":10,\"solidity\":0.2}},\"type\":\"bar\"}],\"scattergeo\":[{\"type\":\"scattergeo\",\"marker\":{\"colorbar\":{\"outlinewidth\":0,\"ticks\":\"\"}}}],\"scatterpolar\":[{\"type\":\"scatterpolar\",\"marker\":{\"colorbar\":{\"outlinewidth\":0,\"ticks\":\"\"}}}],\"histogram\":[{\"marker\":{\"pattern\":{\"fillmode\":\"overlay\",\"size\":10,\"solidity\":0.2}},\"type\":\"histogram\"}],\"scattergl\":[{\"type\":\"scattergl\",\"marker\":{\"colorbar\":{\"outlinewidth\":0,\"ticks\":\"\"}}}],\"scatter3d\":[{\"type\":\"scatter3d\",\"line\":{\"colorbar\":{\"outlinewidth\":0,\"ticks\":\"\"}},\"marker\":{\"colorbar\":{\"outlinewidth\":0,\"ticks\":\"\"}}}],\"scattermapbox\":[{\"type\":\"scattermapbox\",\"marker\":{\"colorbar\":{\"outlinewidth\":0,\"ticks\":\"\"}}}],\"scatterternary\":[{\"type\":\"scatterternary\",\"marker\":{\"colorbar\":{\"outlinewidth\":0,\"ticks\":\"\"}}}],\"scattercarpet\":[{\"type\":\"scattercarpet\",\"marker\":{\"colorbar\":{\"outlinewidth\":0,\"ticks\":\"\"}}}],\"carpet\":[{\"aaxis\":{\"endlinecolor\":\"#2a3f5f\",\"gridcolor\":\"white\",\"linecolor\":\"white\",\"minorgridcolor\":\"white\",\"startlinecolor\":\"#2a3f5f\"},\"baxis\":{\"endlinecolor\":\"#2a3f5f\",\"gridcolor\":\"white\",\"linecolor\":\"white\",\"minorgridcolor\":\"white\",\"startlinecolor\":\"#2a3f5f\"},\"type\":\"carpet\"}],\"table\":[{\"cells\":{\"fill\":{\"color\":\"#EBF0F8\"},\"line\":{\"color\":\"white\"}},\"header\":{\"fill\":{\"color\":\"#C8D4E3\"},\"line\":{\"color\":\"white\"}},\"type\":\"table\"}],\"barpolar\":[{\"marker\":{\"line\":{\"color\":\"#E5ECF6\",\"width\":0.5},\"pattern\":{\"fillmode\":\"overlay\",\"size\":10,\"solidity\":0.2}},\"type\":\"barpolar\"}],\"pie\":[{\"automargin\":true,\"type\":\"pie\"}]},\"layout\":{\"autotypenumbers\":\"strict\",\"colorway\":[\"#636efa\",\"#EF553B\",\"#00cc96\",\"#ab63fa\",\"#FFA15A\",\"#19d3f3\",\"#FF6692\",\"#B6E880\",\"#FF97FF\",\"#FECB52\"],\"font\":{\"color\":\"#2a3f5f\"},\"hovermode\":\"closest\",\"hoverlabel\":{\"align\":\"left\"},\"paper_bgcolor\":\"white\",\"plot_bgcolor\":\"#E5ECF6\",\"polar\":{\"bgcolor\":\"#E5ECF6\",\"angularaxis\":{\"gridcolor\":\"white\",\"linecolor\":\"white\",\"ticks\":\"\"},\"radialaxis\":{\"gridcolor\":\"white\",\"linecolor\":\"white\",\"ticks\":\"\"}},\"ternary\":{\"bgcolor\":\"#E5ECF6\",\"aaxis\":{\"gridcolor\":\"white\",\"linecolor\":\"white\",\"ticks\":\"\"},\"baxis\":{\"gridcolor\":\"white\",\"linecolor\":\"white\",\"ticks\":\"\"},\"caxis\":{\"gridcolor\":\"white\",\"linecolor\":\"white\",\"ticks\":\"\"}},\"coloraxis\":{\"colorbar\":{\"outlinewidth\":0,\"ticks\":\"\"}},\"colorscale\":{\"sequential\":[[0.0,\"#0d0887\"],[0.1111111111111111,\"#46039f\"],[0.2222222222222222,\"#7201a8\"],[0.3333333333333333,\"#9c179e\"],[0.4444444444444444,\"#bd3786\"],[0.5555555555555556,\"#d8576b\"],[0.6666666666666666,\"#ed7953\"],[0.7777777777777778,\"#fb9f3a\"],[0.8888888888888888,\"#fdca26\"],[1.0,\"#f0f921\"]],\"sequentialminus\":[[0.0,\"#0d0887\"],[0.1111111111111111,\"#46039f\"],[0.2222222222222222,\"#7201a8\"],[0.3333333333333333,\"#9c179e\"],[0.4444444444444444,\"#bd3786\"],[0.5555555555555556,\"#d8576b\"],[0.6666666666666666,\"#ed7953\"],[0.7777777777777778,\"#fb9f3a\"],[0.8888888888888888,\"#fdca26\"],[1.0,\"#f0f921\"]],\"diverging\":[[0,\"#8e0152\"],[0.1,\"#c51b7d\"],[0.2,\"#de77ae\"],[0.3,\"#f1b6da\"],[0.4,\"#fde0ef\"],[0.5,\"#f7f7f7\"],[0.6,\"#e6f5d0\"],[0.7,\"#b8e186\"],[0.8,\"#7fbc41\"],[0.9,\"#4d9221\"],[1,\"#276419\"]]},\"xaxis\":{\"gridcolor\":\"white\",\"linecolor\":\"white\",\"ticks\":\"\",\"title\":{\"standoff\":15},\"zerolinecolor\":\"white\",\"automargin\":true,\"zerolinewidth\":2},\"yaxis\":{\"gridcolor\":\"white\",\"linecolor\":\"white\",\"ticks\":\"\",\"title\":{\"standoff\":15},\"zerolinecolor\":\"white\",\"automargin\":true,\"zerolinewidth\":2},\"scene\":{\"xaxis\":{\"backgroundcolor\":\"#E5ECF6\",\"gridcolor\":\"white\",\"linecolor\":\"white\",\"showbackground\":true,\"ticks\":\"\",\"zerolinecolor\":\"white\",\"gridwidth\":2},\"yaxis\":{\"backgroundcolor\":\"#E5ECF6\",\"gridcolor\":\"white\",\"linecolor\":\"white\",\"showbackground\":true,\"ticks\":\"\",\"zerolinecolor\":\"white\",\"gridwidth\":2},\"zaxis\":{\"backgroundcolor\":\"#E5ECF6\",\"gridcolor\":\"white\",\"linecolor\":\"white\",\"showbackground\":true,\"ticks\":\"\",\"zerolinecolor\":\"white\",\"gridwidth\":2}},\"shapedefaults\":{\"line\":{\"color\":\"#2a3f5f\"}},\"annotationdefaults\":{\"arrowcolor\":\"#2a3f5f\",\"arrowhead\":0,\"arrowwidth\":1},\"geo\":{\"bgcolor\":\"white\",\"landcolor\":\"#E5ECF6\",\"subunitcolor\":\"white\",\"showland\":true,\"showlakes\":true,\"lakecolor\":\"white\"},\"title\":{\"x\":0.05},\"mapbox\":{\"style\":\"light\"}}},\"xaxis\":{\"anchor\":\"y\",\"domain\":[0.0,1.0],\"title\":{\"text\":\"X\"},\"showgrid\":false},\"yaxis\":{\"anchor\":\"x\",\"domain\":[0.0,1.0],\"title\":{\"text\":\"Y\"},\"showgrid\":false},\"sliders\":[{\"active\":0,\"currentvalue\":{\"prefix\":\"Frame: \"},\"pad\":{\"t\":50},\"steps\":[{\"args\":[{\"x\":[[1.106507420539856,1.3302243947982788,1.9010353088378906,0.21499013900756836,1.8934309482574463,0.2888610363006592,0.6282916069030762,1.742357611656189,0.8215672373771667,1.4512169361114502],[1.106507420539856,1.3302243947982788,null,1.3302243947982788,1.9010353088378906,null,1.742357611656189,0.8215672373771667,null]],\"y\":[[0.835067093372345,1.1468182802200317,0.880046010017395,1.1590588092803955,1.420006513595581,0.24535512924194336,1.6592204570770264,1.8327274322509766,1.5188171863555908,0.5927102565765381],[0.835067093372345,1.1468182802200317,null,1.1468182802200317,0.880046010017395,null,1.8327274322509766,1.5188171863555908,null]]}],\"label\":\"0\",\"method\":\"update\"},{\"args\":[{\"x\":[[1.1072394847869873,1.3339898586273193,1.8965376615524292,0.21499013900756836,1.8934309482574463,0.2888610363006592,0.6282916069030762,1.7327775955200195,0.831147313117981,1.4512169361114502],[1.1072394847869873,1.3339898586273193,null,1.3339898586273193,1.8965376615524292,null,1.7327775955200195,0.831147313117981,null]],\"y\":[[0.836090087890625,1.1436922550201416,0.8821491003036499,1.1590588092803955,1.420006513595581,0.24535512924194336,1.6592204570770264,1.8294614553451538,1.5220831632614136,0.5927102565765381],[0.836090087890625,1.1436922550201416,null,1.1436922550201416,0.8821491003036499,null,1.8294614553451538,1.5220831632614136,null]]}],\"label\":\"1\",\"method\":\"update\"},{\"args\":[{\"x\":[[1.1084611415863037,1.3401703834533691,1.889135479927063,0.21499013900756836,1.8934309482574463,0.2888610363006592,0.6282916069030762,1.7170236110687256,0.8469012379646301,1.4512169361114502],[1.1084611415863037,1.3401703834533691,null,1.3401703834533691,1.889135479927063,null,1.7170236110687256,0.8469012379646301,null]],\"y\":[[0.8377742171287537,1.1385557651519775,0.8856014013290405,1.1590588092803955,1.420006513595581,0.24535512924194336,1.6592204570770264,1.8240907192230225,1.527453899383545,0.5927102565765381],[0.8377742171287537,1.1385557651519775,null,1.1385557651519775,0.8856014013290405,null,1.8240907192230225,1.527453899383545,null]]}],\"label\":\"2\",\"method\":\"update\"},{\"args\":[{\"x\":[[1.1101773977279663,1.3486230373382568,1.8789665699005127,0.21499013900756836,1.8934309482574463,0.2888610363006592,0.6282916069030762,1.6954103708267212,0.8685144186019897,1.4512169361114502],[1.1101773977279663,1.3486230373382568,null,1.3486230373382568,1.8789665699005127,null,1.6954103708267212,0.8685144186019897,null]],\"y\":[[0.8400905728340149,1.131516456604004,0.8903244137763977,1.1590588092803955,1.420006513595581,0.24535512924194336,1.6592204570770264,1.8167225122451782,1.5348221063613892,0.5927102565765381],[0.8400905728340149,1.131516456604004,null,1.131516456604004,0.8903244137763977,null,1.8167225122451782,1.5348221063613892,null]]}],\"label\":\"3\",\"method\":\"update\"},{\"args\":[{\"x\":[[1.1123995780944824,1.359148621559143,1.8662188053131104,0.21499013900756836,1.8934309482574463,0.2888610363006592,0.6282916069030762,1.6683696508407593,0.8955551385879517,1.4512169361114502],[1.1123995780944824,1.359148621559143,null,1.359148621559143,1.8662188053131104,null,1.6683696508407593,0.8955551385879517,null]],\"y\":[[0.8430033326148987,1.1227177381515503,0.8962104320526123,1.1590588092803955,1.420006513595581,0.24535512924194336,1.6592204570770264,1.8075039386749268,1.5440406799316406,0.5927102565765381],[0.8430033326148987,1.1227177381515503,null,1.1227177381515503,0.8962104320526123,null,1.8075039386749268,1.5440406799316406,null]]}],\"label\":\"4\",\"method\":\"update\"},{\"args\":[{\"x\":[[1.1151493787765503,1.3714922666549683,1.8511253595352173,0.21499013900756836,1.8934309482574463,0.2888610363006592,0.6282916069030762,1.636441946029663,0.9274828433990479,1.4512169361114502],[1.1151493787765503,1.3714922666549683,null,1.3714922666549683,1.8511253595352173,null,1.636441946029663,0.9274828433990479,null]],\"y\":[[0.846474826335907,1.1123316287994385,0.9031251072883606,1.1590588092803955,1.420006513595581,0.24535512924194336,1.6592204570770264,1.7966192960739136,1.5549253225326538,0.5927102565765381],[0.846474826335907,1.1123316287994385,null,1.1123316287994385,0.9031251072883606,null,1.7966192960739136,1.5549253225326538,null]]}],\"label\":\"5\",\"method\":\"update\"},{\"args\":[{\"x\":[[1.1188228130340576,1.3868058919906616,1.8321382999420166,0.21499013900756836,1.8934309482574463,0.2888610363006592,0.6282916069030762,1.5964343547821045,0.9674903750419617,1.4512169361114502],[1.1188228130340576,1.3868058919906616,null,1.3868058919906616,1.8321382999420166,null,1.5964343547821045,0.9674903750419617,null]],\"y\":[[0.8508977890014648,1.0992991924285889,0.9117346405982971,1.1590588092803955,1.420006513595581,0.24535512924194336,1.6592204570770264,1.78298020362854,1.5685644149780273,0.5927102565765381],[0.8508977890014648,1.0992991924285889,null,1.0992991924285889,0.9117346405982971,null,1.78298020362854,1.5685644149780273,null]]}],\"label\":\"6\",\"method\":\"update\"},{\"args\":[{\"x\":[[1.1237348318099976,1.4051841497421265,1.8088480234146118,0.21499013900756836,1.8934309482574463,0.2888610363006592,0.6282916069030762,1.5476462841033936,1.0162783861160278,1.4512169361114502],[1.1237348318099976,1.4051841497421265,null,1.4051841497421265,1.8088480234146118,null,1.5476462841033936,1.0162783861160278,null]],\"y\":[[0.8564592003822327,1.0833215713500977,0.9221507906913757,1.1590588092803955,1.420006513595581,0.24535512924194336,1.6592204570770264,1.7663476467132568,1.5851969718933105,0.5927102565765381],[0.8564592003822327,1.0833215713500977,null,1.0833215713500977,0.9221507906913757,null,1.7663476467132568,1.5851969718933105,null]]}],\"label\":\"7\",\"method\":\"update\"},{\"args\":[{\"x\":[[1.1304271221160889,1.4263499975204468,1.7809898853302002,0.21499013900756836,1.8934309482574463,0.2888610363006592,0.6282916069030762,1.4898416996002197,1.0740829706192017,1.4512169361114502],[1.1304271221160889,1.4263499975204468,null,1.4263499975204468,1.7809898853302002,null,1.4898416996002197,1.0740829706192017,null]],\"y\":[[0.86344313621521,1.0641064643859863,0.9343820214271545,1.1590588092803955,1.420006513595581,0.24535512924194336,1.6592204570770264,1.7466412782669067,1.6049033403396606,0.5927102565765381],[0.86344313621521,1.0641064643859863,null,1.0641064643859863,0.9343820214271545,null,1.7466412782669067,1.6049033403396606,null]]}],\"label\":\"8\",\"method\":\"update\"},{\"args\":[{\"x\":[[1.140182375907898,1.4490091800689697,1.7485754489898682,0.21499013900756836,1.8934309482574463,0.2888610363006592,0.6282916069030762,1.4238545894622803,1.1400699615478516,1.4512169361114502],[1.140182375907898,1.4490091800689697,null,1.4490091800689697,1.7485754489898682,null,1.4238545894622803,1.1400699615478516,null]],\"y\":[[0.8724856972694397,1.0411813259124756,0.9482645988464355,1.1590588092803955,1.420006513595581,0.24535512924194336,1.6592204570770264,1.7241454124450684,1.627399206161499,0.5927102565765381],[0.8724856972694397,1.0411813259124756,null,1.0411813259124756,0.9482645988464355,null,1.7241454124450684,1.627399206161499,null]]}],\"label\":\"9\",\"method\":\"update\"},{\"args\":[{\"x\":[[1.1586389541625977,1.465273141860962,1.7138549089431763,0.21499013900756836,1.8934309482574463,0.2888610363006592,0.6282916069030762,1.358309268951416,1.2056152820587158,1.4512169361114502],[1.1586389541625977,1.465273141860962,null,1.465273141860962,1.7138549089431763,null,1.358309268951416,1.2056152820587158,null]],\"y\":[[0.8862582445144653,1.0128346681594849,0.9628387093544006,1.1590588092803955,1.420006513595581,0.24535512924194336,1.6592204570770264,1.7018001079559326,1.6497445106506348,0.5927102565765381],[0.8862582445144653,1.0128346681594849,null,1.0128346681594849,0.9628387093544006,null,1.7018001079559326,1.6497445106506348,null]]}],\"label\":\"10\",\"method\":\"update\"},{\"args\":[{\"x\":[[1.158733606338501,1.465031623840332,1.7140017747879028,0.21499013900756836,1.8934309482574463,0.2888610363006592,0.6282916069030762,1.3587327003479004,1.2051918506622314,1.4512169361114502],[1.158733606338501,1.465031623840332,null,1.465031623840332,1.7140017747879028,null,1.3587327003479004,1.2051918506622314,null]],\"y\":[[0.8862972855567932,1.0128251314163208,0.962809145450592,1.1590588092803955,1.420006513595581,0.24535512924194336,1.6592204570770264,1.7019444704055786,1.6496001482009888,0.5927102565765381],[0.8862972855567932,1.0128251314163208,null,1.0128251314163208,0.962809145450592,null,1.7019444704055786,1.6496001482009888,null]]}],\"label\":\"11\",\"method\":\"update\"},{\"args\":[{\"x\":[[1.159015417098999,1.4643115997314453,1.7144399881362915,0.21499013900756836,1.8934309482574463,0.2888610363006592,0.6282916069030762,1.3599975109100342,1.2039270401000977,1.4512169361114502],[1.159015417098999,1.4643115997314453,null,1.4643115997314453,1.7144399881362915,null,1.3599975109100342,1.2039270401000977,null]],\"y\":[[0.8864136934280396,1.0127967596054077,0.9627211093902588,1.1590588092803955,1.420006513595581,0.24535512924194336,1.6592204570770264,1.7023756504058838,1.6491689682006836,0.5927102565765381],[0.8864136934280396,1.0127967596054077,null,1.0127967596054077,0.9627211093902588,null,1.7023756504058838,1.6491689682006836,null]]}],\"label\":\"12\",\"method\":\"update\"},{\"args\":[{\"x\":[[1.1594783067703247,1.4631266593933105,1.7151620388031006,0.21499013900756836,1.8934309482574463,0.2888610363006592,0.6282916069030762,1.362087607383728,1.2018369436264038,1.4512169361114502],[1.1594783067703247,1.4631266593933105,null,1.4631266593933105,1.7151620388031006,null,1.362087607383728,1.2018369436264038,null]],\"y\":[[0.8866050243377686,1.012750267982483,0.9625762701034546,1.1590588092803955,1.420006513595581,0.24535512924194336,1.6592204570770264,1.7030881643295288,1.6484564542770386,0.5927102565765381],[0.8866050243377686,1.012750267982483,null,1.012750267982483,0.9625762701034546,null,1.7030881643295288,1.6484564542770386,null]]}],\"label\":\"13\",\"method\":\"update\"},{\"args\":[{\"x\":[[1.160111665725708,1.461499810218811,1.7161556482315063,0.21499013900756836,1.8934309482574463,0.2888610363006592,0.6282916069030762,1.3649765253067017,1.1989480257034302,1.4512169361114502],[1.160111665725708,1.461499810218811,null,1.461499810218811,1.7161556482315063,null,1.3649765253067017,1.1989480257034302,null]],\"y\":[[0.8868672847747803,1.012686848640442,0.9623774886131287,1.1590588092803955,1.420006513595581,0.24535512924194336,1.6592204570770264,1.7040730714797974,1.64747154712677,0.5927102565765381],[0.8868672847747803,1.012686848640442,null,1.012686848640442,0.9623774886131287,null,1.7040730714797974,1.64747154712677,null]]}],\"label\":\"14\",\"method\":\"update\"},{\"args\":[{\"x\":[[1.1609004735946655,1.4594632387161255,1.7174034118652344,0.21499013900756836,1.8934309482574463,0.2888610363006592,0.6282916069030762,1.368627905845642,1.1952966451644897,1.4512169361114502],[1.1609004735946655,1.4594632387161255,null,1.4594632387161255,1.7174034118652344,null,1.368627905845642,1.1952966451644897,null]],\"y\":[[0.8871946930885315,1.0126081705093384,0.9621286988258362,1.1590588092803955,1.420006513595581,0.24535512924194336,1.6592204570770264,1.7053178548812866,1.6462267637252808,0.5927102565765381],[0.8871946930885315,1.0126081705093384,null,1.0126081705093384,0.9621286988258362,null,1.7053178548812866,1.6462267637252808,null]]}],\"label\":\"15\",\"method\":\"update\"},{\"args\":[{\"x\":[[1.1618252992630005,1.4570585489273071,1.7188832759857178,0.21499013900756836,1.8934309482574463,0.2888610363006592,0.6282916069030762,1.372996211051941,1.190928339958191,1.4512169361114502],[1.1618252992630005,1.4570585489273071,null,1.4570585489273071,1.7188832759857178,null,1.372996211051941,1.190928339958191,null]],\"y\":[[0.887579619884491,1.012516975402832,0.9618349671363831,1.1590588092803955,1.420006513595581,0.24535512924194336,1.6592204570770264,1.7068071365356445,1.6447374820709229,0.5927102565765381],[0.887579619884491,1.012516975402832,null,1.012516975402832,0.9618349671363831,null,1.7068071365356445,1.6447374820709229,null]]}],\"label\":\"16\",\"method\":\"update\"},{\"args\":[{\"x\":[[1.1629722118377686,1.454047441482544,1.720747470855713,0.21499013900756836,1.8934309482574463,0.2888610363006592,0.6282916069030762,1.378564476966858,1.185360074043274,1.4512169361114502],[1.1629722118377686,1.454047441482544,null,1.454047441482544,1.720747470855713,null,1.378564476966858,1.185360074043274,null]],\"y\":[[0.888058602809906,1.0124059915542603,0.961466908454895,1.1590588092803955,1.420006513595581,0.24535512924194336,1.6592204570770264,1.7087054252624512,1.6428391933441162,0.5927102565765381],[0.888058602809906,1.0124059915542603,null,1.0124059915542603,0.961466908454895,null,1.7087054252624512,1.6428391933441162,null]]}],\"label\":\"17\",\"method\":\"update\"},{\"args\":[{\"x\":[[1.1643487215042114,1.450381875038147,1.723036527633667,0.21499013900756836,1.8934309482574463,0.2888610363006592,0.6282916069030762,1.385515570640564,1.1784089803695679,1.4512169361114502],[1.1643487215042114,1.450381875038147,null,1.450381875038147,1.723036527633667,null,1.385515570640564,1.1784089803695679,null]],\"y\":[[0.8886357545852661,1.0122779607772827,0.9610177874565125,1.1590588092803955,1.420006513595581,0.24535512924194336,1.6592204570770264,1.7110751867294312,1.6404694318771362,0.5927102565765381],[0.8886357545852661,1.0122779607772827,null,1.0122779607772827,0.9610177874565125,null,1.7110751867294312,1.6404694318771362,null]]}],\"label\":\"18\",\"method\":\"update\"},{\"args\":[{\"x\":[[1.1659363508224487,1.4460608959197998,1.7257698774337769,0.21499013900756836,1.8934309482574463,0.2888610363006592,0.6282916069030762,1.3940142393112183,1.1699103116989136,1.4512169361114502],[1.1659363508224487,1.4460608959197998,null,1.4460608959197998,1.7257698774337769,null,1.3940142393112183,1.1699103116989136,null]],\"y\":[[0.8893043398857117,1.0121418237686157,0.9604853391647339,1.1590588092803955,1.420006513595581,0.24535512924194336,1.6592204570770264,1.7139724493026733,1.637572169303894,0.5927102565765381],[0.8893043398857117,1.0121418237686157,null,1.0121418237686157,0.9604853391647339,null,1.7139724493026733,1.637572169303894,null]]}],\"label\":\"19\",\"method\":\"update\"},{\"args\":[{\"x\":[[1.1676682233810425,1.441172480583191,1.728926420211792,0.21499013900756836,1.8934309482574463,0.2888610363006592,0.6282916069030762,1.4041837453842163,1.1597408056259155,1.4512169361114502],[1.1676682233810425,1.441172480583191,null,1.441172480583191,1.728926420211792,null,1.4041837453842163,1.1597408056259155,null]],\"y\":[[0.8900363445281982,1.012020230293274,0.9598749279975891,1.1590588092803955,1.420006513595581,0.24535512924194336,1.6592204570770264,1.7174394130706787,1.6341052055358887,0.5927102565765381],[0.8900363445281982,1.012020230293274,null,1.012020230293274,0.9598749279975891,null,1.7174394130706787,1.6341052055358887,null]]}],\"label\":\"20\",\"method\":\"update\"},{\"args\":[{\"x\":[[1.1693676710128784,1.4360034465789795,1.7323960065841675,0.21499013900756836,1.8934309482574463,0.2888610363006592,0.6282916069030762,1.4160573482513428,1.147867202758789,1.4512169361114502],[1.1693676710128784,1.4360034465789795,null,1.4360034465789795,1.7323960065841675,null,1.4160573482513428,1.147867202758789,null]],\"y\":[[0.8907541632652283,1.0119693279266357,0.9592080116271973,1.1590588092803955,1.420006513595581,0.24535512924194336,1.6592204570770264,1.721487283706665,1.6300573348999023,0.5927102565765381],[0.8907541632652283,1.0119693279266357,null,1.0119693279266357,0.9592080116271973,null,1.721487283706665,1.6300573348999023,null]]}],\"label\":\"21\",\"method\":\"update\"},{\"args\":[{\"x\":[[1.170441746711731,1.4315768480300903,1.735748529434204,0.21499013900756836,1.8934309482574463,0.2888610363006592,0.6282916069030762,1.4293707609176636,1.1345537900924683,1.4512169361114502],[1.170441746711731,1.4315768480300903,null,1.4315768480300903,1.735748529434204,null,1.4293707609176636,1.1345537900924683,null]],\"y\":[[0.8911879658699036,1.012181282043457,0.9585621953010559,1.1590588092803955,1.420006513595581,0.24535512924194336,1.6592204570770264,1.7260260581970215,1.625518560409546,0.5927102565765381],[0.8911879658699036,1.012181282043457,null,1.012181282043457,0.9585621953010559,null,1.7260260581970215,1.625518560409546,null]]}],\"label\":\"22\",\"method\":\"update\"},{\"args\":[{\"x\":[[1.1704139709472656,1.4316266775131226,1.7357265949249268,0.21499013900756836,1.8934309482574463,0.2888610363006592,0.6282916069030762,1.4293434619903564,1.1345810890197754,1.4512169361114502],[1.1704139709472656,1.4316266775131226,null,1.4316266775131226,1.7357265949249268,null,1.4293434619903564,1.1345810890197754,null]],\"y\":[[0.8911750912666321,1.012190341949463,0.9585660696029663,1.1590588092803955,1.420006513595581,0.24535512924194336,1.6592204570770264,1.7260167598724365,1.6255278587341309,0.5927102565765381],[0.8911750912666321,1.012190341949463,null,1.012190341949463,0.9585660696029663,null,1.7260167598724365,1.6255278587341309,null]]}],\"label\":\"23\",\"method\":\"update\"},{\"args\":[{\"x\":[[1.1703308820724487,1.4317753314971924,1.7356611490249634,0.21499013900756836,1.8934309482574463,0.2888610363006592,0.6282916069030762,1.4292618036270142,1.1346627473831177,1.4512169361114502],[1.1703308820724487,1.4317753314971924,null,1.4317753314971924,1.7356611490249634,null,1.4292618036270142,1.1346627473831177,null]],\"y\":[[0.8911365866661072,1.0122172832489014,0.9585776329040527,1.1590588092803955,1.420006513595581,0.24535512924194336,1.6592204570770264,1.7259888648986816,1.6255557537078857,0.5927102565765381],[0.8911365866661072,1.0122172832489014,null,1.0122172832489014,0.9585776329040527,null,1.7259888648986816,1.6255557537078857,null]]}],\"label\":\"24\",\"method\":\"update\"},{\"args\":[{\"x\":[[1.1701935529708862,1.432020664215088,1.7355531454086304,0.21499013900756836,1.8934309482574463,0.2888610363006592,0.6282916069030762,1.429126501083374,1.1347980499267578,1.4512169361114502],[1.1701935529708862,1.432020664215088,null,1.432020664215088,1.7355531454086304,null,1.429126501083374,1.1347980499267578,null]],\"y\":[[0.8910729885101318,1.0122618675231934,0.9585967063903809,1.1590588092803955,1.420006513595581,0.24535512924194336,1.6592204570770264,1.7259427309036255,1.625601887702942,0.5927102565765381],[0.8910729885101318,1.0122618675231934,null,1.0122618675231934,0.9585967063903809,null,1.7259427309036255,1.625601887702942,null]]}],\"label\":\"25\",\"method\":\"update\"},{\"args\":[{\"x\":[[1.1700037717819214,1.4323590993881226,1.7354044914245605,0.21499013900756836,1.8934309482574463,0.2888610363006592,0.6282916069030762,1.428938865661621,1.1349856853485107,1.4512169361114502],[1.1700037717819214,1.4323590993881226,null,1.4323590993881226,1.7354044914245605,null,1.428938865661621,1.1349856853485107,null]],\"y\":[[0.8909851312637329,1.0123234987258911,0.958622932434082,1.1590588092803955,1.420006513595581,0.24535512924194336,1.6592204570770264,1.7258787155151367,1.6256659030914307,0.5927102565765381],[0.8909851312637329,1.0123234987258911,null,1.0123234987258911,0.958622932434082,null,1.7258787155151367,1.6256659030914307,null]]}],\"label\":\"26\",\"method\":\"update\"},{\"args\":[{\"x\":[[1.1697640419006348,1.4327856302261353,1.7352176904678345,0.21499013900756836,1.8934309482574463,0.2888610363006592,0.6282916069030762,1.4287006855010986,1.1352238655090332,1.4512169361114502],[1.1697640419006348,1.4327856302261353,null,1.4327856302261353,1.7352176904678345,null,1.4287006855010986,1.1352238655090332,null]],\"y\":[[0.8908741474151611,1.0124014616012573,0.9586559534072876,1.1590588092803955,1.420006513595581,0.24535512924194336,1.6592204570770264,1.7257975339889526,1.6257470846176147,0.5927102565765381],[0.8908741474151611,1.0124014616012573,null,1.0124014616012573,0.9586559534072876,null,1.7257975339889526,1.6257470846176147,null]]}],\"label\":\"27\",\"method\":\"update\"},{\"args\":[{\"x\":[[1.1694775819778442,1.4332939386367798,1.7349958419799805,0.21499013900756836,1.8934309482574463,0.2888610363006592,0.6282916069030762,1.4284138679504395,1.1355106830596924,1.4512169361114502],[1.1694775819778442,1.4332939386367798,null,1.4332939386367798,1.7349958419799805,null,1.4284138679504395,1.1355106830596924,null]],\"y\":[[0.8907415866851807,1.0124948024749756,0.9586952328681946,1.1590588092803955,1.420006513595581,0.24535512924194336,1.6592204570770264,1.725699782371521,1.6258448362350464,0.5927102565765381],[0.8907415866851807,1.0124948024749756,null,1.0124948024749756,0.9586952328681946,null,1.725699782371521,1.6258448362350464,null]]}],\"label\":\"28\",\"method\":\"update\"},{\"args\":[{\"x\":[[1.1691128015518188,1.4339385032653809,1.7347160577774048,0.21499013900756836,1.8934309482574463,0.2888610363006592,0.6282916069030762,1.4280452728271484,1.1358792781829834,1.4512169361114502],[1.1691128015518188,1.4339385032653809,null,1.4339385032653809,1.7347160577774048,null,1.4280452728271484,1.1358792781829834,null]],\"y\":[[0.8905729055404663,1.0126138925552368,0.9587448239326477,1.1590588092803955,1.420006513595581,0.24535512924194336,1.6592204570770264,1.7255741357803345,1.625970482826233,0.5927102565765381],[0.8905729055404663,1.0126138925552368,null,1.0126138925552368,0.9587448239326477,null,1.7255741357803345,1.625970482826233,null]]}],\"label\":\"29\",\"method\":\"update\"},{\"args\":[{\"x\":[[1.1686583757400513,1.4347368478775024,1.7343721389770508,0.21499013900756836,1.8934309482574463,0.2888610363006592,0.6282916069030762,1.4275799989700317,1.1363445520401,1.4512169361114502],[1.1686583757400513,1.4347368478775024,null,1.4347368478775024,1.7343721389770508,null,1.4275799989700317,1.1363445520401,null]],\"y\":[[0.8903629183769226,1.0127627849578857,0.9588059186935425,1.1590588092803955,1.420006513595581,0.24535512924194336,1.6592204570770264,1.7254154682159424,1.626129150390625,0.5927102565765381],[0.8903629183769226,1.0127627849578857,null,1.0127627849578857,0.9588059186935425,null,1.7254154682159424,1.626129150390625,null]]}],\"label\":\"30\",\"method\":\"update\"},{\"args\":[{\"x\":[[1.1681041717529297,1.4357023239135742,1.7339608669281006,0.21499013900756836,1.8934309482574463,0.2888610363006592,0.6282916069030762,1.427001953125,1.1369225978851318,1.4512169361114502],[1.1681041717529297,1.4357023239135742,null,1.4357023239135742,1.7339608669281006,null,1.427001953125,1.1369225978851318,null]],\"y\":[[0.8901070356369019,1.0129454135894775,0.9588791131973267,1.1590588092803955,1.420006513595581,0.24535512924194336,1.6592204570770264,1.725218415260315,1.6263262033462524,0.5927102565765381],[0.8901070356369019,1.0129454135894775,null,1.0129454135894775,0.9588791131973267,null,1.725218415260315,1.6263262033462524,null]]}],\"label\":\"31\",\"method\":\"update\"},{\"args\":[{\"x\":[[1.1674439907073975,1.4368376731872559,1.7334856986999512,0.21499013900756836,1.8934309482574463,0.2888610363006592,0.6282916069030762,1.4262946844100952,1.1376298666000366,1.4512169361114502],[1.1674439907073975,1.4368376731872559,null,1.4368376731872559,1.7334856986999512,null,1.4262946844100952,1.1376298666000366,null]],\"y\":[[0.8898025155067444,1.0131651163101196,0.958963930606842,1.1590588092803955,1.420006513595581,0.24535512924194336,1.6592204570770264,1.7249772548675537,1.6265673637390137,0.5927102565765381],[0.8898025155067444,1.0131651163101196,null,1.0131651163101196,0.958963930606842,null,1.7249772548675537,1.6265673637390137,null]]}],\"label\":\"32\",\"method\":\"update\"},{\"args\":[{\"x\":[[1.1666797399520874,1.438123345375061,1.732964277267456,0.21499013900756836,1.8934309482574463,0.2888610363006592,0.6282916069030762,1.4254404306411743,1.1384841203689575,1.4512169361114502],[1.1666797399520874,1.438123345375061,null,1.438123345375061,1.732964277267456,null,1.4254404306411743,1.1384841203689575,null]],\"y\":[[0.8894503712654114,1.013424038887024,0.9590572118759155,1.1590588092803955,1.420006513595581,0.24535512924194336,1.6592204570770264,1.7246860265731812,1.6268585920333862,0.5927102565765381],[0.8894503712654114,1.013424038887024,null,1.013424038887024,0.9590572118759155,null,1.7246860265731812,1.6268585920333862,null]]}],\"label\":\"33\",\"method\":\"update\"},{\"args\":[{\"x\":[[1.165835976600647,1.439475178718567,1.7324562072753906,0.21499013900756836,1.8934309482574463,0.2888610363006592,0.6282916069030762,1.4244168996810913,1.1395076513290405,1.4512169361114502],[1.165835976600647,1.439475178718567,null,1.439475178718567,1.7324562072753906,null,1.4244168996810913,1.1395076513290405,null]],\"y\":[[0.8890619277954102,1.0137217044830322,0.9591480493545532,1.1590588092803955,1.420006513595581,0.24535512924194336,1.6592204570770264,1.724337100982666,1.6272075176239014,0.5927102565765381],[0.8890619277954102,1.0137217044830322,null,1.0137217044830322,0.9591480493545532,null,1.724337100982666,1.6272075176239014,null]]}],\"label\":\"34\",\"method\":\"update\"},{\"args\":[{\"x\":[[1.1658371686935425,1.4394700527191162,1.7324600219726562,0.21499013900756836,1.8934309482574463,0.2888610363006592,0.6282916069030762,1.4244149923324585,1.1395095586776733,1.4512169361114502],[1.1658371686935425,1.4394700527191162,null,1.4394700527191162,1.7324600219726562,null,1.4244149923324585,1.1395095586776733,null]],\"y\":[[0.8890625238418579,1.0137218236923218,0.9591473340988159,1.1590588092803955,1.420006513595581,0.24535512924194336,1.6592204570770264,1.7243365049362183,1.6272081136703491,0.5927102565765381],[0.8890625238418579,1.0137218236923218,null,1.0137218236923218,0.9591473340988159,null,1.7243365049362183,1.6272081136703491,null]]}],\"label\":\"35\",\"method\":\"update\"},{\"args\":[{\"x\":[[1.1658408641815186,1.4394549131393433,1.7324714660644531,0.21499013900756836,1.8934309482574463,0.2888610363006592,0.6282916069030762,1.4244093894958496,1.1395151615142822,1.4512169361114502],[1.1658408641815186,1.4394549131393433,null,1.4394549131393433,1.7324714660644531,null,1.4244093894958496,1.1395151615142822,null]],\"y\":[[0.8890641927719116,1.01372230052948,0.959145188331604,1.1590588092803955,1.420006513595581,0.24535512924194336,1.6592204570770264,1.7243345975875854,1.627210021018982,0.5927102565765381],[0.8890641927719116,1.01372230052948,null,1.01372230052948,0.959145188331604,null,1.7243345975875854,1.627210021018982,null]]}],\"label\":\"36\",\"method\":\"update\"},{\"args\":[{\"x\":[[1.1658469438552856,1.4394299983978271,1.7324903011322021,0.21499013900756836,1.8934309482574463,0.2888610363006592,0.6282916069030762,1.4244000911712646,1.1395244598388672,1.4512169361114502],[1.1658469438552856,1.4394299983978271,null,1.4394299983978271,1.7324903011322021,null,1.4244000911712646,1.1395244598388672,null]],\"y\":[[0.8890669941902161,1.0137230157852173,0.9591416716575623,1.1590588092803955,1.420006513595581,0.24535512924194336,1.6592204570770264,1.7243313789367676,1.6272132396697998,0.5927102565765381],[0.8890669941902161,1.0137230157852173,null,1.0137230157852173,0.9591416716575623,null,1.7243313789367676,1.6272132396697998,null]]}],\"label\":\"37\",\"method\":\"update\"},{\"args\":[{\"x\":[[1.1658552885055542,1.439395546913147,1.7325164079666138,0.21499013900756836,1.8934309482574463,0.2888610363006592,0.6282916069030762,1.4243872165679932,1.1395373344421387,1.4512169361114502],[1.1658552885055542,1.439395546913147,null,1.439395546913147,1.7325164079666138,null,1.4243872165679932,1.1395373344421387,null]],\"y\":[[0.8890708088874817,1.0137240886688232,0.9591367840766907,1.1590588092803955,1.420006513595581,0.24535512924194336,1.6592204570770264,1.7243269681930542,1.6272176504135132,0.5927102565765381],[0.8890708088874817,1.0137240886688232,null,1.0137240886688232,0.9591367840766907,null,1.7243269681930542,1.6272176504135132,null]]}],\"label\":\"38\",\"method\":\"update\"},{\"args\":[{\"x\":[[1.1658657789230347,1.439352035522461,1.7325495481491089,0.21499013900756836,1.8934309482574463,0.2888610363006592,0.6282916069030762,1.4243708848953247,1.1395536661148071,1.4512169361114502],[1.1658657789230347,1.439352035522461,null,1.439352035522461,1.7325495481491089,null,1.4243708848953247,1.1395536661148071,null]],\"y\":[[0.8890755772590637,1.0137255191802979,0.9591306447982788,1.1590588092803955,1.420006513595581,0.24535512924194336,1.6592204570770264,1.7243213653564453,1.627223253250122,0.5927102565765381],[0.8890755772590637,1.0137255191802979,null,1.0137255191802979,0.9591306447982788,null,1.7243213653564453,1.627223253250122,null]]}],\"label\":\"39\",\"method\":\"update\"},{\"args\":[{\"x\":[[1.1658780574798584,1.4392999410629272,1.7325893640518188,0.21499013900756836,1.8934309482574463,0.2888610363006592,0.6282916069030762,1.4243512153625488,1.139573335647583,1.4512169361114502],[1.1658780574798584,1.4392999410629272,null,1.4392999410629272,1.7325893640518188,null,1.4243512153625488,1.139573335647583,null]],\"y\":[[0.8890811800956726,1.0137273073196411,0.9591232538223267,1.1590588092803955,1.420006513595581,0.24535512924194336,1.6592204570770264,1.7243146896362305,1.627229928970337,0.5927102565765381],[0.8890811800956726,1.0137273073196411,null,1.0137273073196411,0.9591232538223267,null,1.7243146896362305,1.627229928970337,null]]}],\"label\":\"40\",\"method\":\"update\"},{\"args\":[{\"x\":[[1.1658934354782104,1.4392335414886475,1.7326403856277466,0.21499013900756836,1.8934309482574463,0.2888610363006592,0.6282916069030762,1.4243258237838745,1.1395987272262573,1.4512169361114502],[1.1658934354782104,1.4392335414886475,null,1.4392335414886475,1.7326403856277466,null,1.4243258237838745,1.1395987272262573,null]],\"y\":[[0.8890881538391113,1.0137298107147217,0.9591137766838074,1.1590588092803955,1.420006513595581,0.24535512924194336,1.6592204570770264,1.7243061065673828,1.6272385120391846,0.5927102565765381],[0.8890881538391113,1.0137298107147217,null,1.0137298107147217,0.9591137766838074,null,1.7243061065673828,1.6272385120391846,null]]}],\"label\":\"41\",\"method\":\"update\"},{\"args\":[{\"x\":[[1.1659120321273804,1.4391508102416992,1.732704520225525,0.21499013900756836,1.8934309482574463,0.2888610363006592,0.6282916069030762,1.4242937564849854,1.1396307945251465,1.4512169361114502],[1.1659120321273804,1.4391508102416992,null,1.4391508102416992,1.732704520225525,null,1.4242937564849854,1.1396307945251465,null]],\"y\":[[0.8890966176986694,1.0137332677841187,0.9591017961502075,1.1590588092803955,1.420006513595581,0.24535512924194336,1.6592204570770264,1.7242951393127441,1.6272494792938232,0.5927102565765381],[0.8890966176986694,1.0137332677841187,null,1.0137332677841187,0.9591017961502075,null,1.7242951393127441,1.6272494792938232,null]]}],\"label\":\"42\",\"method\":\"update\"},{\"args\":[{\"x\":[[1.1659338474273682,1.4390496015548706,1.7327839136123657,0.21499013900756836,1.8934309482574463,0.2888610363006592,0.6282916069030762,1.4242539405822754,1.1396706104278564,1.4512169361114502],[1.1659338474273682,1.4390496015548706,null,1.4390496015548706,1.7327839136123657,null,1.4242539405822754,1.1396706104278564,null]],\"y\":[[0.8891065716743469,1.0137381553649902,0.9590870141983032,1.1590588092803955,1.420006513595581,0.24535512924194336,1.6592204570770264,1.7242815494537354,1.627263069152832,0.5927102565765381],[0.8891065716743469,1.0137381553649902,null,1.0137381553649902,0.9590870141983032,null,1.7242815494537354,1.627263069152832,null]]}],\"label\":\"43\",\"method\":\"update\"},{\"args\":[{\"x\":[[1.165958285331726,1.4389287233352661,1.7328803539276123,0.21499013900756836,1.8934309482574463,0.2888610363006592,0.6282916069030762,1.4242051839828491,1.1397193670272827,1.4512169361114502],[1.165958285331726,1.4389287233352661,null,1.4389287233352661,1.7328803539276123,null,1.4242051839828491,1.1397193670272827,null]],\"y\":[[0.8891177177429199,1.0137449502944946,0.9590690732002258,1.1590588092803955,1.420006513595581,0.24535512924194336,1.6592204570770264,1.7242648601531982,1.6272797584533691,0.5927102565765381],[0.8891177177429199,1.0137449502944946,null,1.0137449502944946,0.9590690732002258,null,1.7242648601531982,1.6272797584533691,null]]}],\"label\":\"44\",\"method\":\"update\"},{\"args\":[{\"x\":[[1.16598379611969,1.4387884140014648,1.7329951524734497,0.21499013900756836,1.8934309482574463,0.2888610363006592,0.6282916069030762,1.4241465330123901,1.1397780179977417,1.4512169361114502],[1.16598379611969,1.4387884140014648,null,1.4387884140014648,1.7329951524734497,null,1.4241465330123901,1.1397780179977417,null]],\"y\":[[0.8891294002532959,1.0137546062469482,0.9590477347373962,1.1590588092803955,1.420006513595581,0.24535512924194336,1.6592204570770264,1.7242448329925537,1.6272997856140137,0.5927102565765381],[0.8891294002532959,1.0137546062469482,null,1.0137546062469482,0.9590477347373962,null,1.7242448329925537,1.6272997856140137,null]]}],\"label\":\"45\",\"method\":\"update\"},{\"args\":[{\"x\":[[1.166007399559021,1.4386318922042847,1.7331279516220093,0.21499013900756836,1.8934309482574463,0.2888610363006592,0.6282916069030762,1.4240776300430298,1.139846920967102,1.4512169361114502],[1.166007399559021,1.4386318922042847,null,1.4386318922042847,1.7331279516220093,null,1.4240776300430298,1.139846920967102,null]],\"y\":[[0.8891401886940002,1.0137685537338257,0.9590229988098145,1.1590588092803955,1.420006513595581,0.24535512924194336,1.6592204570770264,1.7242213487625122,1.6273232698440552,0.5927102565765381],[0.8891401886940002,1.0137685537338257,null,1.0137685537338257,0.9590229988098145,null,1.7242213487625122,1.6273232698440552,null]]}],\"label\":\"46\",\"method\":\"update\"},{\"args\":[{\"x\":[[1.1660237312316895,1.4384682178497314,1.733275294303894,0.21499013900756836,1.8934309482574463,0.2888610363006592,0.6282916069030762,1.4239996671676636,1.1399248838424683,1.4512169361114502],[1.1660237312316895,1.4384682178497314,null,1.4384682178497314,1.733275294303894,null,1.4239996671676636,1.1399248838424683,null]],\"y\":[[0.8891475796699524,1.0137885808944702,0.9589955806732178,1.1590588092803955,1.420006513595581,0.24535512924194336,1.6592204570770264,1.7241947650909424,1.627349853515625,0.5927102565765381],[0.8891475796699524,1.0137885808944702,null,1.0137885808944702,0.9589955806732178,null,1.7241947650909424,1.627349853515625,null]]}],\"label\":\"47\",\"method\":\"update\"},{\"args\":[{\"x\":[[1.1660258769989014,1.4383137226104736,1.7334277629852295,0.21499013900756836,1.8934309482574463,0.2888610363006592,0.6282916069030762,1.423917293548584,1.1400072574615479,1.4512169361114502],[1.1660258769989014,1.4383137226104736,null,1.4383137226104736,1.7334277629852295,null,1.423917293548584,1.1400072574615479,null]],\"y\":[[0.8891485333442688,1.013815999031067,0.9589672088623047,1.1590588092803955,1.420006513595581,0.24535512924194336,1.6592204570770264,1.7241666316986084,1.627377986907959,0.5927102565765381],[0.8891485333442688,1.013815999031067,null,1.013815999031067,0.9589672088623047,null,1.7241666316986084,1.627377986907959,null]]}],\"label\":\"48\",\"method\":\"update\"},{\"args\":[{\"x\":[[1.1660248041152954,1.4383151531219482,1.7334274053573608,0.21499013900756836,1.8934309482574463,0.2888610363006592,0.6282916069030762,1.4239174127578735,1.1400071382522583,1.4512169361114502],[1.1660248041152954,1.4383151531219482,null,1.4383151531219482,1.7334274053573608,null,1.4239174127578735,1.1400071382522583,null]],\"y\":[[0.8891480565071106,1.013816475868225,0.9589672684669495,1.1590588092803955,1.420006513595581,0.24535512924194336,1.6592204570770264,1.7241666316986084,1.627377986907959,0.5927102565765381],[0.8891480565071106,1.013816475868225,null,1.013816475868225,0.9589672684669495,null,1.7241666316986084,1.627377986907959,null]]}],\"label\":\"49\",\"method\":\"update\"}]}],\"margin\":{\"l\":50,\"r\":50,\"b\":50,\"t\":50},\"width\":600,\"height\":600,\"plot_bgcolor\":\"rgba(255, 255, 255, 1)\"},                        {\"responsive\": true}                    ).then(function(){\n",
       "                            \n",
       "var gd = document.getElementById('e415e702-7f50-4d82-a6e3-a1783f8b17ec');\n",
       "var x = new MutationObserver(function (mutations, observer) {{\n",
       "        var display = window.getComputedStyle(gd).display;\n",
       "        if (!display || display === 'none') {{\n",
       "            console.log([gd, 'removed!']);\n",
       "            Plotly.purge(gd);\n",
       "            observer.disconnect();\n",
       "        }}\n",
       "}});\n",
       "\n",
       "// Listen for the removal of the full notebook cells\n",
       "var notebookContainer = gd.closest('#notebook-container');\n",
       "if (notebookContainer) {{\n",
       "    x.observe(notebookContainer, {childList: true});\n",
       "}}\n",
       "\n",
       "// Listen for the clearing of the current output cell\n",
       "var outputEl = gd.closest('.output');\n",
       "if (outputEl) {{\n",
       "    x.observe(outputEl, {childList: true});\n",
       "}}\n",
       "\n",
       "                        })                };                });            </script>        </div>"
      ]
     },
     "metadata": {},
     "output_type": "display_data"
    }
   ],
   "source": [
    "import plotly.graph_objs as go\n",
    "from plotly.subplots import make_subplots\n",
    "\n",
    "# Convert the trajectory to a NumPy array\n",
    "trajectory_array = np.array(trajectory)\n",
    "\n",
    "# Create a subplot for the scatter plot\n",
    "fig = make_subplots(rows=1, cols=1, specs=[[{'type': 'scatter'}]], print_grid=False)\n",
    "\n",
    "# Create a scatter plot using Plotly\n",
    "trace = go.Scatter(x=trajectory_array[:, 0], y=trajectory_array[:, 1], mode='markers')\n",
    "fig.add_trace(trace)\n",
    "\n",
    "\n",
    "\n",
    "x_coords = []\n",
    "y_coords = []\n",
    "\n",
    "for bond in bond_array:\n",
    "    node1, node2 = bond\n",
    "    x_coords.extend([trajectory_array[0][node1, 0], trajectory_array[0][node2, 0], None])\n",
    "    y_coords.extend([trajectory_array[0][node1, 1], trajectory_array[0][node2, 1], None])\n",
    "\n",
    "bond_trace = go.Scatter(x=x_coords, y=y_coords, mode='lines', line=dict(width=0.5, color='gray'))\n",
    "fig.add_trace(bond_trace)\n",
    "\n",
    "\n",
    "# Create and add slider\n",
    "steps = []\n",
    "for i, frame in enumerate(trajectory_array):\n",
    "    bond_x_coords = []\n",
    "    bond_y_coords = []\n",
    "    for bond in bond_array:\n",
    "        node1, node2 = bond\n",
    "        bond_x_coords.extend([frame[node1, 0], frame[node2, 0], None])\n",
    "        bond_y_coords.extend([frame[node1, 1], frame[node2, 1], None])\n",
    "\n",
    "    step = dict(\n",
    "        method=\"update\",\n",
    "        args=[\n",
    "            {\"x\": [frame[:, 0], bond_x_coords], \"y\": [frame[:, 1], bond_y_coords]},\n",
    "        ],\n",
    "        label=str(i),\n",
    "    )\n",
    "    steps.append(step)\n",
    "\n",
    "slider = dict(steps=steps, active=0, pad={\"t\": 50}, currentvalue={\"prefix\": \"Frame: \"})\n",
    "\n",
    "fig.update_layout(sliders=[slider])\n",
    "\n",
    "# Update the layout\n",
    "fig.update_layout(\n",
    "    width=600,\n",
    "    height=600,\n",
    "    xaxis=dict(title='X', showgrid=False),\n",
    "    yaxis=dict(title='Y', showgrid=False),\n",
    "    plot_bgcolor='rgba(255, 255, 255, 1)', # White background\n",
    "    margin=dict(l=50, r=50, b=50, t=50) # Adjust margin if needed\n",
    ")\n",
    "\n",
    "fig.show()"
   ]
  },
  {
   "cell_type": "code",
   "execution_count": 19,
   "metadata": {},
   "outputs": [
    {
     "data": {
      "text/plain": [
       "[array([1.4051841, 1.0833216], dtype=float32),\n",
       " array([1.42635  , 1.0641065], dtype=float32)]"
      ]
     },
     "execution_count": 19,
     "metadata": {},
     "output_type": "execute_result"
    }
   ],
   "source": [
    "y_coords"
   ]
  },
  {
   "cell_type": "code",
   "execution_count": 22,
   "metadata": {},
   "outputs": [
    {
     "data": {
      "text/plain": [
       "Scatter({\n",
       "    'line': {'color': 'gray', 'width': 0.5},\n",
       "    'mode': 'lines',\n",
       "    'x': [[1.1237348318099976, 0.8564592003822327], [1.1304271221160889,\n",
       "          0.86344313621521]],\n",
       "    'y': [[1.4051841497421265, 1.0833215713500977], [1.4263499975204468,\n",
       "          1.0641064643859863]]\n",
       "})"
      ]
     },
     "execution_count": 22,
     "metadata": {},
     "output_type": "execute_result"
    }
   ],
   "source": [
    "bond_trace"
   ]
  },
  {
   "cell_type": "code",
   "execution_count": null,
   "metadata": {},
   "outputs": [],
   "source": []
  }
 ],
 "metadata": {
  "kernelspec": {
   "display_name": "jaxmd",
   "language": "python",
   "name": "jaxmd"
  },
  "language_info": {
   "codemirror_mode": {
    "name": "ipython",
    "version": 3
   },
   "file_extension": ".py",
   "mimetype": "text/x-python",
   "name": "python",
   "nbconvert_exporter": "python",
   "pygments_lexer": "ipython3",
   "version": "3.8.12"
  },
  "orig_nbformat": 4
 },
 "nbformat": 4,
 "nbformat_minor": 2
}
