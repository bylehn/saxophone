{
  "cells": [
    {
      "cell_type": "markdown",
      "metadata": {
        "colab_type": "text",
        "id": "view-in-github"
      },
      "source": [
        "<a href=\"https://colab.research.google.com/github/bylehn/auxetic_networks_jaxmd/blob/stress-response/auxetic.ipynb\" target=\"_parent\"><img src=\"https://colab.research.google.com/assets/colab-badge.svg\" alt=\"Open In Colab\"/></a>"
      ]
    },
    {
      "cell_type": "markdown",
      "metadata": {},
      "source": [
        "### Imports"
      ]
    },
    {
      "cell_type": "code",
      "execution_count": 1,
      "metadata": {
        "colab": {
          "base_uri": "https://localhost:8080/"
        },
        "id": "y-2KdU9bNvHG",
        "outputId": "3ad92b95-21f8-404a-bc93-dbae223e6620"
      },
      "outputs": [
        {
          "name": "stderr",
          "output_type": "stream",
          "text": [
            "No GPU/TPU found, falling back to CPU. (Set TF_CPP_MIN_LOG_LEVEL=0 and rerun for more info.)\n"
          ]
        }
      ],
      "source": [
        "#!pip install jax-md\n",
        "import jax.numpy as np\n",
        "import numpy as onp\n",
        "from jax import random\n",
        "from jax.config import config; config.update(\"jax_enable_x64\", True)\n",
        "from jax_md import space\n",
        "from jax import random, grad\n",
        "from jax import jit, vmap\n",
        "from jax import lax\n",
        "import networkx as nx\n",
        "import visualize\n",
        "import utils\n",
        "import simulation\n"
      ]
    },
    {
      "cell_type": "code",
      "execution_count": 2,
      "metadata": {},
      "outputs": [],
      "source": [
        "steps = 50\n",
        "write_every = 1\n",
        "perturbation = 1.0\n",
        "delta_perturbation = 0.1\n",
        "#create graph\n",
        "\n",
        "number_of_nodes_per_side = 10\n",
        "N,G,X,E,bond_lengths = utils.createDelaunayGraph(number_of_nodes_per_side, 22, 2.0, 0.2)\n",
        "R = np.array(X)\n",
        "k_angle = 1e-1\n",
        "k_bond, _ = utils.create_spring_constants(R,E,1.0)\n",
        "surface_nodes = utils.getSurfaceNodes(G, number_of_nodes_per_side)\n",
        "displacement, shift = space.free() #displacement = points in space, shift = small shifts of each particle\n",
        "angle_triplets_data = utils.calculate_angle_triplets(E)\n",
        "theta_0 = utils.calculate_initial_angles(R, displacement, E, angle_triplets_data)\n",
        "grad_f = grad(simulation.simulate_auxetic, argnums=1)"
      ]
    },
    {
      "cell_type": "code",
      "execution_count": 3,
      "metadata": {},
      "outputs": [],
      "source": [
        "poisson, log, R_init, R_final = simulation.simulate_auxetic(R, k_bond, k_angle, shift, surface_nodes, perturbation, delta_perturbation, displacement, E, bond_lengths, theta_0, steps, write_every, optimize=False)"
      ]
    }
  ],
  "metadata": {
    "accelerator": "GPU",
    "colab": {
      "gpuType": "T4",
      "include_colab_link": true,
      "provenance": []
    },
    "kernelspec": {
      "display_name": "Python 3",
      "name": "python3"
    },
    "language_info": {
      "codemirror_mode": {
        "name": "ipython",
        "version": 3
      },
      "file_extension": ".py",
      "mimetype": "text/x-python",
      "name": "python",
      "nbconvert_exporter": "python",
      "pygments_lexer": "ipython3",
      "version": "3.10.8"
    },
    "orig_nbformat": 4
  },
  "nbformat": 4,
  "nbformat_minor": 0
}
