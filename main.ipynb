{
  "cells": [
    {
      "cell_type": "markdown",
      "metadata": {
        "colab_type": "text",
        "id": "view-in-github"
      },
      "source": [
        "<a href=\"https://colab.research.google.com/github/bylehn/auxetic_networks_jaxmd/blob/stress-response/auxetic.ipynb\" target=\"_parent\"><img src=\"https://colab.research.google.com/assets/colab-badge.svg\" alt=\"Open In Colab\"/></a>"
      ]
    },
    {
      "cell_type": "markdown",
      "metadata": {},
      "source": [
        "### Imports"
      ]
    },
    {
      "cell_type": "code",
      "execution_count": 1,
      "metadata": {
        "colab": {
          "base_uri": "https://localhost:8080/"
        },
        "id": "y-2KdU9bNvHG",
        "outputId": "3ad92b95-21f8-404a-bc93-dbae223e6620"
      },
      "outputs": [
        {
          "name": "stderr",
          "output_type": "stream",
          "text": [
            "No GPU/TPU found, falling back to CPU. (Set TF_CPP_MIN_LOG_LEVEL=0 and rerun for more info.)\n"
          ]
        }
      ],
      "source": [
        "#!pip install jax-md\n",
        "import jax.numpy as np\n",
        "import numpy as onp\n",
        "from jax import random\n",
        "from jax.config import config; config.update(\"jax_enable_x64\", True)\n",
        "from jax_md import space\n",
        "from jax import random, grad\n",
        "from jax import jit, vmap\n",
        "from jax import lax\n",
        "import networkx as nx\n",
        "import visualize\n",
        "import utils\n",
        "import simulation\n"
      ]
    },
    {
      "cell_type": "code",
      "execution_count": 2,
      "metadata": {},
      "outputs": [],
      "source": [
        "steps = 50\n",
        "write_every = 1\n",
        "perturbation = 1.0\n",
        "delta_perturbation = 0.1\n",
        "number_of_nodes_per_side = 10\n",
        "nr_trials=10\n",
        "dw=0.2\n",
        "w_c=2.0\n",
        "ageing_rate=0.01\n",
        "success_frac=0.05"
      ]
    },
    {
      "cell_type": "code",
      "execution_count": 3,
      "metadata": {},
      "outputs": [],
      "source": [
        "system = utils.System(number_of_nodes_per_side, 22, 2.0, 0.2, 1e-1)\n",
        "system.initialize()\n",
        "system.acoustic_parameters(w_c, dw, nr_trials, ageing_rate, success_frac)\n",
        "system.auxetic_parameters(perturbation, delta_perturbation, steps, write_every)\n",
        "displacement = system.displacement\n",
        "shift = system.shift\n",
        "R = system.X\n",
        "k_bond = system.spring_constants"
      ]
    },
    {
      "cell_type": "code",
      "execution_count": 4,
      "metadata": {},
      "outputs": [],
      "source": [
        "grad_f = grad(simulation.simulate_auxetic_optimize, argnums=1)"
      ]
    },
    {
      "cell_type": "code",
      "execution_count": 7,
      "metadata": {},
      "outputs": [],
      "source": [
        "poisson, log, R_init, R_final = simulation.simulate_auxetic(R,\n",
        "                                                            k_bond,\n",
        "                                                            system,\n",
        "                                                            shift,\n",
        "                                                            displacement)"
      ]
    },
    {
      "cell_type": "code",
      "execution_count": 8,
      "metadata": {},
      "outputs": [
        {
          "data": {
            "text/plain": [
              "Array(7.97889505, dtype=float64)"
            ]
          },
          "execution_count": 8,
          "metadata": {},
          "output_type": "execute_result"
        }
      ],
      "source": [
        "poisson"
      ]
    },
    {
      "cell_type": "code",
      "execution_count": 9,
      "metadata": {},
      "outputs": [
        {
          "name": "stdout",
          "output_type": "stream",
          "text": [
            "1 27 28\n",
            "2 26 23\n",
            "3 26 28\n",
            "4 26 22\n",
            "5 26 26\n",
            "6 26 29\n",
            "7 27 28\n",
            "8 27 26\n",
            "9 27 25\n",
            "10 28 21\n"
          ]
        }
      ],
      "source": [
        "\n",
        "k3,_,trial= simulation.optimize_ageing_compression(R, system, k_bond, shift, displacement)\n",
        "\n"
      ]
    }
  ],
  "metadata": {
    "accelerator": "GPU",
    "colab": {
      "gpuType": "T4",
      "include_colab_link": true,
      "provenance": []
    },
    "kernelspec": {
      "display_name": "Python 3",
      "name": "python3"
    },
    "language_info": {
      "codemirror_mode": {
        "name": "ipython",
        "version": 3
      },
      "file_extension": ".py",
      "mimetype": "text/x-python",
      "name": "python",
      "nbconvert_exporter": "python",
      "pygments_lexer": "ipython3",
      "version": "3.10.8"
    },
    "orig_nbformat": 4
  },
  "nbformat": 4,
  "nbformat_minor": 0
}
