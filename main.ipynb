{
  "cells": [
    {
      "cell_type": "markdown",
      "metadata": {
        "colab_type": "text",
        "id": "view-in-github"
      },
      "source": [
        "<a href=\"https://colab.research.google.com/github/bylehn/auxetic_networks_jaxmd/blob/stress-response/auxetic.ipynb\" target=\"_parent\"><img src=\"https://colab.research.google.com/assets/colab-badge.svg\" alt=\"Open In Colab\"/></a>"
      ]
    },
    {
      "cell_type": "markdown",
      "metadata": {},
      "source": [
        "### Imports"
      ]
    },
    {
      "cell_type": "code",
      "execution_count": 1,
      "metadata": {
        "colab": {
          "base_uri": "https://localhost:8080/"
        },
        "id": "y-2KdU9bNvHG",
        "outputId": "3ad92b95-21f8-404a-bc93-dbae223e6620"
      },
      "outputs": [
        {
          "name": "stderr",
          "output_type": "stream",
          "text": [
            "No GPU/TPU found, falling back to CPU. (Set TF_CPP_MIN_LOG_LEVEL=0 and rerun for more info.)\n"
          ]
        }
      ],
      "source": [
        "#!pip install jax-md\n",
        "import jax.numpy as np\n",
        "import numpy as onp\n",
        "from jax import random\n",
        "from jax.config import config; config.update(\"jax_enable_x64\", True)\n",
        "from jax_md import space\n",
        "from jax import random, grad\n",
        "from jax import jit, vmap\n",
        "from jax import lax\n",
        "import networkx as nx\n",
        "import visualize\n",
        "import utils\n",
        "import simulation\n"
      ]
    },
    {
      "cell_type": "code",
      "execution_count": 7,
      "metadata": {},
      "outputs": [],
      "source": [
        "steps = 50\n",
        "write_every = 1\n",
        "perturbation = 1.0\n",
        "delta_perturbation = 0.1\n",
        "number_of_nodes_per_side = 10\n",
        "\n",
        "system = utils.System(number_of_nodes_per_side, 22, 2.0, 0.2, 1e-1)\n",
        "system.initialize()\n",
        "displacement = system.displacement\n",
        "shift = system.shift\n",
        "R = system.X"
      ]
    },
    {
      "cell_type": "code",
      "execution_count": 6,
      "metadata": {},
      "outputs": [
        {
          "data": {
            "text/plain": [
              "Array([1.737385  , 0.94250834, 0.79487665, ..., 1.20291301, 0.26466755,\n",
              "       0.14759021], dtype=float64)"
            ]
          },
          "execution_count": 6,
          "metadata": {},
          "output_type": "execute_result"
        }
      ],
      "source": [
        "system.initial_angles"
      ]
    },
    {
      "cell_type": "code",
      "execution_count": null,
      "metadata": {},
      "outputs": [],
      "source": [
        "steps = 50\n",
        "write_every = 1\n",
        "perturbation = 1.0\n",
        "delta_perturbation = 0.1\n",
        "#create graph\n",
        "\n",
        "number_of_nodes_per_side = 10\n",
        "N,G,X,E,bond_lengths = utils.createDelaunayGraph(number_of_nodes_per_side, 22, 2.0, 0.2, 1e-1)\n",
        "R = np.array(X)\n",
        "k_angle = 1e-1\n",
        "k_bond, _ = utils.create_spring_constants(R,E,1.0)\n",
        "surface_nodes = utils.getSurfaceNodes(G, number_of_nodes_per_side)\n",
        "displacement, shift = space.free() #displacement = points in space, shift = small shifts of each particle\n",
        "\n",
        "grad_f = grad(simulation.simulate_auxetic, argnums=1)"
      ]
    },
    {
      "cell_type": "code",
      "execution_count": 8,
      "metadata": {},
      "outputs": [
        {
          "ename": "ValueError",
          "evalue": "vmap in_axes specification must be a tree prefix of the corresponding value, got specification (None, None, 0, 0, None) for value tree PyTreeDef((*, *, *)).",
          "output_type": "error",
          "traceback": [
            "\u001b[0;31m---------------------------------------------------------------------------\u001b[0m",
            "\u001b[0;31mValueError\u001b[0m                                Traceback (most recent call last)",
            "\u001b[1;32m/workspaces/auxetic_networks_jaxmd/main.ipynb Cell 7\u001b[0m line \u001b[0;36m1\n\u001b[0;32m----> <a href='vscode-notebook-cell://codespaces%2Bscaling-space-pancake-wvpjpjrqgpgcqx6/workspaces/auxetic_networks_jaxmd/main.ipynb#W4sdnNjb2RlLXJlbW90ZQ%3D%3D?line=0'>1</a>\u001b[0m poisson, log, R_init, R_final \u001b[39m=\u001b[39m simulation\u001b[39m.\u001b[39;49msimulate_auxetic(R, system, shift, perturbation, delta_perturbation, displacement, steps, write_every, optimize\u001b[39m=\u001b[39;49m\u001b[39mFalse\u001b[39;49;00m)\n",
            "File \u001b[0;32m/workspaces/auxetic_networks_jaxmd/simulation.py:125\u001b[0m, in \u001b[0;36msimulate_auxetic\u001b[0;34m(R, system, shift, perturbation, delta_perturbation, displacement, steps, write_every, optimize)\u001b[0m\n\u001b[1;32m    121\u001b[0m \u001b[39m# Exclude the first and last index for vertical edges (left and right)\u001b[39;00m\n\u001b[1;32m    122\u001b[0m \u001b[39m# as these are corners with the top and bottom edges\u001b[39;00m\n\u001b[1;32m    123\u001b[0m initial_vertical \u001b[39m=\u001b[39m np\u001b[39m.\u001b[39mmean(R_init[top_indices[\u001b[39m1\u001b[39m:\u001b[39m-\u001b[39m\u001b[39m1\u001b[39m]], axis\u001b[39m=\u001b[39m\u001b[39m0\u001b[39m)[\u001b[39m1\u001b[39m] \u001b[39m-\u001b[39m np\u001b[39m.\u001b[39mmean(R_init[bottom_indices[\u001b[39m1\u001b[39m:\u001b[39m-\u001b[39m\u001b[39m1\u001b[39m]], axis\u001b[39m=\u001b[39m\u001b[39m0\u001b[39m)[\u001b[39m1\u001b[39m]\n\u001b[0;32m--> 125\u001b[0m R_final, log, cumulative_perturbation \u001b[39m=\u001b[39m lax\u001b[39m.\u001b[39;49mfori_loop(\u001b[39m0\u001b[39;49m, num_iterations, perturb_and_minimize, (R_init, log, cumulative_perturbation))\n\u001b[1;32m    126\u001b[0m \u001b[39m# Final dimensions (after deformation)\u001b[39;00m\n\u001b[1;32m    127\u001b[0m final_horizontal \u001b[39m=\u001b[39m np\u001b[39m.\u001b[39mmean(R_final[right_indices[\u001b[39m1\u001b[39m:\u001b[39m-\u001b[39m\u001b[39m1\u001b[39m]], axis\u001b[39m=\u001b[39m\u001b[39m0\u001b[39m)[\u001b[39m0\u001b[39m] \u001b[39m-\u001b[39m np\u001b[39m.\u001b[39mmean(R_final[left_indices[\u001b[39m1\u001b[39m:\u001b[39m-\u001b[39m\u001b[39m1\u001b[39m]], axis\u001b[39m=\u001b[39m\u001b[39m0\u001b[39m)[\u001b[39m0\u001b[39m]\n",
            "    \u001b[0;31m[... skipping hidden 12 frame]\u001b[0m\n",
            "File \u001b[0;32m/workspaces/auxetic_networks_jaxmd/simulation.py:91\u001b[0m, in \u001b[0;36msimulate_auxetic.<locals>.perturb_and_minimize\u001b[0;34m(i, state_log_perturb)\u001b[0m\n\u001b[1;32m     89\u001b[0m \u001b[39m# Reinitialize the fire state with the new positions and updated force function\u001b[39;00m\n\u001b[1;32m     90\u001b[0m fire_init, fire_apply \u001b[39m=\u001b[39m minimize\u001b[39m.\u001b[39mfire_descent(force_fn, shift)\n\u001b[0;32m---> 91\u001b[0m fire_state \u001b[39m=\u001b[39m fire_init(R_perturbed)\n\u001b[1;32m     93\u001b[0m \u001b[39m# Update step function generator with the new start index\u001b[39;00m\n\u001b[1;32m     95\u001b[0m start_idx \u001b[39m=\u001b[39m i \u001b[39m*\u001b[39m (steps \u001b[39m/\u001b[39m\u001b[39m/\u001b[39m write_every)\n",
            "File \u001b[0;32m~/.cache/pypoetry/virtualenvs/networks-Hqct2YwN-py3.10/lib/python3.10/site-packages/jax_md/minimize.py:162\u001b[0m, in \u001b[0;36mfire_descent.<locals>.init_fn\u001b[0;34m(R, mass, **kwargs)\u001b[0m\n\u001b[1;32m    160\u001b[0m P \u001b[39m=\u001b[39m tree_map(\u001b[39mlambda\u001b[39;00m x: jnp\u001b[39m.\u001b[39mzeros_like(x), R)\n\u001b[1;32m    161\u001b[0m n_pos \u001b[39m=\u001b[39m jnp\u001b[39m.\u001b[39mzeros((), jnp\u001b[39m.\u001b[39mint32)\n\u001b[0;32m--> 162\u001b[0m F \u001b[39m=\u001b[39m force(R, \u001b[39m*\u001b[39;49m\u001b[39m*\u001b[39;49mkwargs)\n\u001b[1;32m    163\u001b[0m state \u001b[39m=\u001b[39m FireDescentState(R, P, F, mass, dt_start, alpha_start, n_pos)  \u001b[39m# pytype: disable=wrong-arg-count\u001b[39;00m\n\u001b[1;32m    164\u001b[0m \u001b[39mreturn\u001b[39;00m simulate\u001b[39m.\u001b[39mcanonicalize_mass(state)\n",
            "File \u001b[0;32m~/.cache/pypoetry/virtualenvs/networks-Hqct2YwN-py3.10/lib/python3.10/site-packages/jax_md/quantity.py:82\u001b[0m, in \u001b[0;36mcanonicalize_force.<locals>.force_fn\u001b[0;34m(R, **kwargs)\u001b[0m\n\u001b[1;32m     80\u001b[0m \u001b[39mnonlocal\u001b[39;00m _force_fn\n\u001b[1;32m     81\u001b[0m \u001b[39mif\u001b[39;00m _force_fn \u001b[39mis\u001b[39;00m \u001b[39mNone\u001b[39;00m:\n\u001b[0;32m---> 82\u001b[0m   out_shaped \u001b[39m=\u001b[39m eval_shape(energy_or_force_fn, R, \u001b[39m*\u001b[39;49m\u001b[39m*\u001b[39;49mkwargs)\n\u001b[1;32m     83\u001b[0m   \u001b[39mif\u001b[39;00m \u001b[39misinstance\u001b[39m(out_shaped, ShapeDtypeStruct) \u001b[39mand\u001b[39;00m out_shaped\u001b[39m.\u001b[39mshape \u001b[39m==\u001b[39m ():\n\u001b[1;32m     84\u001b[0m     _force_fn \u001b[39m=\u001b[39m force(energy_or_force_fn)\n",
            "    \u001b[0;31m[... skipping hidden 8 frame]\u001b[0m\n",
            "File \u001b[0;32m/workspaces/auxetic_networks_jaxmd/energies.py:21\u001b[0m, in \u001b[0;36mconstrained_force_fn.<locals>.new_force_fn\u001b[0;34m(R)\u001b[0m\n\u001b[1;32m     19\u001b[0m \u001b[39mdef\u001b[39;00m \u001b[39mnew_force_fn\u001b[39m(R):\n\u001b[1;32m     20\u001b[0m     force_fn \u001b[39m=\u001b[39m quantity\u001b[39m.\u001b[39mforce(energy_fn)\n\u001b[0;32m---> 21\u001b[0m     total_force \u001b[39m=\u001b[39m force_fn(R)\n\u001b[1;32m     22\u001b[0m     total_force \u001b[39m*\u001b[39m\u001b[39m=\u001b[39m mask\n\u001b[1;32m     23\u001b[0m     \u001b[39mreturn\u001b[39;00m total_force\n",
            "    \u001b[0;31m[... skipping hidden 10 frame]\u001b[0m\n",
            "File \u001b[0;32m~/.cache/pypoetry/virtualenvs/networks-Hqct2YwN-py3.10/lib/python3.10/site-packages/jax_md/quantity.py:62\u001b[0m, in \u001b[0;36mforce.<locals>.<lambda>\u001b[0;34m(R, *args, **kwargs)\u001b[0m\n\u001b[1;32m     60\u001b[0m \u001b[39mdef\u001b[39;00m \u001b[39mforce\u001b[39m(energy_fn: EnergyFn) \u001b[39m-\u001b[39m\u001b[39m>\u001b[39m ForceFn:\n\u001b[1;32m     61\u001b[0m \u001b[39m  \u001b[39m\u001b[39m\"\"\"Computes the force as the negative gradient of an energy.\"\"\"\u001b[39;00m\n\u001b[0;32m---> 62\u001b[0m   \u001b[39mreturn\u001b[39;00m grad(\u001b[39mlambda\u001b[39;00m R, \u001b[39m*\u001b[39margs, \u001b[39m*\u001b[39m\u001b[39m*\u001b[39mkwargs: \u001b[39m-\u001b[39menergy_fn(R, \u001b[39m*\u001b[39;49margs, \u001b[39m*\u001b[39;49m\u001b[39m*\u001b[39;49mkwargs))\n",
            "File \u001b[0;32m/workspaces/auxetic_networks_jaxmd/simulation.py:113\u001b[0m, in \u001b[0;36msimulate_auxetic.<locals>.energy_fn_wrapper\u001b[0;34m(R, **kwargs)\u001b[0m\n\u001b[1;32m    112\u001b[0m \u001b[39mdef\u001b[39;00m \u001b[39menergy_fn_wrapper\u001b[39m(R, \u001b[39m*\u001b[39m\u001b[39m*\u001b[39mkwargs):\n\u001b[0;32m--> 113\u001b[0m     \u001b[39mreturn\u001b[39;00m energy_fn(R, system, \u001b[39m*\u001b[39;49m\u001b[39m*\u001b[39;49mkwargs)\n",
            "File \u001b[0;32m/workspaces/auxetic_networks_jaxmd/simulation.py:106\u001b[0m, in \u001b[0;36msimulate_auxetic.<locals>.energy_fn\u001b[0;34m(R, system, **kwargs)\u001b[0m\n\u001b[1;32m    105\u001b[0m \u001b[39mdef\u001b[39;00m \u001b[39menergy_fn\u001b[39m(R, system, \u001b[39m*\u001b[39m\u001b[39m*\u001b[39mkwargs):\n\u001b[0;32m--> 106\u001b[0m     angle_energy \u001b[39m=\u001b[39m np\u001b[39m.\u001b[39msum(energies\u001b[39m.\u001b[39;49mvectorized_angle_energy(system, displacement, R))\n\u001b[1;32m    107\u001b[0m     \u001b[39m# Bond energy (assuming that simple_spring_bond is JAX-compatible)\u001b[39;00m\n\u001b[1;32m    108\u001b[0m     bond_energy \u001b[39m=\u001b[39m energy\u001b[39m.\u001b[39msimple_spring_bond(displacement, system\u001b[39m.\u001b[39mE, length\u001b[39m=\u001b[39msystem\u001b[39m.\u001b[39mL, epsilon\u001b[39m=\u001b[39msystem\u001b[39m.\u001b[39mspring_constants[:, \u001b[39m0\u001b[39m])(R, \u001b[39m*\u001b[39m\u001b[39m*\u001b[39mkwargs)\n",
            "    \u001b[0;31m[... skipping hidden 2 frame]\u001b[0m\n",
            "File \u001b[0;32m~/.cache/pypoetry/virtualenvs/networks-Hqct2YwN-py3.10/lib/python3.10/site-packages/jax/_src/api_util.py:420\u001b[0m, in \u001b[0;36mflatten_axes\u001b[0;34m(name, treedef, axis_tree, kws, tupled_args)\u001b[0m\n\u001b[1;32m    416\u001b[0m       \u001b[39melse\u001b[39;00m:\n\u001b[1;32m    417\u001b[0m         hint \u001b[39m+\u001b[39m\u001b[39m=\u001b[39m (\u001b[39mf\u001b[39m\u001b[39m\"\u001b[39m\u001b[39m In particular, you\u001b[39m\u001b[39m'\u001b[39m\u001b[39mre passing in a single argument which \u001b[39m\u001b[39m\"\u001b[39m\n\u001b[1;32m    418\u001b[0m                  \u001b[39mf\u001b[39m\u001b[39m\"\u001b[39m\u001b[39mmeans that \u001b[39m\u001b[39m{\u001b[39;00mname\u001b[39m}\u001b[39;00m\u001b[39m might need to be wrapped in \u001b[39m\u001b[39m\"\u001b[39m\n\u001b[1;32m    419\u001b[0m                  \u001b[39mf\u001b[39m\u001b[39m\"\u001b[39m\u001b[39ma singleton tuple.\u001b[39m\u001b[39m\"\u001b[39m)\n\u001b[0;32m--> 420\u001b[0m   \u001b[39mraise\u001b[39;00m \u001b[39mValueError\u001b[39;00m(\u001b[39mf\u001b[39m\u001b[39m\"\u001b[39m\u001b[39m{\u001b[39;00mname\u001b[39m}\u001b[39;00m\u001b[39m specification must be a tree prefix of the \u001b[39m\u001b[39m\"\u001b[39m\n\u001b[1;32m    421\u001b[0m                    \u001b[39mf\u001b[39m\u001b[39m\"\u001b[39m\u001b[39mcorresponding value, got specification \u001b[39m\u001b[39m{\u001b[39;00maxis_tree\u001b[39m}\u001b[39;00m\u001b[39m \u001b[39m\u001b[39m\"\u001b[39m\n\u001b[1;32m    422\u001b[0m                    \u001b[39mf\u001b[39m\u001b[39m\"\u001b[39m\u001b[39mfor value tree \u001b[39m\u001b[39m{\u001b[39;00mtreedef\u001b[39m}\u001b[39;00m\u001b[39m.\u001b[39m\u001b[39m{\u001b[39;00mhint\u001b[39m}\u001b[39;00m\u001b[39m\"\u001b[39m) \u001b[39mfrom\u001b[39;00m \u001b[39mNone\u001b[39;00m\n\u001b[1;32m    423\u001b[0m axes \u001b[39m=\u001b[39m [\u001b[39mNone\u001b[39;00m \u001b[39mif\u001b[39;00m a \u001b[39mis\u001b[39;00m proxy \u001b[39melse\u001b[39;00m a \u001b[39mfor\u001b[39;00m a \u001b[39min\u001b[39;00m axes]\n\u001b[1;32m    424\u001b[0m \u001b[39massert\u001b[39;00m \u001b[39mlen\u001b[39m(axes) \u001b[39m==\u001b[39m treedef\u001b[39m.\u001b[39mnum_leaves\n",
            "\u001b[0;31mValueError\u001b[0m: vmap in_axes specification must be a tree prefix of the corresponding value, got specification (None, None, 0, 0, None) for value tree PyTreeDef((*, *, *))."
          ]
        }
      ],
      "source": [
        "poisson, log, R_init, R_final = simulation.simulate_auxetic(R, system, shift, perturbation, delta_perturbation, displacement, steps, write_every, optimize=False)"
      ]
    },
    {
      "cell_type": "code",
      "execution_count": null,
      "metadata": {},
      "outputs": [],
      "source": [
        "poisson"
      ]
    },
    {
      "cell_type": "code",
      "execution_count": null,
      "metadata": {},
      "outputs": [],
      "source": [
        "\n",
        "N_trials=10\n",
        "dw=0.2\n",
        "w_c=2.0\n",
        "\n",
        "ageing_rate=0.01\n",
        "success_frac=0.05\n",
        "freq_range=[w_c-dw/2,w_c+dw/2]\n",
        "D_range = [x**2 for x in freq_range]\n",
        "\n",
        "#create graph\n",
        "number_of_nodes_per_side = 8\n",
        "N,G,X,E,bond_lengths = utils.createDelaunayGraph(number_of_nodes_per_side, 25, 2.0, 0.4)\n",
        "R = np.array(X)\n",
        "k_angle = 1e-2\n",
        "k_bond, _ = utils.create_spring_constants(R,E,1.0)\n",
        "surface_nodes = utils.getSurfaceNodes(G, number_of_nodes_per_side)\n",
        "displacement, shift = space.free() #displacement = points in space, shift = small shifts of each particle\n",
        "angle_triplets_data = utils.calculate_angle_triplets(E)\n",
        "theta_0 = utils.calculate_initial_angles(R, displacement, E, angle_triplets_data)\n",
        "grad_f = grad(simulation.simulate_auxetic, argnums=1)\n",
        "perturbation = 1\n",
        "delta_perturbation = 0.1\n",
        "\n",
        "M = simulation.get_mass(N, G)\n",
        "m = np.ones(N)\n",
        "\n",
        "k3,_,trial= simulation.optimizeAgeingCompression(R, M, m, G, N, w_c, dw, N_trials,ageing_rate,success_frac, k_bond, k_angle, shift, surface_nodes, perturbation, delta_perturbation, displacement, E, bond_lengths, theta_0, steps, write_every)"
      ]
    }
  ],
  "metadata": {
    "accelerator": "GPU",
    "colab": {
      "gpuType": "T4",
      "include_colab_link": true,
      "provenance": []
    },
    "kernelspec": {
      "display_name": "Python 3",
      "name": "python3"
    },
    "language_info": {
      "codemirror_mode": {
        "name": "ipython",
        "version": 3
      },
      "file_extension": ".py",
      "mimetype": "text/x-python",
      "name": "python",
      "nbconvert_exporter": "python",
      "pygments_lexer": "ipython3",
      "version": "3.10.8"
    },
    "orig_nbformat": 4
  },
  "nbformat": 4,
  "nbformat_minor": 0
}
